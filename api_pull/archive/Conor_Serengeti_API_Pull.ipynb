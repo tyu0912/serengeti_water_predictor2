{
 "cells": [
  {
   "cell_type": "code",
   "execution_count": 16,
   "metadata": {},
   "outputs": [
    {
     "ename": "ModuleNotFoundError",
     "evalue": "No module named 'config'",
     "output_type": "error",
     "traceback": [
      "\u001b[0;31m---------------------------------------------------------------------------\u001b[0m",
      "\u001b[0;31mModuleNotFoundError\u001b[0m                       Traceback (most recent call last)",
      "\u001b[0;32m<ipython-input-16-f71875b14f4e>\u001b[0m in \u001b[0;36m<module>\u001b[0;34m\u001b[0m\n\u001b[1;32m     13\u001b[0m \u001b[0;32mimport\u001b[0m \u001b[0mpathlib\u001b[0m\u001b[0;34m\u001b[0m\u001b[0;34m\u001b[0m\u001b[0m\n\u001b[1;32m     14\u001b[0m \u001b[0;32mimport\u001b[0m \u001b[0mboto3\u001b[0m\u001b[0;34m\u001b[0m\u001b[0;34m\u001b[0m\u001b[0m\n\u001b[0;32m---> 15\u001b[0;31m \u001b[0;32mfrom\u001b[0m \u001b[0mconfig\u001b[0m \u001b[0;32mimport\u001b[0m \u001b[0mACCESS_KEY\u001b[0m\u001b[0;34m,\u001b[0m\u001b[0mSECRET_KEY\u001b[0m\u001b[0;34m\u001b[0m\u001b[0;34m\u001b[0m\u001b[0m\n\u001b[0m",
      "\u001b[0;31mModuleNotFoundError\u001b[0m: No module named 'config'"
     ]
    }
   ],
   "source": [
    "1+1\n",
    "import pandas as pd\n",
    "import geopandas as gpd\n",
    "from shapely.geometry import Point\n",
    "import matplotlib.pyplot as plt\n",
    "import json\n",
    "from datetime import date, datetime, timedelta\n",
    "import time\n",
    "import os\n",
    "import numpy as np\n",
    "import requests\n",
    "from requests.auth import HTTPBasicAuth\n",
    "import pathlib\n",
    "from config import ACCESS_KEY,SECRET_KEY\n",
    "import boto3"
   ]
  },
  {
   "cell_type": "code",
   "execution_count": 19,
   "metadata": {},
   "outputs": [],
   "source": [
    "import pandas as pd\n",
    "import geopandas as gpd\n",
    "from shapely.geometry import Point\n",
    "import matplotlib.pyplot as plt\n",
    "import json\n",
    "from datetime import date, datetime, timedelta\n",
    "import time\n",
    "import os\n",
    "import numpy as np\n",
    "import requests\n",
    "from requests.auth import HTTPBasicAuth\n",
    "import pathlib\n",
    "# from config import ACCESS_KEY,SECRET_KEY\n",
    "import boto3\n",
    "\n",
    "\n",
    "# Generating Order\n",
    "# API Key stored as an env variable\n",
    "PL_API_KEY = 'd1522b0573f548ea8233d09b9a917b74'\n",
    "PLANET_API_KEY = PL_API_KEY #os.getenv('PL_API_KEY')\n",
    "orders_v2_url = 'https://api.planet.com/compute/ops/orders/v2'\n",
    "\n",
    "# set up requests to work with api\n",
    "auth = HTTPBasicAuth(PLANET_API_KEY, '')\n",
    "headers = {'content-type': 'application/json'}\n",
    "\n",
    "\n",
    "item_type = \"PSScene4Band\""
   ]
  },
  {
   "cell_type": "code",
   "execution_count": 20,
   "metadata": {},
   "outputs": [
    {
     "name": "stderr",
     "output_type": "stream",
     "text": [
      "/Users/piper/anaconda2/envs/py36/lib/python3.6/site-packages/pyproj/crs/crs.py:55: FutureWarning: '+init=<authority>:<code>' syntax is deprecated. '<authority>:<code>' is the preferred initialization method. When making the change, be mindful of axis order changes: https://pyproj4.github.io/pyproj/stable/gotchas.html#axis-order-changes-in-proj-6\n",
      "  return _prepare_from_string(\" \".join(pjargs))\n"
     ]
    }
   ],
   "source": [
    "waypoint_data = {\n",
    "    'Waypoint' : ['Orangi River', 'Mara River', 'Sand River', 'Grumeti River', 'Lake Masek', \n",
    "                  'Lake Magadi', 'Lake Empakaai', 'Lake Magadi 2', 'Mbalageti River', 'Ruwana River', 'Talek River'],\n",
    "    'latitude' : [-2.302313, -1.562928, -1.595733, -2.249034, -3.024818, -3.202214, -2.915433, -2.656248, -2.603015, -2.044819, -1.416096],\n",
    "    'longitude' : [34.830777, 34.997068, 35.069241, 34.486842, 35.038474, 35.536431, 35.841355, 34.788239, 34.720511, 34.230374, 35.097661]\n",
    "}\n",
    "\n",
    "\n",
    "waypoint_df = pd.DataFrame(waypoint_data)\n",
    "waypoint_gdf = gpd.GeoDataFrame(waypoint_df, geometry=gpd.points_from_xy(waypoint_df.longitude, waypoint_df.latitude))\n",
    "\n",
    "# Applying WGS84 to the CRS\n",
    "waypoint_gdf.crs = {'init' :'epsg:4326'} \n",
    "\n",
    "# Converting geodataframe to Meters from Lat/Long\n",
    "# Allows for square buffer to be applied (450m)\n",
    "point_gdf_m = waypoint_gdf.to_crs(epsg=3395)\n",
    "\n",
    "# Applying the buffer, cap_style = 3 --> Square Buffer\n",
    "buffer = point_gdf_m.buffer(450, cap_style=3)\n",
    "\n",
    "# Convert buffer back to WGS84 Lat/Long\n",
    "buffer_wgs84 = buffer.to_crs(epsg=4326)\n",
    "\n",
    "# Merging GDF and DF to get the Waypoint names\n",
    "joined_buffer_wgs84 = pd.concat([waypoint_df,buffer_wgs84], axis=1)\n",
    "joined_buffer_wgs84 = joined_buffer_wgs84.rename(columns = {0:'polygon'}).set_geometry('polygon')\n",
    "joined_buffer_wgs84_drop = joined_buffer_wgs84.drop(['geometry'], axis=1)\n",
    "joined_buffer_wgs84_json = joined_buffer_wgs84_drop.to_json()\n",
    "\n",
    "# transforming to json for inclusion into Planet API\n",
    "buffer_wgs84_json_parsed = json.loads(joined_buffer_wgs84_json)\n",
    "buffer_wgs84_json_api = buffer_wgs84_json_parsed['features']#[0]['geometry']['coordinates']\n",
    "\n",
    "\n",
    "today = datetime.isoformat(datetime.utcnow())+'Z'#(datetime.today())\n",
    "start_date = datetime.isoformat(datetime.utcnow() - timedelta(7)) + 'Z'"
   ]
  },
  {
   "cell_type": "code",
   "execution_count": 21,
   "metadata": {},
   "outputs": [],
   "source": [
    "# Getting Image ID's for each waypoint that has the analytic_sr dataset \n",
    "# Having to ping the Planet V1 API to return the image id's for our required filter\n",
    "# Filter variables include: Center Coordinate, Date Range, Cloud Cover, Item Type and Asset Type\n",
    "\n",
    "\n",
    "def build_order(index):\n",
    "    geojson_geometry = {\n",
    "    \"type\": \"Point\",\n",
    "    \"coordinates\": [\n",
    "        index['properties']['longitude'], index['properties']['latitude']\n",
    "        ]\n",
    "    }\n",
    "\n",
    "    # get images that overlap with our AOI \n",
    "    geometry_filter = {\n",
    "      \"type\": \"GeometryFilter\",\n",
    "      \"field_name\": \"geometry\",\n",
    "      \"config\": geojson_geometry\n",
    "    }\n",
    "\n",
    "    date_range_filter = {\n",
    "      \"type\": \"DateRangeFilter\",\n",
    "      \"field_name\": \"acquired\",\n",
    "      \"config\": {\n",
    "        \"gte\": start_date,\n",
    "        \"lte\": today\n",
    "      }\n",
    "    }\n",
    "\n",
    "    # only get images which have <10% cloud coverage\n",
    "    cloud_cover_filter = {\n",
    "      \"type\": \"RangeFilter\",\n",
    "      \"field_name\": \"cloud_cover\",\n",
    "      \"config\": {\n",
    "        \"lte\": 0.1\n",
    "      }\n",
    "    }\n",
    "\n",
    "    # combine our geo, date, cloud filters\n",
    "    combined_filter = {\n",
    "      \"type\": \"AndFilter\",\n",
    "      \"config\": [geometry_filter, date_range_filter, cloud_cover_filter]\n",
    "    }\n",
    "    \n",
    "    # API request object\n",
    "    search_request = {\n",
    "        \"interval\": \"day\",\n",
    "        \"item_types\": [item_type],\n",
    "        \"asset_types\" : \"analytic_sr\",\n",
    "        \"filter\": combined_filter\n",
    "    }\n",
    "    \n",
    "    search_result = \\\n",
    "      requests.post(\n",
    "        'https://api.planet.com/data/v1/quick-search',\n",
    "    #     'https://api.planet.com/data/v2',\n",
    "        auth=HTTPBasicAuth(PLANET_API_KEY, ''),\n",
    "        json=search_request)\n",
    "\n",
    "    return search_result\n",
    "\n",
    "\n",
    "\n",
    "id_list = []\n",
    "\n",
    "for index in buffer_wgs84_json_api:\n",
    "    waypoint = index[\"properties\"][\"Waypoint\"]\n",
    "    order = build_order(index).json()['features']\n",
    "#     print(len(order))\n",
    "\n",
    "\n",
    "# appending Image ID to `joined_buffer_wgs84_drop_merge` if the analytic_sr is available\n",
    "# Will only return image id's that meet this requirement.\n",
    "    for i in order:\n",
    "        #print(order)\n",
    "        if \"assets.analytic_sr:download\" in order[0][\"_permissions\"]:\n",
    "            id_list.append((waypoint,order[0][\"id\"]))\n",
    "\n",
    "id_list = list(set(id_list))"
   ]
  },
  {
   "cell_type": "code",
   "execution_count": 22,
   "metadata": {},
   "outputs": [
    {
     "data": {
      "text/plain": [
       "[('Orangi River', '20200311_074225_103b'),\n",
       " ('Lake Magadi 2', '20200308_084112_13_1065'),\n",
       " ('Mbalageti River', '20200311_074230_103b'),\n",
       " ('Sand River', '20200312_064310_1053'),\n",
       " ('Mara River', '20200312_064311_1053'),\n",
       " ('Ruwana River', '20200308_074723_1009')]"
      ]
     },
     "execution_count": 22,
     "metadata": {},
     "output_type": "execute_result"
    }
   ],
   "source": [
    "id_list"
   ]
  },
  {
   "cell_type": "code",
   "execution_count": 23,
   "metadata": {},
   "outputs": [
    {
     "data": {
      "text/html": [
       "<div>\n",
       "<style scoped>\n",
       "    .dataframe tbody tr th:only-of-type {\n",
       "        vertical-align: middle;\n",
       "    }\n",
       "\n",
       "    .dataframe tbody tr th {\n",
       "        vertical-align: top;\n",
       "    }\n",
       "\n",
       "    .dataframe thead th {\n",
       "        text-align: right;\n",
       "    }\n",
       "</style>\n",
       "<table border=\"1\" class=\"dataframe\">\n",
       "  <thead>\n",
       "    <tr style=\"text-align: right;\">\n",
       "      <th></th>\n",
       "      <th>Waypoint</th>\n",
       "      <th>Image_ID</th>\n",
       "      <th>latitude</th>\n",
       "      <th>longitude</th>\n",
       "      <th>polygon</th>\n",
       "    </tr>\n",
       "  </thead>\n",
       "  <tbody>\n",
       "    <tr>\n",
       "      <th>0</th>\n",
       "      <td>Orangi River</td>\n",
       "      <td>20200311_074225_103b</td>\n",
       "      <td>-2.302313</td>\n",
       "      <td>34.830777</td>\n",
       "      <td>POLYGON ((34.83482 -2.29825, 34.83482 -2.30638...</td>\n",
       "    </tr>\n",
       "    <tr>\n",
       "      <th>1</th>\n",
       "      <td>Lake Magadi 2</td>\n",
       "      <td>20200308_084112_13_1065</td>\n",
       "      <td>-2.656248</td>\n",
       "      <td>34.788239</td>\n",
       "      <td>POLYGON ((34.79228 -2.65218, 34.79228 -2.66031...</td>\n",
       "    </tr>\n",
       "    <tr>\n",
       "      <th>2</th>\n",
       "      <td>Mbalageti River</td>\n",
       "      <td>20200311_074230_103b</td>\n",
       "      <td>-2.603015</td>\n",
       "      <td>34.720511</td>\n",
       "      <td>POLYGON ((34.72455 -2.59895, 34.72455 -2.60708...</td>\n",
       "    </tr>\n",
       "    <tr>\n",
       "      <th>3</th>\n",
       "      <td>Sand River</td>\n",
       "      <td>20200312_064310_1053</td>\n",
       "      <td>-1.595733</td>\n",
       "      <td>35.069241</td>\n",
       "      <td>POLYGON ((35.07328 -1.59166, 35.07328 -1.59980...</td>\n",
       "    </tr>\n",
       "    <tr>\n",
       "      <th>4</th>\n",
       "      <td>Mara River</td>\n",
       "      <td>20200312_064311_1053</td>\n",
       "      <td>-1.562928</td>\n",
       "      <td>34.997068</td>\n",
       "      <td>POLYGON ((35.00111 -1.55886, 35.00111 -1.56700...</td>\n",
       "    </tr>\n",
       "    <tr>\n",
       "      <th>5</th>\n",
       "      <td>Ruwana River</td>\n",
       "      <td>20200308_074723_1009</td>\n",
       "      <td>-2.044819</td>\n",
       "      <td>34.230374</td>\n",
       "      <td>POLYGON ((34.23442 -2.04075, 34.23442 -2.04889...</td>\n",
       "    </tr>\n",
       "  </tbody>\n",
       "</table>\n",
       "</div>"
      ],
      "text/plain": [
       "          Waypoint                 Image_ID  latitude  longitude  \\\n",
       "0     Orangi River     20200311_074225_103b -2.302313  34.830777   \n",
       "1    Lake Magadi 2  20200308_084112_13_1065 -2.656248  34.788239   \n",
       "2  Mbalageti River     20200311_074230_103b -2.603015  34.720511   \n",
       "3       Sand River     20200312_064310_1053 -1.595733  35.069241   \n",
       "4       Mara River     20200312_064311_1053 -1.562928  34.997068   \n",
       "5     Ruwana River     20200308_074723_1009 -2.044819  34.230374   \n",
       "\n",
       "                                             polygon  \n",
       "0  POLYGON ((34.83482 -2.29825, 34.83482 -2.30638...  \n",
       "1  POLYGON ((34.79228 -2.65218, 34.79228 -2.66031...  \n",
       "2  POLYGON ((34.72455 -2.59895, 34.72455 -2.60708...  \n",
       "3  POLYGON ((35.07328 -1.59166, 35.07328 -1.59980...  \n",
       "4  POLYGON ((35.00111 -1.55886, 35.00111 -1.56700...  \n",
       "5  POLYGON ((34.23442 -2.04075, 34.23442 -2.04889...  "
      ]
     },
     "execution_count": 23,
     "metadata": {},
     "output_type": "execute_result"
    }
   ],
   "source": [
    "# Merging image id's to the dataframe to maintain continuity\n",
    "\n",
    "image_ids = pd.DataFrame(np.asarray(id_list))\n",
    "image_ids.rename(columns = {0:'Waypoint', 1:'Image_ID'}, inplace = True) \n",
    "\n",
    "joined_buffer_wgs84_drop_merge = pd.merge(image_ids, joined_buffer_wgs84_drop, on='Waypoint')\n",
    "joined_buffer_wgs84_drop_merge"
   ]
  },
  {
   "cell_type": "code",
   "execution_count": 25,
   "metadata": {},
   "outputs": [
    {
     "data": {
      "text/html": [
       "<div>\n",
       "<style scoped>\n",
       "    .dataframe tbody tr th:only-of-type {\n",
       "        vertical-align: middle;\n",
       "    }\n",
       "\n",
       "    .dataframe tbody tr th {\n",
       "        vertical-align: top;\n",
       "    }\n",
       "\n",
       "    .dataframe thead th {\n",
       "        text-align: right;\n",
       "    }\n",
       "</style>\n",
       "<table border=\"1\" class=\"dataframe\">\n",
       "  <thead>\n",
       "    <tr style=\"text-align: right;\">\n",
       "      <th></th>\n",
       "      <th>Waypoint</th>\n",
       "      <th>Image_ID</th>\n",
       "      <th>latitude</th>\n",
       "      <th>longitude</th>\n",
       "      <th>polygon</th>\n",
       "      <th>poly_list</th>\n",
       "    </tr>\n",
       "  </thead>\n",
       "  <tbody>\n",
       "    <tr>\n",
       "      <th>0</th>\n",
       "      <td>Orangi River</td>\n",
       "      <td>20200311_074225_103b</td>\n",
       "      <td>-2.302313</td>\n",
       "      <td>34.830777</td>\n",
       "      <td>POLYGON ((34.83482 -2.29825, 34.83482 -2.30638...</td>\n",
       "      <td>[[34.83481941877853, -2.298246660514488], [34....</td>\n",
       "    </tr>\n",
       "    <tr>\n",
       "      <th>1</th>\n",
       "      <td>Lake Magadi 2</td>\n",
       "      <td>20200308_084112_13_1065</td>\n",
       "      <td>-2.656248</td>\n",
       "      <td>34.788239</td>\n",
       "      <td>POLYGON ((34.79228 -2.65218, 34.79228 -2.66031...</td>\n",
       "      <td>[[34.79228141877853, -2.652182761619736], [34....</td>\n",
       "    </tr>\n",
       "    <tr>\n",
       "      <th>2</th>\n",
       "      <td>Mbalageti River</td>\n",
       "      <td>20200311_074230_103b</td>\n",
       "      <td>-2.603015</td>\n",
       "      <td>34.720511</td>\n",
       "      <td>POLYGON ((34.72455 -2.59895, 34.72455 -2.60708...</td>\n",
       "      <td>[[34.724553418778534, -2.598949585965823], [34...</td>\n",
       "    </tr>\n",
       "    <tr>\n",
       "      <th>3</th>\n",
       "      <td>Sand River</td>\n",
       "      <td>20200312_064310_1053</td>\n",
       "      <td>-1.595733</td>\n",
       "      <td>35.069241</td>\n",
       "      <td>POLYGON ((35.07328 -1.59166, 35.07328 -1.59980...</td>\n",
       "      <td>[[35.07328341877854, -1.5916649326258994], [35...</td>\n",
       "    </tr>\n",
       "    <tr>\n",
       "      <th>4</th>\n",
       "      <td>Mara River</td>\n",
       "      <td>20200312_064311_1053</td>\n",
       "      <td>-1.562928</td>\n",
       "      <td>34.997068</td>\n",
       "      <td>POLYGON ((35.00111 -1.55886, 35.00111 -1.56700...</td>\n",
       "      <td>[[35.00111041877854, -1.558859867631091], [35....</td>\n",
       "    </tr>\n",
       "    <tr>\n",
       "      <th>5</th>\n",
       "      <td>Ruwana River</td>\n",
       "      <td>20200308_074723_1009</td>\n",
       "      <td>-2.044819</td>\n",
       "      <td>34.230374</td>\n",
       "      <td>POLYGON ((34.23442 -2.04075, 34.23442 -2.04889...</td>\n",
       "      <td>[[34.23441641877854, -2.040751958243945], [34....</td>\n",
       "    </tr>\n",
       "  </tbody>\n",
       "</table>\n",
       "</div>"
      ],
      "text/plain": [
       "          Waypoint                 Image_ID  latitude  longitude  \\\n",
       "0     Orangi River     20200311_074225_103b -2.302313  34.830777   \n",
       "1    Lake Magadi 2  20200308_084112_13_1065 -2.656248  34.788239   \n",
       "2  Mbalageti River     20200311_074230_103b -2.603015  34.720511   \n",
       "3       Sand River     20200312_064310_1053 -1.595733  35.069241   \n",
       "4       Mara River     20200312_064311_1053 -1.562928  34.997068   \n",
       "5     Ruwana River     20200308_074723_1009 -2.044819  34.230374   \n",
       "\n",
       "                                             polygon  \\\n",
       "0  POLYGON ((34.83482 -2.29825, 34.83482 -2.30638...   \n",
       "1  POLYGON ((34.79228 -2.65218, 34.79228 -2.66031...   \n",
       "2  POLYGON ((34.72455 -2.59895, 34.72455 -2.60708...   \n",
       "3  POLYGON ((35.07328 -1.59166, 35.07328 -1.59980...   \n",
       "4  POLYGON ((35.00111 -1.55886, 35.00111 -1.56700...   \n",
       "5  POLYGON ((34.23442 -2.04075, 34.23442 -2.04889...   \n",
       "\n",
       "                                           poly_list  \n",
       "0  [[34.83481941877853, -2.298246660514488], [34....  \n",
       "1  [[34.79228141877853, -2.652182761619736], [34....  \n",
       "2  [[34.724553418778534, -2.598949585965823], [34...  \n",
       "3  [[35.07328341877854, -1.5916649326258994], [35...  \n",
       "4  [[35.00111041877854, -1.558859867631091], [35....  \n",
       "5  [[34.23441641877854, -2.040751958243945], [34....  "
      ]
     },
     "execution_count": 25,
     "metadata": {},
     "output_type": "execute_result"
    }
   ],
   "source": [
    "# Converting list of tuple polygons to list of lists polygons\n",
    "# This step is necessary to pull the Geometry from `joined_buffer_wgs84_drop_merge`\n",
    "# and convert to a list of lists...appending to `joined_buffer_wgs84_drop_merge`.\n",
    "\n",
    "def coord_lister(geom):\n",
    "    coords = list(geom.exterior.coords)\n",
    "    return (coords)\n",
    "\n",
    "coordinates = joined_buffer_wgs84_drop_merge.polygon.apply(coord_lister)\n",
    "res = []\n",
    "for poly in coordinates:\n",
    "    res_2 = list(map(list, poly)) \n",
    "    res.append(res_2)\n",
    "\n",
    "joined_buffer_wgs84_drop_merge['poly_list'] = res\n",
    "# joined_buffer_wgs84_drop_merge will be used as the basis for all remaining functions\n",
    "joined_buffer_wgs84_drop_merge"
   ]
  },
  {
   "cell_type": "code",
   "execution_count": 26,
   "metadata": {},
   "outputs": [
    {
     "data": {
      "text/plain": [
       "['https://api.planet.com/data/v1/item-types/PSScene4Band/items/20200311_074225_103b/assets',\n",
       " 'https://api.planet.com/data/v1/item-types/PSScene4Band/items/20200308_084112_13_1065/assets',\n",
       " 'https://api.planet.com/data/v1/item-types/PSScene4Band/items/20200311_074230_103b/assets',\n",
       " 'https://api.planet.com/data/v1/item-types/PSScene4Band/items/20200312_064310_1053/assets',\n",
       " 'https://api.planet.com/data/v1/item-types/PSScene4Band/items/20200312_064311_1053/assets',\n",
       " 'https://api.planet.com/data/v1/item-types/PSScene4Band/items/20200308_074723_1009/assets']"
      ]
     },
     "execution_count": 26,
     "metadata": {},
     "output_type": "execute_result"
    }
   ],
   "source": [
    "# Creating the URLs to activate the images...prevents latency during download\n",
    "id0_url = []\n",
    "for id0 in joined_buffer_wgs84_drop_merge['Image_ID']:\n",
    "    id0_url_2 = 'https://api.planet.com/data/v1/item-types/{}/items/{}/assets'.format(item_type, id0)\n",
    "    id0_url.append(id0_url_2)\n",
    "\n",
    "id0_url\n"
   ]
  },
  {
   "cell_type": "code",
   "execution_count": 27,
   "metadata": {},
   "outputs": [],
   "source": [
    "# Returns JSON metadata for assets in this ID. \n",
    "# Learn more: planet.com/docs/reference/data-api/items-assets/#asset\n",
    "result = []\n",
    "for link in id0_url:\n",
    "#     print(link)\n",
    "    result1 = \\\n",
    "      requests.get(\n",
    "        link,\n",
    "        auth=HTTPBasicAuth(PLANET_API_KEY, '')\n",
    "      )\n",
    "    result.append(result1)\n",
    "\n",
    "# Parse out useful links\n",
    "\n",
    "links = []\n",
    "activation_link = []\n",
    "\n",
    "# Getting Result Links\n",
    "for r in result:\n",
    "    links1 = r.json()[u\"analytic_sr\"][\"_links\"]\n",
    "    links.append(links1)\n",
    "\n",
    "# Generating a list of activation links    \n",
    "for l in links:\n",
    "    activation_link1 = l[\"activate\"]\n",
    "    activation_link.append(activation_link1)\n",
    "activation_link\n",
    "\n",
    "# Request activation of the 'visual' asset:\n",
    "for a in activation_link:\n",
    "    activate_result = \\\n",
    "    requests.get(a,auth=HTTPBasicAuth(PLANET_API_KEY, ''))"
   ]
  },
  {
   "cell_type": "code",
   "execution_count": 29,
   "metadata": {},
   "outputs": [
    {
     "name": "stdout",
     "output_type": "stream",
     "text": [
      "<Response [204]>\n"
     ]
    }
   ],
   "source": [
    "activate_result"
   ]
  },
  {
   "cell_type": "code",
   "execution_count": 30,
   "metadata": {},
   "outputs": [
    {
     "name": "stdout",
     "output_type": "stream",
     "text": [
      "[[{'item_ids': ['20200311_074225_103b'], 'item_type': 'PSScene4Band', 'product_bundle': 'analytic_sr'}], [{'item_ids': ['20200308_084112_13_1065'], 'item_type': 'PSScene4Band', 'product_bundle': 'analytic_sr'}], [{'item_ids': ['20200311_074230_103b'], 'item_type': 'PSScene4Band', 'product_bundle': 'analytic_sr'}], [{'item_ids': ['20200312_064310_1053'], 'item_type': 'PSScene4Band', 'product_bundle': 'analytic_sr'}], [{'item_ids': ['20200312_064311_1053'], 'item_type': 'PSScene4Band', 'product_bundle': 'analytic_sr'}], [{'item_ids': ['20200308_074723_1009'], 'item_type': 'PSScene4Band', 'product_bundle': 'analytic_sr'}]]\n"
     ]
    }
   ],
   "source": [
    "# Building the order lists starting with the product information\n",
    "\n",
    "single_product = []\n",
    "for image_id in joined_buffer_wgs84_drop_merge['Image_ID']:\n",
    "    single_product_2 = [\n",
    "        {\n",
    "          'item_ids': [image_id], \n",
    "          'item_type': 'PSScene4Band',\n",
    "          'product_bundle': 'analytic_sr'\n",
    "        }\n",
    "    ]\n",
    "    single_product.append(single_product_2)\n",
    "print(single_product)\n"
   ]
  },
  {
   "cell_type": "code",
   "execution_count": 31,
   "metadata": {},
   "outputs": [],
   "source": [
    "# Setting the clipping boundaries\n",
    "\n",
    "clip = []\n",
    "for polygon in joined_buffer_wgs84_drop_merge['poly_list']:\n",
    "    clip_aoi = {\n",
    "        'type':'Polygon',\n",
    "        'coordinates': [polygon] \n",
    "    }\n",
    "\n",
    "# define the clip tool\n",
    "    clip_2 = {\n",
    "        'clip': {\n",
    "            'aoi': clip_aoi\n",
    "        }\n",
    "    }\n",
    "    clip.append(clip_2)"
   ]
  },
  {
   "cell_type": "code",
   "execution_count": 32,
   "metadata": {
    "scrolled": true
   },
   "outputs": [],
   "source": [
    "# create an order request with the clipping tool\n",
    "request_clip = []\n",
    "\n",
    "for p, c in zip(single_product, clip):\n",
    "    request_clip_2 = {\n",
    "        'name': 'just clip',\n",
    "        'products': p, #single_product,\n",
    "        'tools': [c]\n",
    "    }\n",
    "    request_clip.append(request_clip_2)"
   ]
  },
  {
   "cell_type": "code",
   "execution_count": 34,
   "metadata": {
    "scrolled": false
   },
   "outputs": [
    {
     "name": "stdout",
     "output_type": "stream",
     "text": [
      "<Response [202]>\n",
      "bf801ac8-c321-482f-91f2-9a722ce237a0\n",
      "<Response [202]>\n",
      "a942157b-7879-4759-b174-71e03e1b299e\n",
      "<Response [202]>\n",
      "e4d6c574-d18d-4f7c-84fe-28e1b8eef30b\n",
      "<Response [202]>\n",
      "9fb9b4be-d286-4019-b526-ccf2f5673071\n",
      "<Response [202]>\n",
      "2a792796-defd-4411-89aa-0c066bf3ca69\n",
      "<Response [202]>\n",
      "2b48616c-9d02-466e-945d-400eb2777384\n"
     ]
    },
    {
     "data": {
      "text/plain": [
       "['https://api.planet.com/compute/ops/orders/v2/bf801ac8-c321-482f-91f2-9a722ce237a0',\n",
       " 'https://api.planet.com/compute/ops/orders/v2/a942157b-7879-4759-b174-71e03e1b299e',\n",
       " 'https://api.planet.com/compute/ops/orders/v2/e4d6c574-d18d-4f7c-84fe-28e1b8eef30b',\n",
       " 'https://api.planet.com/compute/ops/orders/v2/9fb9b4be-d286-4019-b526-ccf2f5673071',\n",
       " 'https://api.planet.com/compute/ops/orders/v2/2a792796-defd-4411-89aa-0c066bf3ca69',\n",
       " 'https://api.planet.com/compute/ops/orders/v2/2b48616c-9d02-466e-945d-400eb2777384']"
      ]
     },
     "execution_count": 34,
     "metadata": {},
     "output_type": "execute_result"
    }
   ],
   "source": [
    "# Creating the url for clipping \n",
    "def place_order(request, auth):\n",
    "    response = requests.post(orders_v2_url, data=json.dumps(request), auth=auth, headers=headers)\n",
    "    print(response)\n",
    "    \n",
    "    if not response.ok:\n",
    "        raise Exception(response.content)\n",
    "\n",
    "    order_id = response.json()['id']\n",
    "    print(order_id)\n",
    "    order_url = orders_v2_url + '/' + order_id\n",
    "    return order_url\n",
    "\n",
    "\n",
    "clip_order_url = []\n",
    "for req_c in request_clip:\n",
    "    clip_order_url2 = place_order(request_clip[1], auth)\n",
    "    clip_order_url.append(clip_order_url2)\n",
    "clip_order_url\n"
   ]
  },
  {
   "cell_type": "code",
   "execution_count": 39,
   "metadata": {
    "scrolled": true
   },
   "outputs": [
    {
     "name": "stdout",
     "output_type": "stream",
     "text": [
      "{'_links': {'_self': 'https://api.planet.com/compute/ops/orders/v2/bf801ac8-c321-482f-91f2-9a722ce237a0', 'results': [{'delivery': 'success', 'expires_at': '2020-03-16T03:58:29.075Z', 'location': 'https://api.planet.com/compute/ops/download/?token=eyJhbGciOiJIUzUxMiIsInR5cCI6IkpXVCJ9.eyJleHAiOjE1ODQzMzExMDksInN1YiI6ImtnVUtGWWxWemlCMnNoWm5tYVdLa3BOR25HOEljYVl1TWNHcnUvT2dGWXdWWThjemU4NHpGWWRaT1RFN3BFTXFXei8wbzBUeHdRYjVIMy9JdmkySWRnPT0iLCJ0b2tlbl90eXBlIjoiZG93bmxvYWQtYXNzZXQtc3RhY2siLCJhb2kiOiIiLCJhc3NldHMiOlt7Iml0ZW1fdHlwZSI6IiIsImFzc2V0X3R5cGUiOiIiLCJpdGVtX2lkIjoiIn1dLCJ1cmwiOiJodHRwczovL3N0b3JhZ2UuZ29vZ2xlYXBpcy5jb20vY29tcHV0ZS1vcmRlcnMtbGl2ZS9iZjgwMWFjOC1jMzIxLTQ4MmYtOTFmMi05YTcyMmNlMjM3YTAvMS9tYW5pZmVzdC5qc29uP0V4cGlyZXM9MTU4NDMzMTEwOVx1MDAyNkdvb2dsZUFjY2Vzc0lkPWNvbXB1dGUtZ2NzLXN2Y2FjYyU0MHBsYW5ldC1jb21wdXRlLXByb2QuaWFtLmdzZXJ2aWNlYWNjb3VudC5jb21cdTAwMjZTaWduYXR1cmU9VUt6Sk1WU1UlMkZGcEclMkJHZUtoaTdTU1BCMGV3UGlyNCUyQjZXR2c5Y0NZaGpPbHR3NkFsQjFSRE9RU1NVZnN2Y2VRa3gzYXRucnpBSE9WbmFtU3l6elVHbVV6Mkp1QjltNm9OSU93eXZmSnlPSjF3NWdyRTVJalBGallzcDlrSVpYb3pEdXhtMmlmY0VvNnNNYm5DelFjSk5qQzBmVUdnZUlNQkV6VUJTMkU0SyUyQkclMkZZT1N1T0kwVG1XSHdPaTFuNklUSHJ4UE1TWFRnT2ViQWc1RWhIJTJGWk9iS0JIa2Q5aGhZdnA2QnR0a09DbElaWlhkcXFvaXUxa05FVmZ6dFJ1NkY0b2p1bDBZaHBQY09IQlJqQjJJdSUyQkNZc2ZuRXNrdTBBJTJCcDJjNEp0clFDRGdiZHAwbU83enByZWxDYk04YmtEOWZXTm1TdnB0aU1qRnBkSGE1aEdxNkNsUSUzRCUzRCIsInNvdXJjZSI6Ik9yZGVycyBTZXJ2aWNlIn0.QTLimAaQVPo5oRlz8kBNlUwyJRDDxWSOglhcciLFmKsidFOHzuo4PocA16rA8x0hBYFgC1cYrd8xCVmIyOUwrA', 'name': 'bf801ac8-c321-482f-91f2-9a722ce237a0/1/manifest.json'}, {'delivery': 'success', 'expires_at': '2020-03-16T03:58:29.082Z', 'location': 'https://api.planet.com/compute/ops/download/?token=eyJhbGciOiJIUzUxMiIsInR5cCI6IkpXVCJ9.eyJleHAiOjE1ODQzMzExMDksInN1YiI6IjVITnc4UzZIaXVsZWxrTVdIY0NSZGk0WWtQNjV6R2NlYnRrS1lxRXFrMElIaXQwcXhhcjlCUU14ZzBkWXkrTWdHci9NMjZEa2JvTnQyT3FBQ0tBY0xBPT0iLCJ0b2tlbl90eXBlIjoiZG93bmxvYWQtYXNzZXQtc3RhY2siLCJhb2kiOiIiLCJhc3NldHMiOlt7Iml0ZW1fdHlwZSI6IiIsImFzc2V0X3R5cGUiOiIiLCJpdGVtX2lkIjoiIn1dLCJ1cmwiOiJodHRwczovL3N0b3JhZ2UuZ29vZ2xlYXBpcy5jb20vY29tcHV0ZS1vcmRlcnMtbGl2ZS9iZjgwMWFjOC1jMzIxLTQ4MmYtOTFmMi05YTcyMmNlMjM3YTAvMS9maWxlcy8yMDIwMDMwOF8wODQxMTJfMTNfMTA2NV8zQl9BbmFseXRpY01TX0ROX3VkbV9jbGlwLnRpZj9FeHBpcmVzPTE1ODQzMzExMDlcdTAwMjZHb29nbGVBY2Nlc3NJZD1jb21wdXRlLWdjcy1zdmNhY2MlNDBwbGFuZXQtY29tcHV0ZS1wcm9kLmlhbS5nc2VydmljZWFjY291bnQuY29tXHUwMDI2U2lnbmF0dXJlPUJvWnZIT3JtNGdOYk5pUDRNSCUyRkNMOUpZVmNZZEpDS2RrVkV3SjBtdjdsamFBMFByZkdQMDMwR0dGaXZ6Znl3Q2Y2Q1FkRndPYkRBQzdXY2JFV1JGcHJWWjVvY3BVVUlIa0xSUTNtMmdhZVp3N0xTbjhuZ0s5SkEyd1ZSQVZGRXFMUlljM21EaUhqVVRvZEFYM0JQWmUlMkJ5UUdZcUlMVWFRR3JvNUpPQ0VhcUYyYnBKekpTa1h1VGluaHlmM2dsSVU5MmFOTVdNcWZyZm5LdEhsZmU2V0Zwb0RzRWV4RE1YTHNVakJCcWM2cUVSeWNpVGpucVdVeTVkREN3RjdvT3FQOGNzWlFFdEJDaEpIV0c3d09peVVmVUtJSzBacW1zYjYlMkI5andrRGMxJTJCRVBVNXFZQmxUbXVvWGtWWENMRUFrUmJUbW5OZnhOOE1RYUxnS010aDl5OVFnJTNEJTNEIiwic291cmNlIjoiT3JkZXJzIFNlcnZpY2UifQ.46f6JW8mLI9z5DLRfE31OrtoesAMTE9iGFKEGuseU5mRH0GYY0Xhj8Q80jpLANgkLCRHUoEcMQ9vcbQwfX7wFg', 'name': 'bf801ac8-c321-482f-91f2-9a722ce237a0/1/files/20200308_084112_13_1065_3B_AnalyticMS_DN_udm_clip.tif'}, {'delivery': 'success', 'expires_at': '2020-03-16T03:58:29.101Z', 'location': 'https://api.planet.com/compute/ops/download/?token=eyJhbGciOiJIUzUxMiIsInR5cCI6IkpXVCJ9.eyJleHAiOjE1ODQzMzExMDksInN1YiI6ImNQSkt5MjFlR1dLVlhXc2wrclUzVkJoMzdOWEdDajc2Y0lmakdjdEFUUWNwaGNDMkVMbWdYRzRwemc5d1UvQ0Z2YWpxZVdNMU5SV0k0eWVrdlZETlh3PT0iLCJ0b2tlbl90eXBlIjoiZG93bmxvYWQtYXNzZXQtc3RhY2siLCJhb2kiOiIiLCJhc3NldHMiOlt7Iml0ZW1fdHlwZSI6IiIsImFzc2V0X3R5cGUiOiIiLCJpdGVtX2lkIjoiIn1dLCJ1cmwiOiJodHRwczovL3N0b3JhZ2UuZ29vZ2xlYXBpcy5jb20vY29tcHV0ZS1vcmRlcnMtbGl2ZS9iZjgwMWFjOC1jMzIxLTQ4MmYtOTFmMi05YTcyMmNlMjM3YTAvMS9maWxlcy8yMDIwMDMwOF8wODQxMTJfMTNfMTA2NV8zQl9BbmFseXRpY01TX21ldGFkYXRhX2NsaXAueG1sP0V4cGlyZXM9MTU4NDMzMTEwOVx1MDAyNkdvb2dsZUFjY2Vzc0lkPWNvbXB1dGUtZ2NzLXN2Y2FjYyU0MHBsYW5ldC1jb21wdXRlLXByb2QuaWFtLmdzZXJ2aWNlYWNjb3VudC5jb21cdTAwMjZTaWduYXR1cmU9WDNQQXlDUnd6bjY5dGZtMWRTRGZlWVlRNWpXYkxHaW1ucVE0ciUyQlJ6RWwzSlU5RVolMkJIWksyMThzTXhwbnYwYTluRDhSY2llTGJYOW5ES283RFNLeFhXWVZYdXd2Z0lOTWtZNyUyQm5TRHVWOHpZVVpLTnRURXAzTVRGMUJYJTJGUW05aHRqYmlNN3ZHWXd2eVdpU1NvZHBEemhFMUpvJTJGcTk5WTZPbiUyQm9waDg0WHRncjVKRnZUdUdLUTI5MXlzeWM2NVQ0UiUyRmZMWTRSJTJCd1J6RHJTNXluV0J3dnhUU3ZqNjVEclpNZnhnYmZmZHZ0TElualZJM2dGVnVwaEYwZHklMkYlMkI4d2lMUFFoY3ljdDBJMEdlQ005bU9NNkNOYm00Q1Y4UW4wTmdJQlBOZFNqZURHOHBYZVBVYlBHT3FUMU03WG5EdXVQdjh3d3k3T0hLWmV1a3d3VXRMcWpLdGclM0QlM0QiLCJzb3VyY2UiOiJPcmRlcnMgU2VydmljZSJ9.0TES37oiDUklv0Mk4rj4IDzxnRbzraveBMCAMrdVwU45I8MbBjBY6xfd4pTMvF5l1oQhOJ-7HykOOkRMJmoO2w', 'name': 'bf801ac8-c321-482f-91f2-9a722ce237a0/1/files/20200308_084112_13_1065_3B_AnalyticMS_metadata_clip.xml'}, {'delivery': 'success', 'expires_at': '2020-03-16T03:58:29.088Z', 'location': 'https://api.planet.com/compute/ops/download/?token=eyJhbGciOiJIUzUxMiIsInR5cCI6IkpXVCJ9.eyJleHAiOjE1ODQzMzExMDksInN1YiI6InF2Tzh5WFhFclkrNFEvZTdCenVuTGpyMGFOOUVWa3lzaGpGZVVDWFJOVkMxODBsVXEwTHNIQW91Vm0vYnNmWHp5UGlnU1ZEbFZBb3h6Nmd4VnJUekhRPT0iLCJ0b2tlbl90eXBlIjoiZG93bmxvYWQtYXNzZXQtc3RhY2siLCJhb2kiOiIiLCJhc3NldHMiOlt7Iml0ZW1fdHlwZSI6IiIsImFzc2V0X3R5cGUiOiIiLCJpdGVtX2lkIjoiIn1dLCJ1cmwiOiJodHRwczovL3N0b3JhZ2UuZ29vZ2xlYXBpcy5jb20vY29tcHV0ZS1vcmRlcnMtbGl2ZS9iZjgwMWFjOC1jMzIxLTQ4MmYtOTFmMi05YTcyMmNlMjM3YTAvMS9maWxlcy8yMDIwMDMwOF8wODQxMTJfMTNfMTA2NV8zQl9BbmFseXRpY01TX1NSX2NsaXAudGlmP0V4cGlyZXM9MTU4NDMzMTEwOVx1MDAyNkdvb2dsZUFjY2Vzc0lkPWNvbXB1dGUtZ2NzLXN2Y2FjYyU0MHBsYW5ldC1jb21wdXRlLXByb2QuaWFtLmdzZXJ2aWNlYWNjb3VudC5jb21cdTAwMjZTaWduYXR1cmU9WjRxWjRyN01hd0kxZVJaRVYlMkJYQnhmcWdoTmw4Vmh1WnA3NW1XbVlES2E3SklyTnRDMHNGN0slMkJCQ3ZJNnhPV1daenVLc01rJTJGS0RweVllMTJMTERXWk5RbHlhb1kwUlhVNUlpeXZFRGliJTJCeWs0enZNVFRYckN3U1Y0enJrQ1JCWU9RQXFNZ1phbUhtcERwUWZZeFQlMkI5JTJGbU5jUUxYVlJYZSUyRnVUUlFteE1Ib2tHb3JOY0RVcXpKT0c3SFZReVpWZnNIZnJPYWxNdGhBbVl2TkJMJTJCJTJGZTMzQTJBMTZqenZJNjA1Nlc4aEN6QVZSdkJFeE1ka3d3ZGp2VEFtMXR3NUNWZmtxMWlPbDg5QU1hTkYwdmdudzdrbUthYjN5ZGxtJTJCVFRtMEZxTG5PJTJCa3FSTEtMJTJGUzROU2Y2YmF0QlQyJTJGbXlkN3JROWl2eWRQdTJDZnBiOXFDZXVOVXclM0QlM0QiLCJzb3VyY2UiOiJPcmRlcnMgU2VydmljZSJ9.4oS3xFOVf2HaYIORNOjm5c61VUjiCxI_CqwnGOkNQTHX7Pp72JQS_xtx-CW_fIrZlMaB17YGV5YB26t9mmFVUQ', 'name': 'bf801ac8-c321-482f-91f2-9a722ce237a0/1/files/20200308_084112_13_1065_3B_AnalyticMS_SR_clip.tif'}, {'delivery': 'success', 'expires_at': '2020-03-16T03:58:29.094Z', 'location': 'https://api.planet.com/compute/ops/download/?token=eyJhbGciOiJIUzUxMiIsInR5cCI6IkpXVCJ9.eyJleHAiOjE1ODQzMzExMDksInN1YiI6InhRcmNBOUdIN3UrU3Fvc0JMOHY2dm9RMmpmM2RhWnRzUTdubmpDVXUreUsxQkVlemZzaHhpeEJlSHZ1R0s0RXdmdUk1MFgrWFMvTXM2ckU1UHdkMERRPT0iLCJ0b2tlbl90eXBlIjoiZG93bmxvYWQtYXNzZXQtc3RhY2siLCJhb2kiOiIiLCJhc3NldHMiOlt7Iml0ZW1fdHlwZSI6IiIsImFzc2V0X3R5cGUiOiIiLCJpdGVtX2lkIjoiIn1dLCJ1cmwiOiJodHRwczovL3N0b3JhZ2UuZ29vZ2xlYXBpcy5jb20vY29tcHV0ZS1vcmRlcnMtbGl2ZS9iZjgwMWFjOC1jMzIxLTQ4MmYtOTFmMi05YTcyMmNlMjM3YTAvMS9maWxlcy8yMDIwMDMwOF8wODQxMTJfMTNfMTA2NV9tZXRhZGF0YS5qc29uP0V4cGlyZXM9MTU4NDMzMTEwOVx1MDAyNkdvb2dsZUFjY2Vzc0lkPWNvbXB1dGUtZ2NzLXN2Y2FjYyU0MHBsYW5ldC1jb21wdXRlLXByb2QuaWFtLmdzZXJ2aWNlYWNjb3VudC5jb21cdTAwMjZTaWduYXR1cmU9YzRQWmlueHNpRDhwWGlFYWM0OTg4aFNmd2J3OHdzTzluQ0VpWkM4eG0wJTJCYjRTTWtGRHJ4OEZSOUx6WnNXb0lhYTRXcmdEa1lpbHJRSHlBT0syYmRDYWR2S2NPMmQlMkJwb2ZuaW0zdXU2dUZOQ3BzcjFSV3plVEhRYVBRa3lhVW41WjhSeHRzQTA2ZWlCUDBoREU5SHpuV2JnQXNJQ21ydzhEbjMxNTRSVyUyRjdpc0pFJTJGRDV3NTNJNFcydVlTTXpraWdmTHl2Z2VsSEthS3c4WTRrSFdUVThnNVNhWGE3SFUlMkI4TFc3MHVHcUJLUWozWTFiYnVsNnlZTVgwOVBFVll0M1N5Rm5FdDZiUVlBSU1FSWFMQ09QNU55VExaWjJoR2JUcXVpRDJIMnh0VGJSJTJGNVI3ejdDbTVCdnROSHJmbGNIVGNhN21HZFgyYWZSOGFlWDQ0ZW9xTlhBJTNEJTNEIiwic291cmNlIjoiT3JkZXJzIFNlcnZpY2UifQ.Ft5pVkRH9nXS2er3A2v29xiTuA9myH7QRWGFjkKqRFtnouBNdcord3KXtYEWDJdnSEUzB6fwjEdCUHB2NNxePA', 'name': 'bf801ac8-c321-482f-91f2-9a722ce237a0/1/files/20200308_084112_13_1065_metadata.json'}]}, 'created_on': '2020-03-15T03:57:09.918Z', 'error_hints': [], 'id': 'bf801ac8-c321-482f-91f2-9a722ce237a0', 'last_message': 'Delivery completed', 'last_modified': '2020-03-15T03:59:31.445Z', 'name': 'just clip', 'products': [{'item_ids': ['20200308_084112_13_1065'], 'item_type': 'PSScene4Band', 'product_bundle': 'analytic_sr'}], 'state': 'success', 'tools': [{'clip': {'aoi': {'coordinates': [[[34.79228141877853, -2.652182761619736], [34.79228141877853, -2.6603132247492183], [34.78419658122145, -2.6603132247492183], [34.78419658122145, -2.652182761619736], [34.79228141877853, -2.652182761619736]]], 'type': 'Polygon'}}}]}\n"
     ]
    },
    {
     "name": "stdout",
     "output_type": "stream",
     "text": [
      "{'_links': {'_self': 'https://api.planet.com/compute/ops/orders/v2/a942157b-7879-4759-b174-71e03e1b299e', 'results': [{'delivery': 'success', 'expires_at': '2020-03-16T03:58:29.084Z', 'location': 'https://api.planet.com/compute/ops/download/?token=eyJhbGciOiJIUzUxMiIsInR5cCI6IkpXVCJ9.eyJleHAiOjE1ODQzMzExMDksInN1YiI6InNkVlNhL1M5Vy9pMmw2dnNLUFdsZ1VnbFBKWVZKb1VBelJHRzZVR0VudHVZM296V2VPOHorSVFpdEVJK3YrYXBsQVdTYno1ZTRKdVdBQlUyL3RXa0RRPT0iLCJ0b2tlbl90eXBlIjoiZG93bmxvYWQtYXNzZXQtc3RhY2siLCJhb2kiOiIiLCJhc3NldHMiOlt7Iml0ZW1fdHlwZSI6IiIsImFzc2V0X3R5cGUiOiIiLCJpdGVtX2lkIjoiIn1dLCJ1cmwiOiJodHRwczovL3N0b3JhZ2UuZ29vZ2xlYXBpcy5jb20vY29tcHV0ZS1vcmRlcnMtbGl2ZS9hOTQyMTU3Yi03ODc5LTQ3NTktYjE3NC03MWUwM2UxYjI5OWUvMS9maWxlcy8yMDIwMDMwOF8wODQxMTJfMTNfMTA2NV8zQl9BbmFseXRpY01TX21ldGFkYXRhX2NsaXAueG1sP0V4cGlyZXM9MTU4NDMzMTEwOVx1MDAyNkdvb2dsZUFjY2Vzc0lkPWNvbXB1dGUtZ2NzLXN2Y2FjYyU0MHBsYW5ldC1jb21wdXRlLXByb2QuaWFtLmdzZXJ2aWNlYWNjb3VudC5jb21cdTAwMjZTaWduYXR1cmU9WlFMMmVaJTJGeHg1WG9BbUdHdzVpYVlONlNSQ1FUVHVIRUk0czVrbXZ5R0lOdTYyU0dLTXV4ZjhyMXdKSllWb0t3UDFsbkpiSEZyRXFKeUtNQlFNeW9tNG84YURDcTUlMkJPTDhvalB6Y2w1WlhOQnhZME0zS0ZjcUhETDRVS2wlMkJtR2FnUVJ1NWwwdXJIRVU5SVViVlE1V0ZRWmVtYkQ0SXoxb3l6NDg5T0daT3hKMEQ1ZVROTGQyOFVrTDVJJTJGc3JxcVo5MFYzcEFUczRoQ05qcjFBV09mYkIycm9GJTJCJTJGRWlRUnVQaWhYJTJCZ3FOZ1FwSEdhWHhwRHpHRUhxJTJCeXdrWGh3b1FCNkolMkZXcyUyRkNGYzByem5NZU8lMkZMck5JeXRGSFUlMkYwYVYza1ZTWVZobGtDJTJGQmNZb0RlTjgwaW54MVc5V05xRTYzRVhiaCUyRlBCS3VMUiUyQnI0JTJGZUphVFZ1MUElM0QlM0QiLCJzb3VyY2UiOiJPcmRlcnMgU2VydmljZSJ9.775HkEMa1cgQTbYXchgnXoBIqI5AsMfkNnI81ecWQedDtbGkscCBzZP_f2vM2oiAd2Q505z4zWop1oE6pWwdOw', 'name': 'a942157b-7879-4759-b174-71e03e1b299e/1/files/20200308_084112_13_1065_3B_AnalyticMS_metadata_clip.xml'}, {'delivery': 'success', 'expires_at': '2020-03-16T03:58:29.071Z', 'location': 'https://api.planet.com/compute/ops/download/?token=eyJhbGciOiJIUzUxMiIsInR5cCI6IkpXVCJ9.eyJleHAiOjE1ODQzMzExMDksInN1YiI6IlNNbTMvcXdCVFM5K1JXaCthZVlwbnpneVlCcEZDenl4ZTBEbEs4UUYxNzlpNEs2UzBQZU5XR0VHT09HSXBCYjVkTWtyQXZrRGJDVDdCMGo3Z3FVYzNRPT0iLCJ0b2tlbl90eXBlIjoiZG93bmxvYWQtYXNzZXQtc3RhY2siLCJhb2kiOiIiLCJhc3NldHMiOlt7Iml0ZW1fdHlwZSI6IiIsImFzc2V0X3R5cGUiOiIiLCJpdGVtX2lkIjoiIn1dLCJ1cmwiOiJodHRwczovL3N0b3JhZ2UuZ29vZ2xlYXBpcy5jb20vY29tcHV0ZS1vcmRlcnMtbGl2ZS9hOTQyMTU3Yi03ODc5LTQ3NTktYjE3NC03MWUwM2UxYjI5OWUvMS9tYW5pZmVzdC5qc29uP0V4cGlyZXM9MTU4NDMzMTEwOVx1MDAyNkdvb2dsZUFjY2Vzc0lkPWNvbXB1dGUtZ2NzLXN2Y2FjYyU0MHBsYW5ldC1jb21wdXRlLXByb2QuaWFtLmdzZXJ2aWNlYWNjb3VudC5jb21cdTAwMjZTaWduYXR1cmU9TnYlMkJpJTJGd3A2M2slMkZMR2hMY1NrTmY4UTI1UUxFZFYwbGVKOFJjOXFkWUt2bXNQYWM3JTJGTm5RVkJ0RTVqZXMxTlNXd3VTSDRYdWx2NnVCZmxsR3BTQjVJJTJCdkJOR25jT0RCWDM4VTlRbHBnWVNQRXVKWXhRRmQ4RHVBN0I4NkRKOSUyRjlxcUpKQ0dPdVBjYUR0Q1JjRjZnZjRmWkg0a3Jrd1FNbUR6dU15aFFHU085VFJmc051YWdUdjclMkZxekt3bmc0QSUyRkxLRG1kRXROMGF4SDY1ak5MZ0k2dGJDTXFPSFlmSTJBcXpGSmpWdFJ4TVQyNzY1dldsRGdQJTJCUmxIb0pnY2NTWHZLMTFrTHEwNTNGdHlFRUg5OU9ZRDFJS2NjQ3NUQ09Mc20xbk1LZFJDRk9xaFQ0JTJGbjA2dXgyWFJiJTJCQ3JLMWoxUFkxbG9VTnJsejhZU3FUSng2V3RrZyUzRCUzRCIsInNvdXJjZSI6Ik9yZGVycyBTZXJ2aWNlIn0.v3J0nFMtwbVUxoapZuP9BZXZLp5meM3wn3UL62Qmjrc5KMj1G-XqAWlEG6Qre4ie3gG8uxS9XZMFm5FJRtaGyQ', 'name': 'a942157b-7879-4759-b174-71e03e1b299e/1/manifest.json'}, {'delivery': 'success', 'expires_at': '2020-03-16T03:58:29.087Z', 'location': 'https://api.planet.com/compute/ops/download/?token=eyJhbGciOiJIUzUxMiIsInR5cCI6IkpXVCJ9.eyJleHAiOjE1ODQzMzExMDksInN1YiI6IkIxZjMxUnJXbFRnRGdHT090b3NybEpFS0JydXJGVUZsUmZqa21DaUNLS2VreHE4R05YM3FSWTNtVThMTzJHQmwyRHNJVEI4Ynl3cVJnbkt1VXhORVRBPT0iLCJ0b2tlbl90eXBlIjoiZG93bmxvYWQtYXNzZXQtc3RhY2siLCJhb2kiOiIiLCJhc3NldHMiOlt7Iml0ZW1fdHlwZSI6IiIsImFzc2V0X3R5cGUiOiIiLCJpdGVtX2lkIjoiIn1dLCJ1cmwiOiJodHRwczovL3N0b3JhZ2UuZ29vZ2xlYXBpcy5jb20vY29tcHV0ZS1vcmRlcnMtbGl2ZS9hOTQyMTU3Yi03ODc5LTQ3NTktYjE3NC03MWUwM2UxYjI5OWUvMS9maWxlcy8yMDIwMDMwOF8wODQxMTJfMTNfMTA2NV8zQl9BbmFseXRpY01TX1NSX2NsaXAudGlmP0V4cGlyZXM9MTU4NDMzMTEwOVx1MDAyNkdvb2dsZUFjY2Vzc0lkPWNvbXB1dGUtZ2NzLXN2Y2FjYyU0MHBsYW5ldC1jb21wdXRlLXByb2QuaWFtLmdzZXJ2aWNlYWNjb3VudC5jb21cdTAwMjZTaWduYXR1cmU9VzNPbVhLdmd1SWdQcE5FOFhDaTZjciUyQlNNQVRzejlaNFJvYVdrSklDeFNndGFLNG1KbHpoSUdqd1ljWVglMkJvbzhTMUc5QzhlMWhFaWpGbXc0azFXeVA2NjJyN3JMVU1PWHc3MDlZZnpmUkx3MkFkSjBsc05GMWZOWW4zeVhBNDY1R05oSlV3MWlSNEFZbnNOMkVXSnp4Z2xJOGJQZktkYTgzdmNGeVR4SHNNeFJUMmJOUHRIRXRScHFBOUszeDR4MlF0U2pZN0hkY1FicVdycUx5U3o1WjlBRTFDVzBOTlZjcTVCZkpsMjBLTENRM1gyOFI1a21PemJMRXZlczhzTkRycUF6TGJOMlhMeTB4UjRqeW1NSmJ6Y0pNbDJ1Zk81SlhkaTBGMzkzOGtnc1dJSmlCVzR3M0pucGNkTDF0QXVCR0ZsbiUyQkRPT00lMkJ2OEFvN0Q2bjV3Z2clM0QlM0QiLCJzb3VyY2UiOiJPcmRlcnMgU2VydmljZSJ9.LrxkW9ZCP-iI6iEEXrywNN5iE2l7A8UBhfNN5clKbsOnPNVqy-1_dhBZ92_XBHLpa_8qfRmAce9xAUWc8DUSvA', 'name': 'a942157b-7879-4759-b174-71e03e1b299e/1/files/20200308_084112_13_1065_3B_AnalyticMS_SR_clip.tif'}, {'delivery': 'success', 'expires_at': '2020-03-16T03:58:29.080Z', 'location': 'https://api.planet.com/compute/ops/download/?token=eyJhbGciOiJIUzUxMiIsInR5cCI6IkpXVCJ9.eyJleHAiOjE1ODQzMzExMDksInN1YiI6IkwyL2ltQjF6dFp4NCtBWWtZcnRJQUlPR1hodmdMSEF3T3BuSHdwRjYzY20wMXpQSG5tRkVDejZTZlkxQ3ZCWm43REhvQnRnWXNYc0d2U3RmTWJjNmV3PT0iLCJ0b2tlbl90eXBlIjoiZG93bmxvYWQtYXNzZXQtc3RhY2siLCJhb2kiOiIiLCJhc3NldHMiOlt7Iml0ZW1fdHlwZSI6IiIsImFzc2V0X3R5cGUiOiIiLCJpdGVtX2lkIjoiIn1dLCJ1cmwiOiJodHRwczovL3N0b3JhZ2UuZ29vZ2xlYXBpcy5jb20vY29tcHV0ZS1vcmRlcnMtbGl2ZS9hOTQyMTU3Yi03ODc5LTQ3NTktYjE3NC03MWUwM2UxYjI5OWUvMS9maWxlcy8yMDIwMDMwOF8wODQxMTJfMTNfMTA2NV9tZXRhZGF0YS5qc29uP0V4cGlyZXM9MTU4NDMzMTEwOVx1MDAyNkdvb2dsZUFjY2Vzc0lkPWNvbXB1dGUtZ2NzLXN2Y2FjYyU0MHBsYW5ldC1jb21wdXRlLXByb2QuaWFtLmdzZXJ2aWNlYWNjb3VudC5jb21cdTAwMjZTaWduYXR1cmU9YmdWZjJCaEE2QXFBaVlTWUFGTjZtQiUyQmhrRyUyQjBCSXdBbWltWmUxeGpPcG5na1NZNVFVcUFXYUF6MFFKekFTSXlEaktZN2RUR2tZTDE1WGp0YjVJbEx4d3REQk12ZXBDaDN4ZDJzaEdiVlo3YWhHZjltVEFmMmM1QnVtTFJDV3A5cVdWc0N4OHRFdEZVZiUyQkFRcSUyQld3QUVGWGhiVm9Qb3h5MXRSWWNMS3l2QzQlMkJRJTJCNXBZYnJZYmxWZyUyRlVHY0JRSGRTYVhDOHl3TWxoMlpjWEN5YnNTbElKYSUyQjMwNU9OdlhvOWNWWEx3VzdDbTJwUVU3cE1XNHN2Q0d3QndsME5qRGFpb2Y4R2c4MWVZNnoyeWhFZ2pVc2RwSE55dFgzdXhTeU0lMkZsU3h5STlvQlVyUlIxUmtOSzVMZXlmY3dkcjJMVHRZdWUlMkZSdm4yTm8yM09PbExWb2R5ZVElM0QlM0QiLCJzb3VyY2UiOiJPcmRlcnMgU2VydmljZSJ9.mFvHt053I40YA0afRDr6zk6DVkeIKAPEq21ToT2m8s8uasbi_N6SQnMq5_yT3LAQwzr6SzkP8epoXIRuDfymeQ', 'name': 'a942157b-7879-4759-b174-71e03e1b299e/1/files/20200308_084112_13_1065_metadata.json'}, {'delivery': 'success', 'expires_at': '2020-03-16T03:58:29.076Z', 'location': 'https://api.planet.com/compute/ops/download/?token=eyJhbGciOiJIUzUxMiIsInR5cCI6IkpXVCJ9.eyJleHAiOjE1ODQzMzExMDksInN1YiI6InN2MDRRcENRQmtMVnUvWVVjTlZ3dU1lMDh3dC96cFFQQlhkT3RUYmVhd2xoQkNDWks1Zkkrc2t0RnE5czZGUWtDeEdrdkp1RjMxTVdvSmJJUDk2S3ZRPT0iLCJ0b2tlbl90eXBlIjoiZG93bmxvYWQtYXNzZXQtc3RhY2siLCJhb2kiOiIiLCJhc3NldHMiOlt7Iml0ZW1fdHlwZSI6IiIsImFzc2V0X3R5cGUiOiIiLCJpdGVtX2lkIjoiIn1dLCJ1cmwiOiJodHRwczovL3N0b3JhZ2UuZ29vZ2xlYXBpcy5jb20vY29tcHV0ZS1vcmRlcnMtbGl2ZS9hOTQyMTU3Yi03ODc5LTQ3NTktYjE3NC03MWUwM2UxYjI5OWUvMS9maWxlcy8yMDIwMDMwOF8wODQxMTJfMTNfMTA2NV8zQl9BbmFseXRpY01TX0ROX3VkbV9jbGlwLnRpZj9FeHBpcmVzPTE1ODQzMzExMDlcdTAwMjZHb29nbGVBY2Nlc3NJZD1jb21wdXRlLWdjcy1zdmNhY2MlNDBwbGFuZXQtY29tcHV0ZS1wcm9kLmlhbS5nc2VydmljZWFjY291bnQuY29tXHUwMDI2U2lnbmF0dXJlPWJsaGZZenVlNWhrMEIweGpkMU11U2N1QkFhdWtHdFpIa2tZJTJCSEdHUTJOY3FxSlIxJTJCUGRuYiUyQk9PcE9zM0k0UVJESHFlZjNLcThCTmUlMkYlMkZOUEVsTjJNTEdFRVVFJTJGTDlnRm9WU05MMXhjOEpqJTJGTWdCRnNZdklwNU13cVpkM0xSRXVVbTljTk1sS0luNTklMkZZaW53b3NiUjhjNXFBSjdMblloN0ZZUnYlMkZvbHNrRXdJTnJ5bXdRRzkyZ1lJSmdPN2NxQnRqS1FzQXhYQUZPZHVzNldkTWRKT2plOE9uMWd4aEtyVExGZ0ViVVJMMGtjcmUzZEElMkJkWUU2VW8xRlRjeFZGVGV5YVBhJTJCbDdZUEF0NXVSRDBheUE3VDVtRnJzVlpRdzZZTHQwbFFUck13QlI1VG00Rm9ZUkNMS3ZNU3NlU2YlMkJvalpKekdzV2RMZ0FxeTBJTTZ0cmdMdyUzRCUzRCIsInNvdXJjZSI6Ik9yZGVycyBTZXJ2aWNlIn0.7FovChOq3ycJxzGl_I_dId9bEA3J5KovZw3X0j48kI0K1G2n0fdh9pFBTZFJPktjxqNDV9MONnwFHnLZlyyz_g', 'name': 'a942157b-7879-4759-b174-71e03e1b299e/1/files/20200308_084112_13_1065_3B_AnalyticMS_DN_udm_clip.tif'}]}, 'created_on': '2020-03-15T03:57:10.680Z', 'error_hints': [], 'id': 'a942157b-7879-4759-b174-71e03e1b299e', 'last_message': 'Delivery completed', 'last_modified': '2020-03-15T03:59:31.446Z', 'name': 'just clip', 'products': [{'item_ids': ['20200308_084112_13_1065'], 'item_type': 'PSScene4Band', 'product_bundle': 'analytic_sr'}], 'state': 'success', 'tools': [{'clip': {'aoi': {'coordinates': [[[34.79228141877853, -2.652182761619736], [34.79228141877853, -2.6603132247492183], [34.78419658122145, -2.6603132247492183], [34.78419658122145, -2.652182761619736], [34.79228141877853, -2.652182761619736]]], 'type': 'Polygon'}}}]}\n"
     ]
    },
    {
     "name": "stdout",
     "output_type": "stream",
     "text": [
      "{'_links': {'_self': 'https://api.planet.com/compute/ops/orders/v2/e4d6c574-d18d-4f7c-84fe-28e1b8eef30b', 'results': [{'delivery': 'success', 'expires_at': '2020-03-16T03:58:29.072Z', 'location': 'https://api.planet.com/compute/ops/download/?token=eyJhbGciOiJIUzUxMiIsInR5cCI6IkpXVCJ9.eyJleHAiOjE1ODQzMzExMDksInN1YiI6InQ0aFR1WEY1UWN6SllZcWhlV2thVk1HS2p6ZHcvZGNKMDl0ZFhpcDZObjJ5UFc3SWM5YXRsVUNrUkJTTFJNR0tUYlNkbVJVRVFGT0U3cjZCQUg4bjhnPT0iLCJ0b2tlbl90eXBlIjoiZG93bmxvYWQtYXNzZXQtc3RhY2siLCJhb2kiOiIiLCJhc3NldHMiOlt7Iml0ZW1fdHlwZSI6IiIsImFzc2V0X3R5cGUiOiIiLCJpdGVtX2lkIjoiIn1dLCJ1cmwiOiJodHRwczovL3N0b3JhZ2UuZ29vZ2xlYXBpcy5jb20vY29tcHV0ZS1vcmRlcnMtbGl2ZS9lNGQ2YzU3NC1kMThkLTRmN2MtODRmZS0yOGUxYjhlZWYzMGIvMS9tYW5pZmVzdC5qc29uP0V4cGlyZXM9MTU4NDMzMTEwOVx1MDAyNkdvb2dsZUFjY2Vzc0lkPWNvbXB1dGUtZ2NzLXN2Y2FjYyU0MHBsYW5ldC1jb21wdXRlLXByb2QuaWFtLmdzZXJ2aWNlYWNjb3VudC5jb21cdTAwMjZTaWduYXR1cmU9aTJVTTFhSmlXSHc0QndPJTJGQ1dIdnJuejVJeDFpeXZZaUVZa1hEckJ5Z2ljWjZBTjJRZ29CVndNZ2RpOEYlMkZSbjNsOXNkdE9udiUyRjgzVGVpRGxIYThScW1lS2doRnY0dTQ1TTFUeHhxMU5EeFdMV3cwOTdyQkE5bm1ZRHVjWFY3M0hQelhrVlc2UnV0eTJIYWV4anduWWxubzBYUTNKVDd5WlpnZUszNFE0R0JKMk5teG9Ed2h6ZiUyRlhQNW5XR2ZRcWJkNzhGRE0zQ2haaWlja3BFVU95OVkyczQyYVIlMkJPbTZRWURwVHhCUmpmcVdSSlRldUlOS2tyTDJaTnZCQmJ2U0ZWREZoV3hiSTBIejRUYUpSQmRlTVoyUEdGWXZPeThlbjh3Rkp2a001S094N1lIRWF1RTE0bWxXb0sxTyUyQm5ZeE9ObWcwNU1sRDUyYlZ0VnAyTUREbDd3JTNEJTNEIiwic291cmNlIjoiT3JkZXJzIFNlcnZpY2UifQ.wN23l4NGbqpeO7PUFuAYbV5deds20h0oeeATctGcMZGR8TId1z5_PbXtoXTEAGA4kErl2O-74YUu8y2zrrJWTA', 'name': 'e4d6c574-d18d-4f7c-84fe-28e1b8eef30b/1/manifest.json'}, {'delivery': 'success', 'expires_at': '2020-03-16T03:58:29.094Z', 'location': 'https://api.planet.com/compute/ops/download/?token=eyJhbGciOiJIUzUxMiIsInR5cCI6IkpXVCJ9.eyJleHAiOjE1ODQzMzExMDksInN1YiI6IlNwcEN6QVMyVE9RVjB1cTZvTGVzUTI1QnIyWnhCOXNIMERwZWRRVWcwV0pKbzVrR2JKdDRVcHVYUTF6Zk8wdVVvdm5VUWtUTGdVM25rL2d0WE1jYWhRPT0iLCJ0b2tlbl90eXBlIjoiZG93bmxvYWQtYXNzZXQtc3RhY2siLCJhb2kiOiIiLCJhc3NldHMiOlt7Iml0ZW1fdHlwZSI6IiIsImFzc2V0X3R5cGUiOiIiLCJpdGVtX2lkIjoiIn1dLCJ1cmwiOiJodHRwczovL3N0b3JhZ2UuZ29vZ2xlYXBpcy5jb20vY29tcHV0ZS1vcmRlcnMtbGl2ZS9lNGQ2YzU3NC1kMThkLTRmN2MtODRmZS0yOGUxYjhlZWYzMGIvMS9maWxlcy8yMDIwMDMwOF8wODQxMTJfMTNfMTA2NV8zQl9BbmFseXRpY01TX21ldGFkYXRhX2NsaXAueG1sP0V4cGlyZXM9MTU4NDMzMTEwOVx1MDAyNkdvb2dsZUFjY2Vzc0lkPWNvbXB1dGUtZ2NzLXN2Y2FjYyU0MHBsYW5ldC1jb21wdXRlLXByb2QuaWFtLmdzZXJ2aWNlYWNjb3VudC5jb21cdTAwMjZTaWduYXR1cmU9YTlnYTJPTFhDJTJGWXRkbUo3WGpoUTNVakIzcml6WXRQVDhjcmt6cHQ2dlhWQW1ZYUVvSjVpYkxXeFl0MkdZdVV3SWRPb2c2NzNSQzhSYkkzdWNYRzBNekxZVFVHdENxeWE4OTV6MG1uczZDMXY1eXB4aFVHT2R2a0MzRzczT3VPSm5vT0swOE5CR2Z2SW1WSTkydTVLR0QxYll6N05nSTJlQjZhdUE5MW1NalIxN0ElMkYlMkZKUkRYa0h6UW9ibDlIQkJuWTlDJTJCemY1dVZVV3VlNlJpJTJCZXY1N28lMkJXRG1ENTFrVDA2YUhxMXpFWjdjJTJCWU9lTCUyRjBxckJ3T010UE8lMkJHNzZEVHRhTHYxdlJaSXBNMGppczBNNU1SbVRMOVM3TTBvSUhRVEltV1hNYlpZSXJhWGw3ZXVRZHNqUWhkSkJoanZjYVFpcWpEY1VQT09SQW1xcWxoa3pxTEVnJTNEJTNEIiwic291cmNlIjoiT3JkZXJzIFNlcnZpY2UifQ.Qp0FG9B7X0igaLpx69Nq8ySN2bQy3isUrpDGCteRPNpSy19cnB2xrEQEPmXyTECV3Ropt9n6d8gswpsryE4dEA', 'name': 'e4d6c574-d18d-4f7c-84fe-28e1b8eef30b/1/files/20200308_084112_13_1065_3B_AnalyticMS_metadata_clip.xml'}, {'delivery': 'success', 'expires_at': '2020-03-16T03:58:29.088Z', 'location': 'https://api.planet.com/compute/ops/download/?token=eyJhbGciOiJIUzUxMiIsInR5cCI6IkpXVCJ9.eyJleHAiOjE1ODQzMzExMDksInN1YiI6IkhuY2E2b0FKSUp6OWFWQ1pwNCtlYUMwRUVRN3JHbjFxc21ZM2RjWndjbFdHZXl3RGdXNUNFMzU4a0pTMGdkTVM3V0R5T3o2czliZWZLbDl5czZsWmJRPT0iLCJ0b2tlbl90eXBlIjoiZG93bmxvYWQtYXNzZXQtc3RhY2siLCJhb2kiOiIiLCJhc3NldHMiOlt7Iml0ZW1fdHlwZSI6IiIsImFzc2V0X3R5cGUiOiIiLCJpdGVtX2lkIjoiIn1dLCJ1cmwiOiJodHRwczovL3N0b3JhZ2UuZ29vZ2xlYXBpcy5jb20vY29tcHV0ZS1vcmRlcnMtbGl2ZS9lNGQ2YzU3NC1kMThkLTRmN2MtODRmZS0yOGUxYjhlZWYzMGIvMS9maWxlcy8yMDIwMDMwOF8wODQxMTJfMTNfMTA2NV8zQl9BbmFseXRpY01TX0ROX3VkbV9jbGlwLnRpZj9FeHBpcmVzPTE1ODQzMzExMDlcdTAwMjZHb29nbGVBY2Nlc3NJZD1jb21wdXRlLWdjcy1zdmNhY2MlNDBwbGFuZXQtY29tcHV0ZS1wcm9kLmlhbS5nc2VydmljZWFjY291bnQuY29tXHUwMDI2U2lnbmF0dXJlPVdjN3FCY1I3a3Rxczh0U2tDa0I4MTNzQ1dCVHZaazUxZG5tSXNzYTBZQzAyUnpOSExRVm5Cb29hb3lmZlFsTG82aHJsQjhuR001NG4xcDZUTjVTQ0tNJTJCaERpaGlrUlJwNXg5WW1qRmJicmlnZDlZViUyQkp6UXZ2MENZNDhUdHFYbUlmZ1JXelV2bnY2RUJsSlJZdFpTaUt2TUV0Q0pWSDNPWVVlcUt0ZTh4YTJVMTJDT1glMkZnMW8zMzJnRG92SmhQakNDQmUxSUdNRWlYV2ZFRiUyRlBLM0RlMkdycUFwYkVEWnFzWExCMTc3UTdEREoxMzNzQW1mdmtwUiUyQkElMkIyTWxURjR4YzlVMDVUQ095QjdiNHpFOVMzYjFZMzZCJTJGd0ZPVTFCUmdKNzBqNFZ1dkk3WlNkb2RTYkM4cmxSYVJVY0ZTYyUyRiUyQnBXQmZnQkY1eUFTWkhtcEJxTFIlMkJBJTNEJTNEIiwic291cmNlIjoiT3JkZXJzIFNlcnZpY2UifQ.tUqYDFYyijubqv_jN34iuTJ44jSV3CHmXRI7pqLfaVxbmhUHqZGqa1BhSfN6jh2g6VrYUZWcZOF8m6ZguGUgwQ', 'name': 'e4d6c574-d18d-4f7c-84fe-28e1b8eef30b/1/files/20200308_084112_13_1065_3B_AnalyticMS_DN_udm_clip.tif'}, {'delivery': 'success', 'expires_at': '2020-03-16T03:58:29.082Z', 'location': 'https://api.planet.com/compute/ops/download/?token=eyJhbGciOiJIUzUxMiIsInR5cCI6IkpXVCJ9.eyJleHAiOjE1ODQzMzExMDksInN1YiI6IkxIa1VpKytlMGNwbnhqRXExNkttV21GQVdyeXdqSllHNG5ZZFd1eDRHaE1zNE9Nb3RENjBuWkl4TGJSUUxLRWNWWjBKK3NoQ1ZhclpaNng3VkYxRFZnPT0iLCJ0b2tlbl90eXBlIjoiZG93bmxvYWQtYXNzZXQtc3RhY2siLCJhb2kiOiIiLCJhc3NldHMiOlt7Iml0ZW1fdHlwZSI6IiIsImFzc2V0X3R5cGUiOiIiLCJpdGVtX2lkIjoiIn1dLCJ1cmwiOiJodHRwczovL3N0b3JhZ2UuZ29vZ2xlYXBpcy5jb20vY29tcHV0ZS1vcmRlcnMtbGl2ZS9lNGQ2YzU3NC1kMThkLTRmN2MtODRmZS0yOGUxYjhlZWYzMGIvMS9maWxlcy8yMDIwMDMwOF8wODQxMTJfMTNfMTA2NV9tZXRhZGF0YS5qc29uP0V4cGlyZXM9MTU4NDMzMTEwOVx1MDAyNkdvb2dsZUFjY2Vzc0lkPWNvbXB1dGUtZ2NzLXN2Y2FjYyU0MHBsYW5ldC1jb21wdXRlLXByb2QuaWFtLmdzZXJ2aWNlYWNjb3VudC5jb21cdTAwMjZTaWduYXR1cmU9U1M1USUyRkp6bEdhQUYzV2lTUzZVZ2VlNjJRMXEzQ1FmcjR2JTJGNEFEeURYc1hieWhENVZiTHdKa1JPSmh3M1hlRDNTSGRDTDNiS2drYVA2dXd4Z01ibk44RzNJZXJJNVVlMW5sTmJNendIZmslMkY1T2x0b1M5TDFkakRjYU95N0NqRGNtZUw2SXh4RzVwMFZHQlE5dU5lZDhYZ0hHeDI4RmhVdFNVVWVYV0EzJTJCNFo4WkFjdWtab0o4SUx4YTg1RW9DaTNkUFRtUXRUUEhUMlJIVURyciUyRktFRmxYcVJqNWQlMkZXcHRGJTJGeVVmM0RncnpMNno2cW1yeVpWeU5vS1NLTkQ3YklHNlJNZEUlMkZrJTJCMUlSYkVCUmtrNmFuJTJCZ1lNS2hGOGNqV01oRGtTRGYyS1RENjU4eUxiWDZUUnA2NktRaHdYU0lnSG56ekJDTjE1NnR6Z2xwb0EyM1dlRnclM0QlM0QiLCJzb3VyY2UiOiJPcmRlcnMgU2VydmljZSJ9.JjXywHShYuW4zPhijZ7KInC2hQnanuJ-vQuBQ0rbzzK3nrZGtepYdtt5b1lpp0MeszaeznZp8Bm6pmcUEwxV1w', 'name': 'e4d6c574-d18d-4f7c-84fe-28e1b8eef30b/1/files/20200308_084112_13_1065_metadata.json'}, {'delivery': 'success', 'expires_at': '2020-03-16T03:58:29.100Z', 'location': 'https://api.planet.com/compute/ops/download/?token=eyJhbGciOiJIUzUxMiIsInR5cCI6IkpXVCJ9.eyJleHAiOjE1ODQzMzExMDksInN1YiI6IlYvSnEzU3BHa282NnRGRzYxTHZBNDlUM2pWUnFPODY5UFdHdVcyY2xURXo5bWVURkRzQnByOGpqOERKNmtPNmJRVnV4bC9DZFltSVpzdmYvc1dxejV3PT0iLCJ0b2tlbl90eXBlIjoiZG93bmxvYWQtYXNzZXQtc3RhY2siLCJhb2kiOiIiLCJhc3NldHMiOlt7Iml0ZW1fdHlwZSI6IiIsImFzc2V0X3R5cGUiOiIiLCJpdGVtX2lkIjoiIn1dLCJ1cmwiOiJodHRwczovL3N0b3JhZ2UuZ29vZ2xlYXBpcy5jb20vY29tcHV0ZS1vcmRlcnMtbGl2ZS9lNGQ2YzU3NC1kMThkLTRmN2MtODRmZS0yOGUxYjhlZWYzMGIvMS9maWxlcy8yMDIwMDMwOF8wODQxMTJfMTNfMTA2NV8zQl9BbmFseXRpY01TX1NSX2NsaXAudGlmP0V4cGlyZXM9MTU4NDMzMTEwOVx1MDAyNkdvb2dsZUFjY2Vzc0lkPWNvbXB1dGUtZ2NzLXN2Y2FjYyU0MHBsYW5ldC1jb21wdXRlLXByb2QuaWFtLmdzZXJ2aWNlYWNjb3VudC5jb21cdTAwMjZTaWduYXR1cmU9ZFglMkZpTFA4cEtUNkxVREJXeDVnVVNPM2ZoNVc4d0VDSUZycXBIVll0WjNBYWlSYzglMkYwT0RRT2g4c1JFRVRLY1g4ck1xZiUyRk45OUtHUldjanZ4NkNWamVKRHdsNW1oYjFXYTZZb2RRVDhWaThwQ3ROd2hZVnNuamVGUlpidEY1aHVVZ3cxWlJOZ0slMkZRcnY2dnJHdkFHU01LWDlhWGJ6SkZRU1VPWDBZbVdWcWZDeDRIWmphZFZOZlFMdGVnTERiUVVyOU9kMDFscTZFdXp6RTBxbmphNHIlMkZWbkpSVDQ0ZyUyRmVVTTk2eTVMaFpGUVBBWWdBZmxuWE1sSG9vTTg0M1JXWVN6UDFGV29UdmxLVFVHcnQ2Z2o1UTNnUllreXpJMVN1aVRBQWo1RnAlMkJJRkF2REFmeks0RVZHa2dEVUcwcjB5eWx0T3hzQ050Tlh0QUNpZms2eEhzSFElM0QlM0QiLCJzb3VyY2UiOiJPcmRlcnMgU2VydmljZSJ9.KUvAYDcKRRtidWfKljqd6s0JWoVYhqgH-O1nZVi_mJXY_0co-3dINYOmgDzeWlG2gtaguMFMQlZvRnoBaRVPHA', 'name': 'e4d6c574-d18d-4f7c-84fe-28e1b8eef30b/1/files/20200308_084112_13_1065_3B_AnalyticMS_SR_clip.tif'}]}, 'created_on': '2020-03-15T03:57:11.137Z', 'error_hints': [], 'id': 'e4d6c574-d18d-4f7c-84fe-28e1b8eef30b', 'last_message': 'Delivery completed', 'last_modified': '2020-03-15T03:59:31.467Z', 'name': 'just clip', 'products': [{'item_ids': ['20200308_084112_13_1065'], 'item_type': 'PSScene4Band', 'product_bundle': 'analytic_sr'}], 'state': 'success', 'tools': [{'clip': {'aoi': {'coordinates': [[[34.79228141877853, -2.652182761619736], [34.79228141877853, -2.6603132247492183], [34.78419658122145, -2.6603132247492183], [34.78419658122145, -2.652182761619736], [34.79228141877853, -2.652182761619736]]], 'type': 'Polygon'}}}]}\n"
     ]
    },
    {
     "name": "stdout",
     "output_type": "stream",
     "text": [
      "{'_links': {'_self': 'https://api.planet.com/compute/ops/orders/v2/9fb9b4be-d286-4019-b526-ccf2f5673071', 'results': [{'delivery': 'success', 'expires_at': '2020-03-16T03:58:29.078Z', 'location': 'https://api.planet.com/compute/ops/download/?token=eyJhbGciOiJIUzUxMiIsInR5cCI6IkpXVCJ9.eyJleHAiOjE1ODQzMzExMDksInN1YiI6IlFyS0g5eDBLVU5jVy9KQmUwQVQyMXZtdEk3QXpUQ0VDckUwb0o4dEVyTWhnZnMyQjBBaTRueUZsWVpCZElocnpRZURwK1VZNTY2ZjlOSW9HUkcrZ1JRPT0iLCJ0b2tlbl90eXBlIjoiZG93bmxvYWQtYXNzZXQtc3RhY2siLCJhb2kiOiIiLCJhc3NldHMiOlt7Iml0ZW1fdHlwZSI6IiIsImFzc2V0X3R5cGUiOiIiLCJpdGVtX2lkIjoiIn1dLCJ1cmwiOiJodHRwczovL3N0b3JhZ2UuZ29vZ2xlYXBpcy5jb20vY29tcHV0ZS1vcmRlcnMtbGl2ZS85ZmI5YjRiZS1kMjg2LTQwMTktYjUyNi1jY2YyZjU2NzMwNzEvMS9tYW5pZmVzdC5qc29uP0V4cGlyZXM9MTU4NDMzMTEwOVx1MDAyNkdvb2dsZUFjY2Vzc0lkPWNvbXB1dGUtZ2NzLXN2Y2FjYyU0MHBsYW5ldC1jb21wdXRlLXByb2QuaWFtLmdzZXJ2aWNlYWNjb3VudC5jb21cdTAwMjZTaWduYXR1cmU9alBnYjU2ZzRQeUZqcGwzVGZ2WnlkRDFjSkxmSGoxWmYlMkZKdDJXSVhWenNoSGZQT1FpUnljaXNtaFVXUExMTzRpajk0N005Q1dqTDMxYjlIcXFQRWd2Mm1tcUNLaXhaallxWE5iWHNkVEIzOWM2VnpNZ28wWlMzVmFKelNVODJ0NDFpNnNJTEhYTW91a3J1dWZ5aVkwakVLMkhUSHQlMkZwWHl5MUhLTzJCRzk0U2RUSHRXc1Rad2QwU2hJUUpqbU9wZ1Q5RHk2N3djZE1xYXVOcTl2b0RtTHdhYTNoNDExR0NUZlhaQkJNOW5MQjE4M3pieVc1QXZ3ekpMRUZDMUx4cGloc2x4NmdDVFc5MWhsakRmN2pkVWdSTTZOQm5oMTltNXVtMyUyRnBhNkNFV25CTnYyTTBPS29nbHVicnclMkZubnlpRHBLMDRwc3d4aWZTYm1WUm1uQjVHY1ElM0QlM0QiLCJzb3VyY2UiOiJPcmRlcnMgU2VydmljZSJ9.-vC5Sg9r4s5EGstuHgMncfm_-ZHeyjiS4piER0PNJGeGLFEq2ifxnJGklT1DuraZ9PmyCgWS8Jn6k0j5x1wnOg', 'name': '9fb9b4be-d286-4019-b526-ccf2f5673071/1/manifest.json'}, {'delivery': 'success', 'expires_at': '2020-03-16T03:58:29.082Z', 'location': 'https://api.planet.com/compute/ops/download/?token=eyJhbGciOiJIUzUxMiIsInR5cCI6IkpXVCJ9.eyJleHAiOjE1ODQzMzExMDksInN1YiI6ImtZMzh0QVJqL0NSOXRldXJJRnR0UGlFL0JHQmpBZ2dnK1dQc3YrbU1vaW5nMjZpeHNCRFRGWDhDZXlvN0xsV2JOVk5GT0ZyVHVIeldGbkhieGRUUWFnPT0iLCJ0b2tlbl90eXBlIjoiZG93bmxvYWQtYXNzZXQtc3RhY2siLCJhb2kiOiIiLCJhc3NldHMiOlt7Iml0ZW1fdHlwZSI6IiIsImFzc2V0X3R5cGUiOiIiLCJpdGVtX2lkIjoiIn1dLCJ1cmwiOiJodHRwczovL3N0b3JhZ2UuZ29vZ2xlYXBpcy5jb20vY29tcHV0ZS1vcmRlcnMtbGl2ZS85ZmI5YjRiZS1kMjg2LTQwMTktYjUyNi1jY2YyZjU2NzMwNzEvMS9maWxlcy8yMDIwMDMwOF8wODQxMTJfMTNfMTA2NV8zQl9BbmFseXRpY01TX21ldGFkYXRhX2NsaXAueG1sP0V4cGlyZXM9MTU4NDMzMTEwOVx1MDAyNkdvb2dsZUFjY2Vzc0lkPWNvbXB1dGUtZ2NzLXN2Y2FjYyU0MHBsYW5ldC1jb21wdXRlLXByb2QuaWFtLmdzZXJ2aWNlYWNjb3VudC5jb21cdTAwMjZTaWduYXR1cmU9aFlBVkM1U2JhJTJGS2pzMHppMG5SQm52JTJGR29sSlFQdVM2MkVoQWpwRzBXOFNCT0E1SzhQc3NsQWJaQnl2UzBhM0dOeG5aZHdoaGJJS3h5RHU2QXRjUWI4TElMendvY2luVXlPSmxxWkhKV2g5NWN1Qm9vaGlobG9qV0N5UXZibktqaG1uc1NJdWw0QzFFTHR2MlljeiUyRjk0Tmc3Z1RaTHVoRnNCekljVGhJZWhDRjR6eVQ1MFRSbzdRd1lvcFJ1T3ByaExwN2MwNEE1TiUyRjhQejJkTHNlWVdvWmZoTTMxNkFNNnNBaSUyQjlralklMkZFSzVjNiUyRjhUWnElMkJYMTVhY1Nya2RhUGo0ajI4NHFQQkE1N1duNHlFeHVvcmt3MWhaaiUyRmVGY3lRdmU2eEZzY05ETzVoQjlKczhyM2JYSlN5UUIwRXFRVnFUdEt0alVScVRYZGdabjBKeUQwWU1nJTNEJTNEIiwic291cmNlIjoiT3JkZXJzIFNlcnZpY2UifQ.LyfmiD_8_nbSmAi3k0FdmxYZHja5rkTyL0Z8BE7AB0BzTb8n2Kgz66-X9UATKtCXQ8-cNqEQjVZLlEArEyPFXg', 'name': '9fb9b4be-d286-4019-b526-ccf2f5673071/1/files/20200308_084112_13_1065_3B_AnalyticMS_metadata_clip.xml'}, {'delivery': 'success', 'expires_at': '2020-03-16T03:58:29.089Z', 'location': 'https://api.planet.com/compute/ops/download/?token=eyJhbGciOiJIUzUxMiIsInR5cCI6IkpXVCJ9.eyJleHAiOjE1ODQzMzExMDksInN1YiI6ImwwOTJ0dzZWbXdzdUE0Rm9JOWZEbFozUXNtdXh3dVorcXRlVy92ZjN6OHl5L3l5TUtrZ0M5V3NmZnU2QnZIdUdOZklOMWE4aFUzNXh0YnIxRWVUODNnPT0iLCJ0b2tlbl90eXBlIjoiZG93bmxvYWQtYXNzZXQtc3RhY2siLCJhb2kiOiIiLCJhc3NldHMiOlt7Iml0ZW1fdHlwZSI6IiIsImFzc2V0X3R5cGUiOiIiLCJpdGVtX2lkIjoiIn1dLCJ1cmwiOiJodHRwczovL3N0b3JhZ2UuZ29vZ2xlYXBpcy5jb20vY29tcHV0ZS1vcmRlcnMtbGl2ZS85ZmI5YjRiZS1kMjg2LTQwMTktYjUyNi1jY2YyZjU2NzMwNzEvMS9maWxlcy8yMDIwMDMwOF8wODQxMTJfMTNfMTA2NV8zQl9BbmFseXRpY01TX1NSX2NsaXAudGlmP0V4cGlyZXM9MTU4NDMzMTEwOVx1MDAyNkdvb2dsZUFjY2Vzc0lkPWNvbXB1dGUtZ2NzLXN2Y2FjYyU0MHBsYW5ldC1jb21wdXRlLXByb2QuaWFtLmdzZXJ2aWNlYWNjb3VudC5jb21cdTAwMjZTaWduYXR1cmU9aExSa1NGUEpmTkkwN3JJRkhQZEcyUDNPbCUyQnRXaUFFNGF2RG1YQ2RpR2F5VlZDa2h0cTd1NkJ6ZkFwN29lMUpNaXVkSEJNTmtpJTJCNFF4MW94eW5DMmM3OG5OSGZQdjVWWmJYSE41QllUbmdpVVp5SXJkMkpwdXY4M2VsVE0zcCUyRko4UkV6ajdXNzQ0Ynk1dmNWeG5hdVV6QnBjdHhmcFpUaU94SXlxMUE0Q2tMN0ZpZldIRnExUGVmTVBUZWp5aWQ5cG9ZUlM3UFY0UWhhNElDcEZhYkYwa0lsbExlTHprMm0lMkZJUE5CamJRNjFOdSUyQmphT0l4ekFBRVdEM2cwS0xUODYxMlFZVXdvTDlvQzVvJTJCS0RQNFZZJTJGS3ZYR0JyMXVRS05Kb3NxbnhHNkFlbzBBQ0cwZVExRzk2eCUyQnlGcmR3UlVDaDF5a3BzQ2h4akpzWWxkJTJCdTJTWUdBJTNEJTNEIiwic291cmNlIjoiT3JkZXJzIFNlcnZpY2UifQ.sCNsMbssC58bSdFZZs60etzv27nGqDmPREbMYLbX1Sq5YUW7-dgIJN1rsChndCYdNJvQsECZOu9ZQp2I0MMq_g', 'name': '9fb9b4be-d286-4019-b526-ccf2f5673071/1/files/20200308_084112_13_1065_3B_AnalyticMS_SR_clip.tif'}, {'delivery': 'success', 'expires_at': '2020-03-16T03:58:29.085Z', 'location': 'https://api.planet.com/compute/ops/download/?token=eyJhbGciOiJIUzUxMiIsInR5cCI6IkpXVCJ9.eyJleHAiOjE1ODQzMzExMDksInN1YiI6Ind6S0dWMlJiWHkyWmswQ21MbVlxQ1VxLzRPb05LbFVQRThBdlJsbTNUbWlSSkJYcnpJeTlTTEwrZHpmQnl4VVo4cDMrclVSU1lJbmUzdGZUL1ZYZHZnPT0iLCJ0b2tlbl90eXBlIjoiZG93bmxvYWQtYXNzZXQtc3RhY2siLCJhb2kiOiIiLCJhc3NldHMiOlt7Iml0ZW1fdHlwZSI6IiIsImFzc2V0X3R5cGUiOiIiLCJpdGVtX2lkIjoiIn1dLCJ1cmwiOiJodHRwczovL3N0b3JhZ2UuZ29vZ2xlYXBpcy5jb20vY29tcHV0ZS1vcmRlcnMtbGl2ZS85ZmI5YjRiZS1kMjg2LTQwMTktYjUyNi1jY2YyZjU2NzMwNzEvMS9maWxlcy8yMDIwMDMwOF8wODQxMTJfMTNfMTA2NV9tZXRhZGF0YS5qc29uP0V4cGlyZXM9MTU4NDMzMTEwOVx1MDAyNkdvb2dsZUFjY2Vzc0lkPWNvbXB1dGUtZ2NzLXN2Y2FjYyU0MHBsYW5ldC1jb21wdXRlLXByb2QuaWFtLmdzZXJ2aWNlYWNjb3VudC5jb21cdTAwMjZTaWduYXR1cmU9UnpLMXJDMVVhSFE5bVl5UWNNck1SMnlleXF0a2NnMXowJTJCWEV0QlBTYjRYSjZ6SDZJZzdqUFd4RUF3SzZEc1hpczd2YnBZcmpNNG9iaHg2clpYR3VObmRGaFZTcW9iSHJUWDJyeTdWYlFsUW9XNlI1NWFMWHFUdk5rTU5LSE5kOVM0NnZJTXg4Q2pPVDE0ZFlIOTdwTHE5ZUlwY1dDWUtBYzBqbnFpUElmbnl0OGRpdmxKdG8lMkJXQkE0bFVLektES0wzMlU2WkRGNDltVXFFSUVzcnlUZVN5cVlSSDM1UWpFOHlqSXdYekdMN0wxVlh4ak80V21oa0t2M01henFLUGRnZHBYRmt6eHRKV2w3Yk56eVYlMkZiSE11enlWcTh3cDFaZHRSNEhWYkoyMGhaQVM4VFdNU2V4dFcwcyUyRjhHUUNtVkpNbFMwQnFhOSUyQmM1blJETFdKJTJGSzBnJTNEJTNEIiwic291cmNlIjoiT3JkZXJzIFNlcnZpY2UifQ._dfAj54JoyfoP2OluSLxhFyvsPC0vM8Wz8LPquwhYlE7qJ9XiaXPMoXgj-Pimkfnnp-NGvF9NlDwPSc5CPurvw', 'name': '9fb9b4be-d286-4019-b526-ccf2f5673071/1/files/20200308_084112_13_1065_metadata.json'}, {'delivery': 'success', 'expires_at': '2020-03-16T03:58:29.093Z', 'location': 'https://api.planet.com/compute/ops/download/?token=eyJhbGciOiJIUzUxMiIsInR5cCI6IkpXVCJ9.eyJleHAiOjE1ODQzMzExMDksInN1YiI6Ikt0c0NESktFSFNuTFR5Q2ZkVnI1WlJpUUxoWE9vMEtENitzdmZJRWw0NEw4TTJWbWFSTVFiTEprWC84b25KSDNXYmkxaWVyRzVJbFZHV1lpK0hySWhRPT0iLCJ0b2tlbl90eXBlIjoiZG93bmxvYWQtYXNzZXQtc3RhY2siLCJhb2kiOiIiLCJhc3NldHMiOlt7Iml0ZW1fdHlwZSI6IiIsImFzc2V0X3R5cGUiOiIiLCJpdGVtX2lkIjoiIn1dLCJ1cmwiOiJodHRwczovL3N0b3JhZ2UuZ29vZ2xlYXBpcy5jb20vY29tcHV0ZS1vcmRlcnMtbGl2ZS85ZmI5YjRiZS1kMjg2LTQwMTktYjUyNi1jY2YyZjU2NzMwNzEvMS9maWxlcy8yMDIwMDMwOF8wODQxMTJfMTNfMTA2NV8zQl9BbmFseXRpY01TX0ROX3VkbV9jbGlwLnRpZj9FeHBpcmVzPTE1ODQzMzExMDlcdTAwMjZHb29nbGVBY2Nlc3NJZD1jb21wdXRlLWdjcy1zdmNhY2MlNDBwbGFuZXQtY29tcHV0ZS1wcm9kLmlhbS5nc2VydmljZWFjY291bnQuY29tXHUwMDI2U2lnbmF0dXJlPVU1cDIlMkZ4RXFuR2lIQ05sbXFKRjZ2VTZIWFZ0MWpMN3h3QUpNWkRDYiUyRkF5SmhZZzlNUDdiQTE0S1RJS0g1cENKcmNWT3gwa2hYcDljVGM5WnpRQzRRQUZGNkR3JTJGbU1sMnJ6TFklMkJiaDZja1hwWlFTYUpMMmFHbTloWSUyRm1FYXpRODdZcms3aEJnQXlzTGNKdndxczdiMXR3ZHVGblN4Q1dXbDN3N1VOb29kbnBpREE5aVNsTXBGZGJSMiUyRnNyJTJGTTFVZE9kY2lwbTY3N0JIOXR0TCUyQlltbkQlMkJlYUtXSkV2MFRtMU0wZHBsZUdqQm14aGYlMkZ4MFdEdiUyQlp4cFhKT00lMkZUYXQ3JTJGNG52STVIQXFyMkc2Q3N4SG9WTjdkeTZJJTJCMlJVNkRmSXppZGx6WFNwNnl6bzdBMlZaRjdHZHpXRGxMdTJ5UGhaTElEaXIyc2JwRks3RU9WNWIweEElM0QlM0QiLCJzb3VyY2UiOiJPcmRlcnMgU2VydmljZSJ9.RQdN-pE1oJ-onP0DiVIW0CR0K1VaXFlNy5oINHB--QTezT6VgB-SxzNFWck4j-IFjbYjIoRgdLOuweu1uwCCJw', 'name': '9fb9b4be-d286-4019-b526-ccf2f5673071/1/files/20200308_084112_13_1065_3B_AnalyticMS_DN_udm_clip.tif'}]}, 'created_on': '2020-03-15T03:57:11.524Z', 'error_hints': [], 'id': '9fb9b4be-d286-4019-b526-ccf2f5673071', 'last_message': 'Delivery completed', 'last_modified': '2020-03-15T03:59:31.445Z', 'name': 'just clip', 'products': [{'item_ids': ['20200308_084112_13_1065'], 'item_type': 'PSScene4Band', 'product_bundle': 'analytic_sr'}], 'state': 'success', 'tools': [{'clip': {'aoi': {'coordinates': [[[34.79228141877853, -2.652182761619736], [34.79228141877853, -2.6603132247492183], [34.78419658122145, -2.6603132247492183], [34.78419658122145, -2.652182761619736], [34.79228141877853, -2.652182761619736]]], 'type': 'Polygon'}}}]}\n"
     ]
    },
    {
     "name": "stdout",
     "output_type": "stream",
     "text": [
      "{'_links': {'_self': 'https://api.planet.com/compute/ops/orders/v2/2a792796-defd-4411-89aa-0c066bf3ca69', 'results': [{'delivery': 'success', 'expires_at': '2020-03-16T03:58:29.085Z', 'location': 'https://api.planet.com/compute/ops/download/?token=eyJhbGciOiJIUzUxMiIsInR5cCI6IkpXVCJ9.eyJleHAiOjE1ODQzMzExMDksInN1YiI6Im9XY056MGc4NmdmaUJIL0YzaGdncmFYeVVOVEZRNjVvQjB3UzlVWkRqTmVIdUhDQ2t3TTA0R0FqSTRkeFg4WitzZmJVY3duNjZzeElWeHo0Q1YvdWRBPT0iLCJ0b2tlbl90eXBlIjoiZG93bmxvYWQtYXNzZXQtc3RhY2siLCJhb2kiOiIiLCJhc3NldHMiOlt7Iml0ZW1fdHlwZSI6IiIsImFzc2V0X3R5cGUiOiIiLCJpdGVtX2lkIjoiIn1dLCJ1cmwiOiJodHRwczovL3N0b3JhZ2UuZ29vZ2xlYXBpcy5jb20vY29tcHV0ZS1vcmRlcnMtbGl2ZS8yYTc5Mjc5Ni1kZWZkLTQ0MTEtODlhYS0wYzA2NmJmM2NhNjkvMS9maWxlcy8yMDIwMDMwOF8wODQxMTJfMTNfMTA2NV8zQl9BbmFseXRpY01TX1NSX2NsaXAudGlmP0V4cGlyZXM9MTU4NDMzMTEwOVx1MDAyNkdvb2dsZUFjY2Vzc0lkPWNvbXB1dGUtZ2NzLXN2Y2FjYyU0MHBsYW5ldC1jb21wdXRlLXByb2QuaWFtLmdzZXJ2aWNlYWNjb3VudC5jb21cdTAwMjZTaWduYXR1cmU9VGk3SG1mVkt6cmlONWpoeTMwSHJ4YTJSWmF3Zzlja0tmVEFwJTJGcUg3dDVwRXpPeTRTbk5laFBEZjMyczVOdkczdXVnV1M4QnNpYVhEcVpERHg3OGhsdVZMbXdqQVVCZHVxdEZKZFQzZ1VEUjQlMkYyUkJsTGE3NEFjUmRTQXhVNVMxN3VZaEFnMkdnT29LZHBWMG51a3ZKQkZaRXRsbk4zdXd2dGdPOEMwN1JZQ3ZIMW1mcXBhTUFhS0l3VTBKJTJGbHZKcHlWZzhqT1V4MSUyQlEybGxtekd2c0hqQWs4RU82d1J0dlVEazMlMkJ2ZTltanp5eFNtMmd0Q2VodlM4cnI1b29STEQ3VUdwcFBITmdjc1FZSFh5TEpiYW4wODQyZXVVNVVlc2hDMm1zTTlBWXRGT0hNMkdRZUw4eGdwTUZBbVZDYm9pdzRKTHVHZzRndGFqS2sxVGRkaiUyQjd3JTNEJTNEIiwic291cmNlIjoiT3JkZXJzIFNlcnZpY2UifQ.NMMm1jkBIIjWWkZZiknQedObxr7nApqLdpw9Fk-kA__oav48T2mqaW99KurZ0W5xj9vNIci_cRVAfaMtps3t6Q', 'name': '2a792796-defd-4411-89aa-0c066bf3ca69/1/files/20200308_084112_13_1065_3B_AnalyticMS_SR_clip.tif'}, {'delivery': 'success', 'expires_at': '2020-03-16T03:58:29.072Z', 'location': 'https://api.planet.com/compute/ops/download/?token=eyJhbGciOiJIUzUxMiIsInR5cCI6IkpXVCJ9.eyJleHAiOjE1ODQzMzExMDksInN1YiI6IjVpZFNnV3k0UGlndXl3elcydjJqcThuOS8yRnhHTUYyNDluRkVWOVBuWEpZWjVvQVFqZVhpZVhQOUdIWVExM0VQTEtralJpaENoMy92MU9ndSt5a0RBPT0iLCJ0b2tlbl90eXBlIjoiZG93bmxvYWQtYXNzZXQtc3RhY2siLCJhb2kiOiIiLCJhc3NldHMiOlt7Iml0ZW1fdHlwZSI6IiIsImFzc2V0X3R5cGUiOiIiLCJpdGVtX2lkIjoiIn1dLCJ1cmwiOiJodHRwczovL3N0b3JhZ2UuZ29vZ2xlYXBpcy5jb20vY29tcHV0ZS1vcmRlcnMtbGl2ZS8yYTc5Mjc5Ni1kZWZkLTQ0MTEtODlhYS0wYzA2NmJmM2NhNjkvMS9tYW5pZmVzdC5qc29uP0V4cGlyZXM9MTU4NDMzMTEwOVx1MDAyNkdvb2dsZUFjY2Vzc0lkPWNvbXB1dGUtZ2NzLXN2Y2FjYyU0MHBsYW5ldC1jb21wdXRlLXByb2QuaWFtLmdzZXJ2aWNlYWNjb3VudC5jb21cdTAwMjZTaWduYXR1cmU9ajMzU1EwR3V0VldCJTJCMDNJblJGNEdNWHJvZVE0SEwyYnk5bk5ndVZ6aHJBRjAxYVl3Vk9Pa2NKSzRtYlpLNXNRZEEzNDhwYURMSUlyblBtTmphWEFSelVkckFUYzR2bnA2MmlmektEJTJGT3B2bjZMbFh3VWptT0dER2F5QWxxQ2VwNU4lMkY0S2RaMG8xNjJnenhzdXVWYWloazhidjk2RlRBcW1QSDVQZVQ2bmR3c2dRQVFSJTJGMFJQR2dsQmNmWWNOclFvZHUlMkJzYTdocVQyUzJhcVdwTmIlMkYlMkJUZzlsdEZYQ0hJdjMlMkZxS0w2OEtVSWpURjg3ZDZPRWk3eEhRSk9VV3FxdzZ0enlLY2s4aU9YYXVDSmdrNVFjazIlMkJFVWFIYk9SUyUyRnYxMVpVWHF6R0p3TXVPV0FSNkJJSFJnMDBvekZhUGpaNHZJN0RoYTNOYlBUaWY1OXZHaTF4ZnclM0QlM0QiLCJzb3VyY2UiOiJPcmRlcnMgU2VydmljZSJ9.P98fmIyElIB05B_qiI6WDlZKw2gIwUg5B97pmhEWlrvEgBVeZEe6IBBMR0sboQ19fvfbEpIMxXdLBcijW1Pg5Q', 'name': '2a792796-defd-4411-89aa-0c066bf3ca69/1/manifest.json'}, {'delivery': 'success', 'expires_at': '2020-03-16T03:58:29.077Z', 'location': 'https://api.planet.com/compute/ops/download/?token=eyJhbGciOiJIUzUxMiIsInR5cCI6IkpXVCJ9.eyJleHAiOjE1ODQzMzExMDksInN1YiI6Imw3d0Fja1djY2JuMWFucHNZKytKVzZTazljM1FCaitvbjJySHRiV3c4SGlzMFJMV2FSdEZON3AyTWtnQnlPR3FXYjZ1S3U3SU53bkhJb2ZVN1ZMMXpBPT0iLCJ0b2tlbl90eXBlIjoiZG93bmxvYWQtYXNzZXQtc3RhY2siLCJhb2kiOiIiLCJhc3NldHMiOlt7Iml0ZW1fdHlwZSI6IiIsImFzc2V0X3R5cGUiOiIiLCJpdGVtX2lkIjoiIn1dLCJ1cmwiOiJodHRwczovL3N0b3JhZ2UuZ29vZ2xlYXBpcy5jb20vY29tcHV0ZS1vcmRlcnMtbGl2ZS8yYTc5Mjc5Ni1kZWZkLTQ0MTEtODlhYS0wYzA2NmJmM2NhNjkvMS9maWxlcy8yMDIwMDMwOF8wODQxMTJfMTNfMTA2NV8zQl9BbmFseXRpY01TX0ROX3VkbV9jbGlwLnRpZj9FeHBpcmVzPTE1ODQzMzExMDlcdTAwMjZHb29nbGVBY2Nlc3NJZD1jb21wdXRlLWdjcy1zdmNhY2MlNDBwbGFuZXQtY29tcHV0ZS1wcm9kLmlhbS5nc2VydmljZWFjY291bnQuY29tXHUwMDI2U2lnbmF0dXJlPVFCTW0xN0RjQmQ2JTJGRmdrelFTZWw2blZ2Tkg1d3l6eVYxWWtGTWxWbVElMkZyTGY4bDVFYUt5QTg5YUVRT0lYSkVJOFU5TlJNOFIlMkJpb0MwZXkwQ0xNN0pRQUNncDNYenBVY3BZNEp5aDN2dlF4Y2tKRVclMkIzNk1nRGxJOGJ4ZGRNdXlqY3I3aElvOE1kSVhlV01WQXQwdThVd0U2N05hQzVjcCUyRjUyMVRpWFhMQkNhZUFJdmdZQlhBZ1N2MWJWVTkxZWhBa1Fuc2pQMkdjU0xmY0klMkYwN2d4dERHZVklMkZhYVR3STIwa2tlbDdnN1V5WG5GUndFT2x0UyUyQjdWY09vM2V3aGRVU3VqSlNiM0w5Umk4c25yeG9zSmkxb0Nsalpjcm5XaG9XWmpvNGpVQjdPbFp4bXpJMEglMkZxeVJPNm0xY0FPSjNNQnVmZWhxdzN5RHk4QkhsNlpFNTRVZyUzRCUzRCIsInNvdXJjZSI6Ik9yZGVycyBTZXJ2aWNlIn0.iYqGR3zUWbpnpIXB-yGzo_vl8T8CDEwKxm30jnONzA-0-g2c1U9vOVtvQPddvwHIYS5o9D9DzvqW1mfZNXIaPA', 'name': '2a792796-defd-4411-89aa-0c066bf3ca69/1/files/20200308_084112_13_1065_3B_AnalyticMS_DN_udm_clip.tif'}, {'delivery': 'success', 'expires_at': '2020-03-16T03:58:29.090Z', 'location': 'https://api.planet.com/compute/ops/download/?token=eyJhbGciOiJIUzUxMiIsInR5cCI6IkpXVCJ9.eyJleHAiOjE1ODQzMzExMDksInN1YiI6Ik5FOGlGL204SWtCRmMrckR6NW9haGlWNlpyZnJaUzR3WlE5QkRBYXA3MDA3OWQ3UFhIL1NuMC9GWk9CczRuQ0Jlcm9SeHNpaW9pOWUvRWw1OFBONU5RPT0iLCJ0b2tlbl90eXBlIjoiZG93bmxvYWQtYXNzZXQtc3RhY2siLCJhb2kiOiIiLCJhc3NldHMiOlt7Iml0ZW1fdHlwZSI6IiIsImFzc2V0X3R5cGUiOiIiLCJpdGVtX2lkIjoiIn1dLCJ1cmwiOiJodHRwczovL3N0b3JhZ2UuZ29vZ2xlYXBpcy5jb20vY29tcHV0ZS1vcmRlcnMtbGl2ZS8yYTc5Mjc5Ni1kZWZkLTQ0MTEtODlhYS0wYzA2NmJmM2NhNjkvMS9maWxlcy8yMDIwMDMwOF8wODQxMTJfMTNfMTA2NV9tZXRhZGF0YS5qc29uP0V4cGlyZXM9MTU4NDMzMTEwOVx1MDAyNkdvb2dsZUFjY2Vzc0lkPWNvbXB1dGUtZ2NzLXN2Y2FjYyU0MHBsYW5ldC1jb21wdXRlLXByb2QuaWFtLmdzZXJ2aWNlYWNjb3VudC5jb21cdTAwMjZTaWduYXR1cmU9T3pQS0pQbXBHSncxd0ZaYzdYdExIdTFGYllkb1hZMkwlMkZDS1kxSDN3Q0IlMkZLRFNHc2hJUEFIeVhLWk8lMkZjT1c4Y2dvbWYxWEVyaWJoJTJGcnhMRU1xUW40VElEVUNGZHQ2d2RVZXlDWjJGRkZMV2JvdXRoT0lyamJNN0NSSzk2JTJGRkFoY2VsRiUyRjN1QUl4UUJmcVZ0S2pMaDVkcWR5Wm9DQzZtZiUyRmVxazBFY0tMUmd0aCUyQjNwMzl3dGVHSTBxVTZmJTJCSWE5eFJWWDl2JTJCcHVrcjNKQmEwMmVLVmRwcnVGRlM1VFZaTVFKclV1MWslMkJUbVhDTEJVVXNNJTJGNFNnZ0RRWXFFdDRWU1NJUzdTZ3hnbER2eUpSY2hSdDFsOXA3clVKbHBrMHFoVm9DOTgyMXdlcjA1ZU1RR3Z4WFVNeFluZzZaUDhydHNJcDBnQjR3WmlHbjlwZVZiN1gwYmFBJTNEJTNEIiwic291cmNlIjoiT3JkZXJzIFNlcnZpY2UifQ.gZbD_EbeD9f0bO6MsGdJEvTm5haWHaGJFJxs26h__1Vl-gQThURRDmztNQydje4WAUbiSv6_1o7bs-iPaGUv_A', 'name': '2a792796-defd-4411-89aa-0c066bf3ca69/1/files/20200308_084112_13_1065_metadata.json'}, {'delivery': 'success', 'expires_at': '2020-03-16T03:58:29.080Z', 'location': 'https://api.planet.com/compute/ops/download/?token=eyJhbGciOiJIUzUxMiIsInR5cCI6IkpXVCJ9.eyJleHAiOjE1ODQzMzExMDksInN1YiI6IndDVlVvUnVlV2gySzIxMXR2R1QvZFBjbmxDR1Q5R2NvdWROZGViaGFucm9DbHJBSFNkZjRucll6eWZaOFNCOE5HZHQwOFlpanJlQWZMaEJTd3NFTnhRPT0iLCJ0b2tlbl90eXBlIjoiZG93bmxvYWQtYXNzZXQtc3RhY2siLCJhb2kiOiIiLCJhc3NldHMiOlt7Iml0ZW1fdHlwZSI6IiIsImFzc2V0X3R5cGUiOiIiLCJpdGVtX2lkIjoiIn1dLCJ1cmwiOiJodHRwczovL3N0b3JhZ2UuZ29vZ2xlYXBpcy5jb20vY29tcHV0ZS1vcmRlcnMtbGl2ZS8yYTc5Mjc5Ni1kZWZkLTQ0MTEtODlhYS0wYzA2NmJmM2NhNjkvMS9maWxlcy8yMDIwMDMwOF8wODQxMTJfMTNfMTA2NV8zQl9BbmFseXRpY01TX21ldGFkYXRhX2NsaXAueG1sP0V4cGlyZXM9MTU4NDMzMTEwOVx1MDAyNkdvb2dsZUFjY2Vzc0lkPWNvbXB1dGUtZ2NzLXN2Y2FjYyU0MHBsYW5ldC1jb21wdXRlLXByb2QuaWFtLmdzZXJ2aWNlYWNjb3VudC5jb21cdTAwMjZTaWduYXR1cmU9UEdRWkduSXRsc2dzVFV6Z0V0eWhzc2JGU2dvd0VGRE8wcnBZQSUyRnBHTVRYZUNhWkd6c3R5ZFk2MWxZQSUyQnJNM1U3OFZrZVFsSWtlQk9nb1pVRmhENGxPR3JNemdoQXlGTjdXMmRFdHc0JTJCYnNBNGNzRUFEOWh2cFRNaDBYJTJCQTdLMWRKYTVmNmNQU1VPSk1oUE5ZVURzdXYlMkJrMGMzNDElMkJwbkRudjQxZ1BXTm0lMkJnZiUyRjU3ZHZRODUlMkJ1dnBoTVFDOUJmelFHY0ZRTzNnWFVGTjBPWWRvY210UGVkNzJwelVkbnlhS0tMZHdLRWglMkZRZ2o1TmR1ZURSbk9KMWIlMkJ6VUMlMkJ6NUQxUkdPRTg5N1NhWEttNUM0czAwNmxZMXlVOGd1Z25XUThwU1hsaVZDNDhWVVQ1ekQwdnRzMGZ6WlJIWUVnblZEOGR1RDBIWFBxbkJ4JTJCQnJiYlhBQ0ElM0QlM0QiLCJzb3VyY2UiOiJPcmRlcnMgU2VydmljZSJ9.JSxx3RrswuVF49Vm6MoBpETVU2kl_O3brI7jxsFpLN4scxopSe0U3ZDyO34JA5DnLVQKpvzHjAEACrHiH2r3Vg', 'name': '2a792796-defd-4411-89aa-0c066bf3ca69/1/files/20200308_084112_13_1065_3B_AnalyticMS_metadata_clip.xml'}]}, 'created_on': '2020-03-15T03:57:11.882Z', 'error_hints': [], 'id': '2a792796-defd-4411-89aa-0c066bf3ca69', 'last_message': 'Delivery completed', 'last_modified': '2020-03-15T03:59:31.446Z', 'name': 'just clip', 'products': [{'item_ids': ['20200308_084112_13_1065'], 'item_type': 'PSScene4Band', 'product_bundle': 'analytic_sr'}], 'state': 'success', 'tools': [{'clip': {'aoi': {'coordinates': [[[34.79228141877853, -2.652182761619736], [34.79228141877853, -2.6603132247492183], [34.78419658122145, -2.6603132247492183], [34.78419658122145, -2.652182761619736], [34.79228141877853, -2.652182761619736]]], 'type': 'Polygon'}}}]}\n"
     ]
    },
    {
     "name": "stdout",
     "output_type": "stream",
     "text": [
      "{'_links': {'_self': 'https://api.planet.com/compute/ops/orders/v2/2b48616c-9d02-466e-945d-400eb2777384', 'results': [{'delivery': 'success', 'expires_at': '2020-03-16T03:59:02.263Z', 'location': 'https://api.planet.com/compute/ops/download/?token=eyJhbGciOiJIUzUxMiIsInR5cCI6IkpXVCJ9.eyJleHAiOjE1ODQzMzExNDIsInN1YiI6Inc4NXJGT0hPVGlOdWdSUGZpNnpyd0dCZThBYUc2bVBDK3pTbkhpTTh2Z3ZxQjYra2wvZHoxWDZjcUxSZ09YSGsvVTN4ZlNjR3kvem44ZWxQc3dKbEl3PT0iLCJ0b2tlbl90eXBlIjoiZG93bmxvYWQtYXNzZXQtc3RhY2siLCJhb2kiOiIiLCJhc3NldHMiOlt7Iml0ZW1fdHlwZSI6IiIsImFzc2V0X3R5cGUiOiIiLCJpdGVtX2lkIjoiIn1dLCJ1cmwiOiJodHRwczovL3N0b3JhZ2UuZ29vZ2xlYXBpcy5jb20vY29tcHV0ZS1vcmRlcnMtbGl2ZS8yYjQ4NjE2Yy05ZDAyLTQ2NmUtOTQ1ZC00MDBlYjI3NzczODQvMS9maWxlcy8yMDIwMDMwOF8wODQxMTJfMTNfMTA2NV9tZXRhZGF0YS5qc29uP0V4cGlyZXM9MTU4NDMzMTE0Mlx1MDAyNkdvb2dsZUFjY2Vzc0lkPWNvbXB1dGUtZ2NzLXN2Y2FjYyU0MHBsYW5ldC1jb21wdXRlLXByb2QuaWFtLmdzZXJ2aWNlYWNjb3VudC5jb21cdTAwMjZTaWduYXR1cmU9bWclMkZ0MW0yb1U5QURMbTNZcFNLS2wwM0xEJTJCNmNXUnFEaVc0Mkx4TiUyRlRBVmpOclNqSk9Ob1Nta3F1OFhnNmNPb2haM3RrRDlMTWVwa2tUYTZ6dnhOSGdteVRCWWJtJTJCMiUyRkx3Rm9SMmtJSlVaZkJ1WiUyQjBSdTF2VDBBTzFNcjFFZHZvM0QzdFFKTlFhR2pkc1BHTGZWTDR2blNYUUtiWEhWSWdSc2J6bUhxQ1FCbmJNb3UlMkZCQiUyRk11OVBzMmU1JTJCdUI3QXMwTTNPaTVDMVUwejgxOXdXMTFtQ1pkMjd4c3h2MEhaZjNmZjNFN1pFRW02NGtkTVJKM2FaS2J6NU54b1hQQzBXemFjZTFTbGNnVXlRTVJMbWM0UEhEcHV5VTYlMkY1aUgwbjRKUWRPS1hNUE8lMkZOTSUyQm5wcDJPV3hvaUZrQ3UwY0g2aURXWTJJJTJGbDRIWXcxZlJyY0lGUXclM0QlM0QiLCJzb3VyY2UiOiJPcmRlcnMgU2VydmljZSJ9.XcqgvUN1ynwEsrmHt04waCQ_hTtNtLyubMkYmaUdoGBkoxW4DccrKkTdE84KohHrlXdISqQ5HNyxFf_pqmvOPg', 'name': '2b48616c-9d02-466e-945d-400eb2777384/1/files/20200308_084112_13_1065_metadata.json'}, {'delivery': 'success', 'expires_at': '2020-03-16T03:59:02.255Z', 'location': 'https://api.planet.com/compute/ops/download/?token=eyJhbGciOiJIUzUxMiIsInR5cCI6IkpXVCJ9.eyJleHAiOjE1ODQzMzExNDIsInN1YiI6IkVpNU9Bb1NXakFiRVlCVWpoT0R4ZTV6MDJpM1hBNkIzd0ZUU2cwV1R5WVh2SjhZT0pjViswNkpCZ0VyT25yMXlGSlltQ0M4SGMwNjZOdHJ0M2FZTlJRPT0iLCJ0b2tlbl90eXBlIjoiZG93bmxvYWQtYXNzZXQtc3RhY2siLCJhb2kiOiIiLCJhc3NldHMiOlt7Iml0ZW1fdHlwZSI6IiIsImFzc2V0X3R5cGUiOiIiLCJpdGVtX2lkIjoiIn1dLCJ1cmwiOiJodHRwczovL3N0b3JhZ2UuZ29vZ2xlYXBpcy5jb20vY29tcHV0ZS1vcmRlcnMtbGl2ZS8yYjQ4NjE2Yy05ZDAyLTQ2NmUtOTQ1ZC00MDBlYjI3NzczODQvMS9maWxlcy8yMDIwMDMwOF8wODQxMTJfMTNfMTA2NV8zQl9BbmFseXRpY01TX1NSX2NsaXAudGlmP0V4cGlyZXM9MTU4NDMzMTE0Mlx1MDAyNkdvb2dsZUFjY2Vzc0lkPWNvbXB1dGUtZ2NzLXN2Y2FjYyU0MHBsYW5ldC1jb21wdXRlLXByb2QuaWFtLmdzZXJ2aWNlYWNjb3VudC5jb21cdTAwMjZTaWduYXR1cmU9TzlqQngyNDNuczkzSHU1bThKWnZqUkxMV0E0M1J0Y2JzcFFXb3hxQXRGQXFKZ3pmdHg0TTdMbm44QjglMkJyeCUyRm5tVWx6Q0k1eXRXNTF1ajF5NEtpZHhmVTVTbFFtN2t0VVluWXRqdGptV2xhN3R4N2RTNEUwJTJCQm5OTlRyQUNHWGd2UHNSTGE5N0JzUTFZU1BiYVJ6WGpMdVdDbGdXbnV2YXFlU05Hbkd5dU5KdVh4YXluR2k5N2hwNmNMUTVPbmVDdmlSQmNKRXJWWGIlMkZQbDk2Y0hJcGIzNUJRMlZrY1R1dXZmbjJNOU1hUzZsOG5pWEozS0dqV2R0MEJnMTBJcDJERHFQeWdHY3FRdVlnVDRFbXJmbnNXRXhyVW1PWU5nS3AzTmZhZTFMemZaa01nNmVTYzNoTENKMXRNZGJuS3lrb2NibHppcXJ4OVRrSFlBTkZ1TmN2UFElM0QlM0QiLCJzb3VyY2UiOiJPcmRlcnMgU2VydmljZSJ9._sExqEy5kCtdSxd8QlxNXzaMA8BoRe4FNppVOYURDGVbkEvg0TpfTymYuvTg8w48uB6QrOW-5zlSILjyAB_r5Q', 'name': '2b48616c-9d02-466e-945d-400eb2777384/1/files/20200308_084112_13_1065_3B_AnalyticMS_SR_clip.tif'}, {'delivery': 'success', 'expires_at': '2020-03-16T03:59:02.250Z', 'location': 'https://api.planet.com/compute/ops/download/?token=eyJhbGciOiJIUzUxMiIsInR5cCI6IkpXVCJ9.eyJleHAiOjE1ODQzMzExNDIsInN1YiI6IkdyRHcrcVZmUnJVOWl1WEpJOWtWRFFTOUZMWXpGUEVOSmExQXBjY0F0bzlKL0JxOTBUN0RwRVE0Q0RxQ2swU3ZtVXpvb21WaUZWck83R3RBenJwWml3PT0iLCJ0b2tlbl90eXBlIjoiZG93bmxvYWQtYXNzZXQtc3RhY2siLCJhb2kiOiIiLCJhc3NldHMiOlt7Iml0ZW1fdHlwZSI6IiIsImFzc2V0X3R5cGUiOiIiLCJpdGVtX2lkIjoiIn1dLCJ1cmwiOiJodHRwczovL3N0b3JhZ2UuZ29vZ2xlYXBpcy5jb20vY29tcHV0ZS1vcmRlcnMtbGl2ZS8yYjQ4NjE2Yy05ZDAyLTQ2NmUtOTQ1ZC00MDBlYjI3NzczODQvMS9tYW5pZmVzdC5qc29uP0V4cGlyZXM9MTU4NDMzMTE0Mlx1MDAyNkdvb2dsZUFjY2Vzc0lkPWNvbXB1dGUtZ2NzLXN2Y2FjYyU0MHBsYW5ldC1jb21wdXRlLXByb2QuaWFtLmdzZXJ2aWNlYWNjb3VudC5jb21cdTAwMjZTaWduYXR1cmU9RDJtNnZKR2x3aXlQSDgzcXZGMmtiTlZ0UVV6ZmVVbnVRVUY3RUNCd1FvcGElMkZiTU9NZmNLJTJGeG1lcjJCQzNMM2dyU1pMMVh3MnF3Q2NHZjglMkJJcFo5WG04NlU0WUlqJTJGS20lMkY2d3FpNllUOHdoUExOY0hoUjdlTnVlS1dLckx3Q2RObjB4UzhwZHJSaFNaQ0slMkJOR1FaU2ZKVVZGbnozbU1FeDlZMno0MGZEeXZ4R2RzRTE0eVNWNkQyU0ZpbFFRVmdpNjJDbUI4SUxtSERLUm12WXB0Smx6UWVDb0ppanQ5S3ZMMVJOSHVkcEx5OEVhSmlGNkJ5SEE4b0hCb0V3SEd5VUh3OWZCd3VGMHIxVXpXd0I5bWJqMyUyRjhVZUtHTnVNZWF0NjBIQkk5Q0REUSUyQjZHdE0zYmZMR253Qm9zY0pjNllUeXlyN1FlJTJCVjRMb0FyeTlobEM0cUxRJTNEJTNEIiwic291cmNlIjoiT3JkZXJzIFNlcnZpY2UifQ.B9KHKEOhKumIKDmyV5vq4aEg7j1KyzIWwktyjEu3GvP-18FDnkpoxRwZ8PxLOODNu9ZaNT0FcdzXBv1662fglw', 'name': '2b48616c-9d02-466e-945d-400eb2777384/1/manifest.json'}, {'delivery': 'success', 'expires_at': '2020-03-16T03:59:02.259Z', 'location': 'https://api.planet.com/compute/ops/download/?token=eyJhbGciOiJIUzUxMiIsInR5cCI6IkpXVCJ9.eyJleHAiOjE1ODQzMzExNDIsInN1YiI6ImZJNFFCZW52TmtMeGtGYmVzbXNLbE9xcGY0blBWNGM5VkNoclBHeld5anYwMVNody81UkFlQkc0c3dyWkJ5OEZ3TEE5aGFXK0ROcUtLMTlScWtveG1BPT0iLCJ0b2tlbl90eXBlIjoiZG93bmxvYWQtYXNzZXQtc3RhY2siLCJhb2kiOiIiLCJhc3NldHMiOlt7Iml0ZW1fdHlwZSI6IiIsImFzc2V0X3R5cGUiOiIiLCJpdGVtX2lkIjoiIn1dLCJ1cmwiOiJodHRwczovL3N0b3JhZ2UuZ29vZ2xlYXBpcy5jb20vY29tcHV0ZS1vcmRlcnMtbGl2ZS8yYjQ4NjE2Yy05ZDAyLTQ2NmUtOTQ1ZC00MDBlYjI3NzczODQvMS9maWxlcy8yMDIwMDMwOF8wODQxMTJfMTNfMTA2NV8zQl9BbmFseXRpY01TX21ldGFkYXRhX2NsaXAueG1sP0V4cGlyZXM9MTU4NDMzMTE0Mlx1MDAyNkdvb2dsZUFjY2Vzc0lkPWNvbXB1dGUtZ2NzLXN2Y2FjYyU0MHBsYW5ldC1jb21wdXRlLXByb2QuaWFtLmdzZXJ2aWNlYWNjb3VudC5jb21cdTAwMjZTaWduYXR1cmU9aDgzQSUyQm5CNFhHaUVpYWNTeVpyaFc4JTJGUlBQRTVOcHJ2cmdxNG84ZWVNTkNacSUyRiUyRlpFTFZFMnlzSVNqc1JqVUtDWFFMRkRqMHAwV2FwUUNCdCUyRmRiUkloQlk4a3ZaZHZpaTBIJTJCejBvVjk4Z3pvZXZLMEVyUEhkbjdHZUpCS1prdDlEN0swNmhYZGolMkYzMGR6cmJObHgxb0VnaHJWeWxCVEJTbFdqZldRdWl2RmVtVFolMkZOZ0psT2ZCcVFVSmVQV042eExHeUtJUTF0MFZBbTFxSk5yJTJCYXB4bVZPWk9rOWFKTlZEN1RieHNjdE8wOXRPVGJuVmpaMlpPOWt3TEhNSEQlMkJJZm03N1YyRWJ1NUFHUHAwTEdMdldvbEw5eFIyTlhwZlRvTzFwWHJpaTZkJTJCSTExY2l4VlJTRE0yNnJCYldWcFdLUjZwZXVaU2ljMVdvSDNCWnJSd3JJZyUzRCUzRCIsInNvdXJjZSI6Ik9yZGVycyBTZXJ2aWNlIn0.3ex36tud2vnvOtadhC5bdshxrDqlAs9QJiCKNpOtn9UXMYVC_GIhLIjkHU0Ran5TnIRdThr0kOe8UU_GHAvKFQ', 'name': '2b48616c-9d02-466e-945d-400eb2777384/1/files/20200308_084112_13_1065_3B_AnalyticMS_metadata_clip.xml'}, {'delivery': 'success', 'expires_at': '2020-03-16T03:59:02.267Z', 'location': 'https://api.planet.com/compute/ops/download/?token=eyJhbGciOiJIUzUxMiIsInR5cCI6IkpXVCJ9.eyJleHAiOjE1ODQzMzExNDIsInN1YiI6IjNzV1VFRC96NEoxZ056TFZKdlFUN1NYdEdLbGNQTGpGWWJIRHp3U0kzZkdYUk4yTE1jU21IZ3VDZ1VlVXlUVHZJTEMrU0pCZ3JMT1I4K3pzelJmemtBPT0iLCJ0b2tlbl90eXBlIjoiZG93bmxvYWQtYXNzZXQtc3RhY2siLCJhb2kiOiIiLCJhc3NldHMiOlt7Iml0ZW1fdHlwZSI6IiIsImFzc2V0X3R5cGUiOiIiLCJpdGVtX2lkIjoiIn1dLCJ1cmwiOiJodHRwczovL3N0b3JhZ2UuZ29vZ2xlYXBpcy5jb20vY29tcHV0ZS1vcmRlcnMtbGl2ZS8yYjQ4NjE2Yy05ZDAyLTQ2NmUtOTQ1ZC00MDBlYjI3NzczODQvMS9maWxlcy8yMDIwMDMwOF8wODQxMTJfMTNfMTA2NV8zQl9BbmFseXRpY01TX0ROX3VkbV9jbGlwLnRpZj9FeHBpcmVzPTE1ODQzMzExNDJcdTAwMjZHb29nbGVBY2Nlc3NJZD1jb21wdXRlLWdjcy1zdmNhY2MlNDBwbGFuZXQtY29tcHV0ZS1wcm9kLmlhbS5nc2VydmljZWFjY291bnQuY29tXHUwMDI2U2lnbmF0dXJlPVUzN0V1Q3F6M2RZdXVSWWdxYWVTc21nVGhIemdGTktIRlVNREMzR08zRTBnTmdCWHNqWHRZTHUydDNRZjBSZUVvSUl1b2lveFVZdWdXZUxiZng1eGJOV0Fnd290d2RhWEh1cEh6WFhDT0lRd0VCQUhGTmZreG5LZkNrOE9vaWlUNWxCdXAzZFJYa0MlMkJDcHhlMVhROHE3U3JuYlA4SGFhZVpoZ2xPZFNWR042UEJPc1FuVmd6dCUyRk5LQ3R1YnJZMXZmTGZ4Y1JucHRKUmQlMkJYOVBma0JnalNsdDRYeGdWZGZzUWFwRVBHNmR5RjNoS0I4WDdRTjc2S0RPUlMwd3BvcEJSRzElMkZWdWZuREtLWVhqJTJCOGN0VVElMkZvbXZpZllDa0Fxc1lkc0pTU3hDWHFac0pzS0lRJTJGUHd1Vlh2OHJMUnV2NTViSEFYV0QzNTlacmZUZ0VMa3cxU0pnJTNEJTNEIiwic291cmNlIjoiT3JkZXJzIFNlcnZpY2UifQ.OFiNhPsT1ryeWvDhd_XVFDE6ADbDq-ZnDjL6T_3hou7af9pBW6RvdlWTbXnSEhjy9Ay3f78x_YEf8LmZu_YQlA', 'name': '2b48616c-9d02-466e-945d-400eb2777384/1/files/20200308_084112_13_1065_3B_AnalyticMS_DN_udm_clip.tif'}]}, 'created_on': '2020-03-15T03:57:12.343Z', 'error_hints': [], 'id': '2b48616c-9d02-466e-945d-400eb2777384', 'last_message': 'Delivery completed', 'last_modified': '2020-03-15T04:00:08.069Z', 'name': 'just clip', 'products': [{'item_ids': ['20200308_084112_13_1065'], 'item_type': 'PSScene4Band', 'product_bundle': 'analytic_sr'}], 'state': 'success', 'tools': [{'clip': {'aoi': {'coordinates': [[[34.79228141877853, -2.652182761619736], [34.79228141877853, -2.6603132247492183], [34.78419658122145, -2.6603132247492183], [34.78419658122145, -2.652182761619736], [34.79228141877853, -2.652182761619736]]], 'type': 'Polygon'}}}]}\n"
     ]
    }
   ],
   "source": [
    "for c in clip_order_url:\n",
    "    r = requests.get(c, auth=auth)\n",
    "    print(r.json())\n",
    "    time.sleep(1)\n"
   ]
  },
  {
   "cell_type": "code",
   "execution_count": 40,
   "metadata": {
    "scrolled": true
   },
   "outputs": [
    {
     "data": {
      "text/plain": [
       "{'_links': {'_self': 'https://api.planet.com/compute/ops/orders/v2/2b48616c-9d02-466e-945d-400eb2777384',\n",
       "  'results': [{'delivery': 'success',\n",
       "    'expires_at': '2020-03-16T03:59:02.263Z',\n",
       "    'location': 'https://api.planet.com/compute/ops/download/?token=eyJhbGciOiJIUzUxMiIsInR5cCI6IkpXVCJ9.eyJleHAiOjE1ODQzMzExNDIsInN1YiI6Inc4NXJGT0hPVGlOdWdSUGZpNnpyd0dCZThBYUc2bVBDK3pTbkhpTTh2Z3ZxQjYra2wvZHoxWDZjcUxSZ09YSGsvVTN4ZlNjR3kvem44ZWxQc3dKbEl3PT0iLCJ0b2tlbl90eXBlIjoiZG93bmxvYWQtYXNzZXQtc3RhY2siLCJhb2kiOiIiLCJhc3NldHMiOlt7Iml0ZW1fdHlwZSI6IiIsImFzc2V0X3R5cGUiOiIiLCJpdGVtX2lkIjoiIn1dLCJ1cmwiOiJodHRwczovL3N0b3JhZ2UuZ29vZ2xlYXBpcy5jb20vY29tcHV0ZS1vcmRlcnMtbGl2ZS8yYjQ4NjE2Yy05ZDAyLTQ2NmUtOTQ1ZC00MDBlYjI3NzczODQvMS9maWxlcy8yMDIwMDMwOF8wODQxMTJfMTNfMTA2NV9tZXRhZGF0YS5qc29uP0V4cGlyZXM9MTU4NDMzMTE0Mlx1MDAyNkdvb2dsZUFjY2Vzc0lkPWNvbXB1dGUtZ2NzLXN2Y2FjYyU0MHBsYW5ldC1jb21wdXRlLXByb2QuaWFtLmdzZXJ2aWNlYWNjb3VudC5jb21cdTAwMjZTaWduYXR1cmU9bWclMkZ0MW0yb1U5QURMbTNZcFNLS2wwM0xEJTJCNmNXUnFEaVc0Mkx4TiUyRlRBVmpOclNqSk9Ob1Nta3F1OFhnNmNPb2haM3RrRDlMTWVwa2tUYTZ6dnhOSGdteVRCWWJtJTJCMiUyRkx3Rm9SMmtJSlVaZkJ1WiUyQjBSdTF2VDBBTzFNcjFFZHZvM0QzdFFKTlFhR2pkc1BHTGZWTDR2blNYUUtiWEhWSWdSc2J6bUhxQ1FCbmJNb3UlMkZCQiUyRk11OVBzMmU1JTJCdUI3QXMwTTNPaTVDMVUwejgxOXdXMTFtQ1pkMjd4c3h2MEhaZjNmZjNFN1pFRW02NGtkTVJKM2FaS2J6NU54b1hQQzBXemFjZTFTbGNnVXlRTVJMbWM0UEhEcHV5VTYlMkY1aUgwbjRKUWRPS1hNUE8lMkZOTSUyQm5wcDJPV3hvaUZrQ3UwY0g2aURXWTJJJTJGbDRIWXcxZlJyY0lGUXclM0QlM0QiLCJzb3VyY2UiOiJPcmRlcnMgU2VydmljZSJ9.XcqgvUN1ynwEsrmHt04waCQ_hTtNtLyubMkYmaUdoGBkoxW4DccrKkTdE84KohHrlXdISqQ5HNyxFf_pqmvOPg',\n",
       "    'name': '2b48616c-9d02-466e-945d-400eb2777384/1/files/20200308_084112_13_1065_metadata.json'},\n",
       "   {'delivery': 'success',\n",
       "    'expires_at': '2020-03-16T03:59:02.255Z',\n",
       "    'location': 'https://api.planet.com/compute/ops/download/?token=eyJhbGciOiJIUzUxMiIsInR5cCI6IkpXVCJ9.eyJleHAiOjE1ODQzMzExNDIsInN1YiI6IkVpNU9Bb1NXakFiRVlCVWpoT0R4ZTV6MDJpM1hBNkIzd0ZUU2cwV1R5WVh2SjhZT0pjViswNkpCZ0VyT25yMXlGSlltQ0M4SGMwNjZOdHJ0M2FZTlJRPT0iLCJ0b2tlbl90eXBlIjoiZG93bmxvYWQtYXNzZXQtc3RhY2siLCJhb2kiOiIiLCJhc3NldHMiOlt7Iml0ZW1fdHlwZSI6IiIsImFzc2V0X3R5cGUiOiIiLCJpdGVtX2lkIjoiIn1dLCJ1cmwiOiJodHRwczovL3N0b3JhZ2UuZ29vZ2xlYXBpcy5jb20vY29tcHV0ZS1vcmRlcnMtbGl2ZS8yYjQ4NjE2Yy05ZDAyLTQ2NmUtOTQ1ZC00MDBlYjI3NzczODQvMS9maWxlcy8yMDIwMDMwOF8wODQxMTJfMTNfMTA2NV8zQl9BbmFseXRpY01TX1NSX2NsaXAudGlmP0V4cGlyZXM9MTU4NDMzMTE0Mlx1MDAyNkdvb2dsZUFjY2Vzc0lkPWNvbXB1dGUtZ2NzLXN2Y2FjYyU0MHBsYW5ldC1jb21wdXRlLXByb2QuaWFtLmdzZXJ2aWNlYWNjb3VudC5jb21cdTAwMjZTaWduYXR1cmU9TzlqQngyNDNuczkzSHU1bThKWnZqUkxMV0E0M1J0Y2JzcFFXb3hxQXRGQXFKZ3pmdHg0TTdMbm44QjglMkJyeCUyRm5tVWx6Q0k1eXRXNTF1ajF5NEtpZHhmVTVTbFFtN2t0VVluWXRqdGptV2xhN3R4N2RTNEUwJTJCQm5OTlRyQUNHWGd2UHNSTGE5N0JzUTFZU1BiYVJ6WGpMdVdDbGdXbnV2YXFlU05Hbkd5dU5KdVh4YXluR2k5N2hwNmNMUTVPbmVDdmlSQmNKRXJWWGIlMkZQbDk2Y0hJcGIzNUJRMlZrY1R1dXZmbjJNOU1hUzZsOG5pWEozS0dqV2R0MEJnMTBJcDJERHFQeWdHY3FRdVlnVDRFbXJmbnNXRXhyVW1PWU5nS3AzTmZhZTFMemZaa01nNmVTYzNoTENKMXRNZGJuS3lrb2NibHppcXJ4OVRrSFlBTkZ1TmN2UFElM0QlM0QiLCJzb3VyY2UiOiJPcmRlcnMgU2VydmljZSJ9._sExqEy5kCtdSxd8QlxNXzaMA8BoRe4FNppVOYURDGVbkEvg0TpfTymYuvTg8w48uB6QrOW-5zlSILjyAB_r5Q',\n",
       "    'name': '2b48616c-9d02-466e-945d-400eb2777384/1/files/20200308_084112_13_1065_3B_AnalyticMS_SR_clip.tif'},\n",
       "   {'delivery': 'success',\n",
       "    'expires_at': '2020-03-16T03:59:02.250Z',\n",
       "    'location': 'https://api.planet.com/compute/ops/download/?token=eyJhbGciOiJIUzUxMiIsInR5cCI6IkpXVCJ9.eyJleHAiOjE1ODQzMzExNDIsInN1YiI6IkdyRHcrcVZmUnJVOWl1WEpJOWtWRFFTOUZMWXpGUEVOSmExQXBjY0F0bzlKL0JxOTBUN0RwRVE0Q0RxQ2swU3ZtVXpvb21WaUZWck83R3RBenJwWml3PT0iLCJ0b2tlbl90eXBlIjoiZG93bmxvYWQtYXNzZXQtc3RhY2siLCJhb2kiOiIiLCJhc3NldHMiOlt7Iml0ZW1fdHlwZSI6IiIsImFzc2V0X3R5cGUiOiIiLCJpdGVtX2lkIjoiIn1dLCJ1cmwiOiJodHRwczovL3N0b3JhZ2UuZ29vZ2xlYXBpcy5jb20vY29tcHV0ZS1vcmRlcnMtbGl2ZS8yYjQ4NjE2Yy05ZDAyLTQ2NmUtOTQ1ZC00MDBlYjI3NzczODQvMS9tYW5pZmVzdC5qc29uP0V4cGlyZXM9MTU4NDMzMTE0Mlx1MDAyNkdvb2dsZUFjY2Vzc0lkPWNvbXB1dGUtZ2NzLXN2Y2FjYyU0MHBsYW5ldC1jb21wdXRlLXByb2QuaWFtLmdzZXJ2aWNlYWNjb3VudC5jb21cdTAwMjZTaWduYXR1cmU9RDJtNnZKR2x3aXlQSDgzcXZGMmtiTlZ0UVV6ZmVVbnVRVUY3RUNCd1FvcGElMkZiTU9NZmNLJTJGeG1lcjJCQzNMM2dyU1pMMVh3MnF3Q2NHZjglMkJJcFo5WG04NlU0WUlqJTJGS20lMkY2d3FpNllUOHdoUExOY0hoUjdlTnVlS1dLckx3Q2RObjB4UzhwZHJSaFNaQ0slMkJOR1FaU2ZKVVZGbnozbU1FeDlZMno0MGZEeXZ4R2RzRTE0eVNWNkQyU0ZpbFFRVmdpNjJDbUI4SUxtSERLUm12WXB0Smx6UWVDb0ppanQ5S3ZMMVJOSHVkcEx5OEVhSmlGNkJ5SEE4b0hCb0V3SEd5VUh3OWZCd3VGMHIxVXpXd0I5bWJqMyUyRjhVZUtHTnVNZWF0NjBIQkk5Q0REUSUyQjZHdE0zYmZMR253Qm9zY0pjNllUeXlyN1FlJTJCVjRMb0FyeTlobEM0cUxRJTNEJTNEIiwic291cmNlIjoiT3JkZXJzIFNlcnZpY2UifQ.B9KHKEOhKumIKDmyV5vq4aEg7j1KyzIWwktyjEu3GvP-18FDnkpoxRwZ8PxLOODNu9ZaNT0FcdzXBv1662fglw',\n",
       "    'name': '2b48616c-9d02-466e-945d-400eb2777384/1/manifest.json'},\n",
       "   {'delivery': 'success',\n",
       "    'expires_at': '2020-03-16T03:59:02.259Z',\n",
       "    'location': 'https://api.planet.com/compute/ops/download/?token=eyJhbGciOiJIUzUxMiIsInR5cCI6IkpXVCJ9.eyJleHAiOjE1ODQzMzExNDIsInN1YiI6ImZJNFFCZW52TmtMeGtGYmVzbXNLbE9xcGY0blBWNGM5VkNoclBHeld5anYwMVNody81UkFlQkc0c3dyWkJ5OEZ3TEE5aGFXK0ROcUtLMTlScWtveG1BPT0iLCJ0b2tlbl90eXBlIjoiZG93bmxvYWQtYXNzZXQtc3RhY2siLCJhb2kiOiIiLCJhc3NldHMiOlt7Iml0ZW1fdHlwZSI6IiIsImFzc2V0X3R5cGUiOiIiLCJpdGVtX2lkIjoiIn1dLCJ1cmwiOiJodHRwczovL3N0b3JhZ2UuZ29vZ2xlYXBpcy5jb20vY29tcHV0ZS1vcmRlcnMtbGl2ZS8yYjQ4NjE2Yy05ZDAyLTQ2NmUtOTQ1ZC00MDBlYjI3NzczODQvMS9maWxlcy8yMDIwMDMwOF8wODQxMTJfMTNfMTA2NV8zQl9BbmFseXRpY01TX21ldGFkYXRhX2NsaXAueG1sP0V4cGlyZXM9MTU4NDMzMTE0Mlx1MDAyNkdvb2dsZUFjY2Vzc0lkPWNvbXB1dGUtZ2NzLXN2Y2FjYyU0MHBsYW5ldC1jb21wdXRlLXByb2QuaWFtLmdzZXJ2aWNlYWNjb3VudC5jb21cdTAwMjZTaWduYXR1cmU9aDgzQSUyQm5CNFhHaUVpYWNTeVpyaFc4JTJGUlBQRTVOcHJ2cmdxNG84ZWVNTkNacSUyRiUyRlpFTFZFMnlzSVNqc1JqVUtDWFFMRkRqMHAwV2FwUUNCdCUyRmRiUkloQlk4a3ZaZHZpaTBIJTJCejBvVjk4Z3pvZXZLMEVyUEhkbjdHZUpCS1prdDlEN0swNmhYZGolMkYzMGR6cmJObHgxb0VnaHJWeWxCVEJTbFdqZldRdWl2RmVtVFolMkZOZ0psT2ZCcVFVSmVQV042eExHeUtJUTF0MFZBbTFxSk5yJTJCYXB4bVZPWk9rOWFKTlZEN1RieHNjdE8wOXRPVGJuVmpaMlpPOWt3TEhNSEQlMkJJZm03N1YyRWJ1NUFHUHAwTEdMdldvbEw5eFIyTlhwZlRvTzFwWHJpaTZkJTJCSTExY2l4VlJTRE0yNnJCYldWcFdLUjZwZXVaU2ljMVdvSDNCWnJSd3JJZyUzRCUzRCIsInNvdXJjZSI6Ik9yZGVycyBTZXJ2aWNlIn0.3ex36tud2vnvOtadhC5bdshxrDqlAs9QJiCKNpOtn9UXMYVC_GIhLIjkHU0Ran5TnIRdThr0kOe8UU_GHAvKFQ',\n",
       "    'name': '2b48616c-9d02-466e-945d-400eb2777384/1/files/20200308_084112_13_1065_3B_AnalyticMS_metadata_clip.xml'},\n",
       "   {'delivery': 'success',\n",
       "    'expires_at': '2020-03-16T03:59:02.267Z',\n",
       "    'location': 'https://api.planet.com/compute/ops/download/?token=eyJhbGciOiJIUzUxMiIsInR5cCI6IkpXVCJ9.eyJleHAiOjE1ODQzMzExNDIsInN1YiI6IjNzV1VFRC96NEoxZ056TFZKdlFUN1NYdEdLbGNQTGpGWWJIRHp3U0kzZkdYUk4yTE1jU21IZ3VDZ1VlVXlUVHZJTEMrU0pCZ3JMT1I4K3pzelJmemtBPT0iLCJ0b2tlbl90eXBlIjoiZG93bmxvYWQtYXNzZXQtc3RhY2siLCJhb2kiOiIiLCJhc3NldHMiOlt7Iml0ZW1fdHlwZSI6IiIsImFzc2V0X3R5cGUiOiIiLCJpdGVtX2lkIjoiIn1dLCJ1cmwiOiJodHRwczovL3N0b3JhZ2UuZ29vZ2xlYXBpcy5jb20vY29tcHV0ZS1vcmRlcnMtbGl2ZS8yYjQ4NjE2Yy05ZDAyLTQ2NmUtOTQ1ZC00MDBlYjI3NzczODQvMS9maWxlcy8yMDIwMDMwOF8wODQxMTJfMTNfMTA2NV8zQl9BbmFseXRpY01TX0ROX3VkbV9jbGlwLnRpZj9FeHBpcmVzPTE1ODQzMzExNDJcdTAwMjZHb29nbGVBY2Nlc3NJZD1jb21wdXRlLWdjcy1zdmNhY2MlNDBwbGFuZXQtY29tcHV0ZS1wcm9kLmlhbS5nc2VydmljZWFjY291bnQuY29tXHUwMDI2U2lnbmF0dXJlPVUzN0V1Q3F6M2RZdXVSWWdxYWVTc21nVGhIemdGTktIRlVNREMzR08zRTBnTmdCWHNqWHRZTHUydDNRZjBSZUVvSUl1b2lveFVZdWdXZUxiZng1eGJOV0Fnd290d2RhWEh1cEh6WFhDT0lRd0VCQUhGTmZreG5LZkNrOE9vaWlUNWxCdXAzZFJYa0MlMkJDcHhlMVhROHE3U3JuYlA4SGFhZVpoZ2xPZFNWR042UEJPc1FuVmd6dCUyRk5LQ3R1YnJZMXZmTGZ4Y1JucHRKUmQlMkJYOVBma0JnalNsdDRYeGdWZGZzUWFwRVBHNmR5RjNoS0I4WDdRTjc2S0RPUlMwd3BvcEJSRzElMkZWdWZuREtLWVhqJTJCOGN0VVElMkZvbXZpZllDa0Fxc1lkc0pTU3hDWHFac0pzS0lRJTJGUHd1Vlh2OHJMUnV2NTViSEFYV0QzNTlacmZUZ0VMa3cxU0pnJTNEJTNEIiwic291cmNlIjoiT3JkZXJzIFNlcnZpY2UifQ.OFiNhPsT1ryeWvDhd_XVFDE6ADbDq-ZnDjL6T_3hou7af9pBW6RvdlWTbXnSEhjy9Ay3f78x_YEf8LmZu_YQlA',\n",
       "    'name': '2b48616c-9d02-466e-945d-400eb2777384/1/files/20200308_084112_13_1065_3B_AnalyticMS_DN_udm_clip.tif'}]},\n",
       " 'created_on': '2020-03-15T03:57:12.343Z',\n",
       " 'error_hints': [],\n",
       " 'id': '2b48616c-9d02-466e-945d-400eb2777384',\n",
       " 'last_message': 'Delivery completed',\n",
       " 'last_modified': '2020-03-15T04:00:08.069Z',\n",
       " 'name': 'just clip',\n",
       " 'products': [{'item_ids': ['20200308_084112_13_1065'],\n",
       "   'item_type': 'PSScene4Band',\n",
       "   'product_bundle': 'analytic_sr'}],\n",
       " 'state': 'success',\n",
       " 'tools': [{'clip': {'aoi': {'coordinates': [[[34.79228141877853,\n",
       "        -2.652182761619736],\n",
       "       [34.79228141877853, -2.6603132247492183],\n",
       "       [34.78419658122145, -2.6603132247492183],\n",
       "       [34.78419658122145, -2.652182761619736],\n",
       "       [34.79228141877853, -2.652182761619736]]],\n",
       "     'type': 'Polygon'}}}]}"
      ]
     },
     "execution_count": 40,
     "metadata": {},
     "output_type": "execute_result"
    }
   ],
   "source": [
    "r.json()"
   ]
  },
  {
   "cell_type": "code",
   "execution_count": 41,
   "metadata": {
    "scrolled": false
   },
   "outputs": [
    {
     "name": "stdout",
     "output_type": "stream",
     "text": [
      "<Response [200]>\n",
      "5 items to download\n",
      "downloading bf801ac8-c321-482f-91f2-9a722ce237a0/1/manifest.json to data/bf801ac8-c321-482f-91f2-9a722ce237a0/1/manifest.json\n",
      "downloading bf801ac8-c321-482f-91f2-9a722ce237a0/1/files/20200308_084112_13_1065_3B_AnalyticMS_DN_udm_clip.tif to data/bf801ac8-c321-482f-91f2-9a722ce237a0/1/files/20200308_084112_13_1065_3B_AnalyticMS_DN_udm_clip.tif\n",
      "downloading bf801ac8-c321-482f-91f2-9a722ce237a0/1/files/20200308_084112_13_1065_3B_AnalyticMS_metadata_clip.xml to data/bf801ac8-c321-482f-91f2-9a722ce237a0/1/files/20200308_084112_13_1065_3B_AnalyticMS_metadata_clip.xml\n",
      "downloading bf801ac8-c321-482f-91f2-9a722ce237a0/1/files/20200308_084112_13_1065_3B_AnalyticMS_SR_clip.tif to data/bf801ac8-c321-482f-91f2-9a722ce237a0/1/files/20200308_084112_13_1065_3B_AnalyticMS_SR_clip.tif\n",
      "downloading bf801ac8-c321-482f-91f2-9a722ce237a0/1/files/20200308_084112_13_1065_metadata.json to data/bf801ac8-c321-482f-91f2-9a722ce237a0/1/files/20200308_084112_13_1065_metadata.json\n",
      "<Response [200]>\n",
      "5 items to download\n",
      "downloading a942157b-7879-4759-b174-71e03e1b299e/1/files/20200308_084112_13_1065_3B_AnalyticMS_metadata_clip.xml to data/a942157b-7879-4759-b174-71e03e1b299e/1/files/20200308_084112_13_1065_3B_AnalyticMS_metadata_clip.xml\n",
      "downloading a942157b-7879-4759-b174-71e03e1b299e/1/manifest.json to data/a942157b-7879-4759-b174-71e03e1b299e/1/manifest.json\n",
      "downloading a942157b-7879-4759-b174-71e03e1b299e/1/files/20200308_084112_13_1065_3B_AnalyticMS_SR_clip.tif to data/a942157b-7879-4759-b174-71e03e1b299e/1/files/20200308_084112_13_1065_3B_AnalyticMS_SR_clip.tif\n",
      "downloading a942157b-7879-4759-b174-71e03e1b299e/1/files/20200308_084112_13_1065_metadata.json to data/a942157b-7879-4759-b174-71e03e1b299e/1/files/20200308_084112_13_1065_metadata.json\n",
      "downloading a942157b-7879-4759-b174-71e03e1b299e/1/files/20200308_084112_13_1065_3B_AnalyticMS_DN_udm_clip.tif to data/a942157b-7879-4759-b174-71e03e1b299e/1/files/20200308_084112_13_1065_3B_AnalyticMS_DN_udm_clip.tif\n",
      "<Response [200]>\n",
      "5 items to download\n",
      "downloading e4d6c574-d18d-4f7c-84fe-28e1b8eef30b/1/manifest.json to data/e4d6c574-d18d-4f7c-84fe-28e1b8eef30b/1/manifest.json\n",
      "downloading e4d6c574-d18d-4f7c-84fe-28e1b8eef30b/1/files/20200308_084112_13_1065_3B_AnalyticMS_metadata_clip.xml to data/e4d6c574-d18d-4f7c-84fe-28e1b8eef30b/1/files/20200308_084112_13_1065_3B_AnalyticMS_metadata_clip.xml\n",
      "downloading e4d6c574-d18d-4f7c-84fe-28e1b8eef30b/1/files/20200308_084112_13_1065_3B_AnalyticMS_DN_udm_clip.tif to data/e4d6c574-d18d-4f7c-84fe-28e1b8eef30b/1/files/20200308_084112_13_1065_3B_AnalyticMS_DN_udm_clip.tif\n",
      "downloading e4d6c574-d18d-4f7c-84fe-28e1b8eef30b/1/files/20200308_084112_13_1065_metadata.json to data/e4d6c574-d18d-4f7c-84fe-28e1b8eef30b/1/files/20200308_084112_13_1065_metadata.json\n",
      "downloading e4d6c574-d18d-4f7c-84fe-28e1b8eef30b/1/files/20200308_084112_13_1065_3B_AnalyticMS_SR_clip.tif to data/e4d6c574-d18d-4f7c-84fe-28e1b8eef30b/1/files/20200308_084112_13_1065_3B_AnalyticMS_SR_clip.tif\n",
      "<Response [200]>\n",
      "5 items to download\n",
      "downloading 9fb9b4be-d286-4019-b526-ccf2f5673071/1/manifest.json to data/9fb9b4be-d286-4019-b526-ccf2f5673071/1/manifest.json\n",
      "downloading 9fb9b4be-d286-4019-b526-ccf2f5673071/1/files/20200308_084112_13_1065_3B_AnalyticMS_metadata_clip.xml to data/9fb9b4be-d286-4019-b526-ccf2f5673071/1/files/20200308_084112_13_1065_3B_AnalyticMS_metadata_clip.xml\n",
      "downloading 9fb9b4be-d286-4019-b526-ccf2f5673071/1/files/20200308_084112_13_1065_3B_AnalyticMS_SR_clip.tif to data/9fb9b4be-d286-4019-b526-ccf2f5673071/1/files/20200308_084112_13_1065_3B_AnalyticMS_SR_clip.tif\n",
      "downloading 9fb9b4be-d286-4019-b526-ccf2f5673071/1/files/20200308_084112_13_1065_metadata.json to data/9fb9b4be-d286-4019-b526-ccf2f5673071/1/files/20200308_084112_13_1065_metadata.json\n",
      "downloading 9fb9b4be-d286-4019-b526-ccf2f5673071/1/files/20200308_084112_13_1065_3B_AnalyticMS_DN_udm_clip.tif to data/9fb9b4be-d286-4019-b526-ccf2f5673071/1/files/20200308_084112_13_1065_3B_AnalyticMS_DN_udm_clip.tif\n",
      "<Response [200]>\n",
      "5 items to download\n",
      "downloading 2a792796-defd-4411-89aa-0c066bf3ca69/1/files/20200308_084112_13_1065_3B_AnalyticMS_SR_clip.tif to data/2a792796-defd-4411-89aa-0c066bf3ca69/1/files/20200308_084112_13_1065_3B_AnalyticMS_SR_clip.tif\n",
      "downloading 2a792796-defd-4411-89aa-0c066bf3ca69/1/manifest.json to data/2a792796-defd-4411-89aa-0c066bf3ca69/1/manifest.json\n",
      "downloading 2a792796-defd-4411-89aa-0c066bf3ca69/1/files/20200308_084112_13_1065_3B_AnalyticMS_DN_udm_clip.tif to data/2a792796-defd-4411-89aa-0c066bf3ca69/1/files/20200308_084112_13_1065_3B_AnalyticMS_DN_udm_clip.tif\n",
      "downloading 2a792796-defd-4411-89aa-0c066bf3ca69/1/files/20200308_084112_13_1065_metadata.json to data/2a792796-defd-4411-89aa-0c066bf3ca69/1/files/20200308_084112_13_1065_metadata.json\n",
      "downloading 2a792796-defd-4411-89aa-0c066bf3ca69/1/files/20200308_084112_13_1065_3B_AnalyticMS_metadata_clip.xml to data/2a792796-defd-4411-89aa-0c066bf3ca69/1/files/20200308_084112_13_1065_3B_AnalyticMS_metadata_clip.xml\n",
      "<Response [200]>\n",
      "5 items to download\n",
      "downloading 2b48616c-9d02-466e-945d-400eb2777384/1/files/20200308_084112_13_1065_metadata.json to data/2b48616c-9d02-466e-945d-400eb2777384/1/files/20200308_084112_13_1065_metadata.json\n",
      "downloading 2b48616c-9d02-466e-945d-400eb2777384/1/files/20200308_084112_13_1065_3B_AnalyticMS_SR_clip.tif to data/2b48616c-9d02-466e-945d-400eb2777384/1/files/20200308_084112_13_1065_3B_AnalyticMS_SR_clip.tif\n",
      "downloading 2b48616c-9d02-466e-945d-400eb2777384/1/manifest.json to data/2b48616c-9d02-466e-945d-400eb2777384/1/manifest.json\n",
      "downloading 2b48616c-9d02-466e-945d-400eb2777384/1/files/20200308_084112_13_1065_3B_AnalyticMS_metadata_clip.xml to data/2b48616c-9d02-466e-945d-400eb2777384/1/files/20200308_084112_13_1065_3B_AnalyticMS_metadata_clip.xml\n",
      "downloading 2b48616c-9d02-466e-945d-400eb2777384/1/files/20200308_084112_13_1065_3B_AnalyticMS_DN_udm_clip.tif to data/2b48616c-9d02-466e-945d-400eb2777384/1/files/20200308_084112_13_1065_3B_AnalyticMS_DN_udm_clip.tif\n"
     ]
    }
   ],
   "source": [
    "# Downloading from each clip order url\n",
    "def download_order(order_url, auth, overwrite=False):\n",
    "    r = requests.get(order_url, auth=auth)\n",
    "    print(r)\n",
    "\n",
    "    response = r.json()\n",
    "    results = response['_links']['results']\n",
    "    results_urls = [r['location'] for r in results]\n",
    "    results_names = [r['name'] for r in results]\n",
    "    results_paths = [pathlib.Path(os.path.join('data', n)) for n in results_names]\n",
    "    print('{} items to download'.format(len(results_urls)))\n",
    "    \n",
    "    for url, name, path in zip(results_urls, results_names, results_paths):\n",
    "        if overwrite or not path.exists():\n",
    "            print('downloading {} to {}'.format(name, path))\n",
    "            r = requests.get(url, allow_redirects=True)\n",
    "            path.parent.mkdir(parents=True, exist_ok=True)\n",
    "            open(path, 'wb').write(r.content)\n",
    "        else:\n",
    "            print('{} already exists, skipping {}'.format(path, name))\n",
    "            \n",
    "    return dict(zip(results_names, results_paths))\n",
    "\n",
    "\n",
    "# Process sleeping to allow for activation, staging, and processing of imagery\n",
    "time.sleep(1)\n",
    "\n",
    "# Downloading the orders\n",
    "for clip_order in clip_order_url:\n",
    "    download_order(clip_order, auth)\n",
    "    \n",
    "print('Got em all')"
   ]
  },
  {
   "cell_type": "code",
   "execution_count": null,
   "metadata": {},
   "outputs": [],
   "source": [
    "# s3_resource = boto3.resource('s3')\n",
    "# s3_resource.meta.client.upload_file(\n",
    "#     Filename='/Users/jasonabaker/W210/Project/Planet_API/Waypoint_Scripts_2/data/e59ba56a-c72a-4f49-b680-273e243f8fd1/1/files/20200305_163004_0f44_3B_AnalyticMS_SR_clip.tif', Bucket='w210-planet-data-api',\n",
    "#     Key= '20200305_163004_0f44_3B_AnalyticMS_SR_clip.tif')"
   ]
  }
 ],
 "metadata": {
  "kernelspec": {
   "display_name": "Python 3",
   "language": "python",
   "name": "python3"
  },
  "language_info": {
   "codemirror_mode": {
    "name": "ipython",
    "version": 3
   },
   "file_extension": ".py",
   "mimetype": "text/x-python",
   "name": "python",
   "nbconvert_exporter": "python",
   "pygments_lexer": "ipython3",
   "version": "3.6.7"
  },
  "toc": {
   "base_numbering": 1,
   "nav_menu": {},
   "number_sections": true,
   "sideBar": true,
   "skip_h1_title": false,
   "title_cell": "Table of Contents",
   "title_sidebar": "Contents",
   "toc_cell": false,
   "toc_position": {},
   "toc_section_display": true,
   "toc_window_display": false
  }
 },
 "nbformat": 4,
 "nbformat_minor": 2
}
