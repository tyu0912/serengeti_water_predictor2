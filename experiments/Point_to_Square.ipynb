{
 "cells": [
  {
   "cell_type": "code",
   "execution_count": 55,
   "metadata": {},
   "outputs": [],
   "source": [
    "import pandas as pd\n",
    "import geopandas as gpd\n",
    "from shapely.geometry import Point\n",
    "import matplotlib.pyplot as plt\n",
    "import json"
   ]
  },
  {
   "cell_type": "code",
   "execution_count": 61,
   "metadata": {
    "scrolled": true
   },
   "outputs": [
    {
     "name": "stdout",
     "output_type": "stream",
     "text": [
      "Input Latitude: 32.74299535682746\n",
      "Input Longitude: -116.46464824676514\n"
     ]
    },
    {
     "name": "stderr",
     "output_type": "stream",
     "text": [
      "/opt/anaconda3/lib/python3.7/site-packages/pyproj/crs.py:77: FutureWarning: '+init=<authority>:<code>' syntax is deprecated. '<authority>:<code>' is the preferred initialization method.\n",
      "  return _prepare_from_string(\" \".join(pjargs))\n",
      "/opt/anaconda3/lib/python3.7/site-packages/pyproj/crs.py:77: FutureWarning: '+init=<authority>:<code>' syntax is deprecated. '<authority>:<code>' is the preferred initialization method.\n",
      "  return _prepare_from_string(\" \".join(pjargs))\n"
     ]
    },
    {
     "name": "stdout",
     "output_type": "stream",
     "text": [
      "{\n",
      "  \"bbox\": [\n",
      "    -116.46869066554366,\n",
      "    32.73957898012015,\n",
      "    -116.46060582798658,\n",
      "    32.74641160130142\n",
      "  ],\n",
      "  \"features\": [\n",
      "    {\n",
      "      \"bbox\": [\n",
      "        -116.46869066554366,\n",
      "        32.73957898012015,\n",
      "        -116.46060582798658,\n",
      "        32.74641160130142\n",
      "      ],\n",
      "      \"geometry\": {\n",
      "        \"coordinates\": [\n",
      "          [\n",
      "            [\n",
      "              -116.46060582798658,\n",
      "              32.74641160130142\n",
      "            ],\n",
      "            [\n",
      "              -116.46060582798658,\n",
      "              32.73957898012015\n",
      "            ],\n",
      "            [\n",
      "              -116.46869066554366,\n",
      "              32.73957898012015\n",
      "            ],\n",
      "            [\n",
      "              -116.46869066554366,\n",
      "              32.74641160130142\n",
      "            ],\n",
      "            [\n",
      "              -116.46060582798658,\n",
      "              32.74641160130142\n",
      "            ]\n",
      "          ]\n",
      "        ],\n",
      "        \"type\": \"Polygon\"\n",
      "      },\n",
      "      \"id\": \"0\",\n",
      "      \"properties\": {},\n",
      "      \"type\": \"Feature\"\n",
      "    }\n",
      "  ],\n",
      "  \"type\": \"FeatureCollection\"\n",
      "}\n"
     ]
    }
   ],
   "source": [
    "latitude_1 = input(\"Input Latitude: \")\n",
    "latitude_1 = float(latitude_1)\n",
    "\n",
    "longitude_1 = input(\"Input Longitude: \")\n",
    "longitude_1 = float(longitude_1)\n",
    "\n",
    "# Taking lat and long into pandas dataframe\n",
    "point_df = pd.DataFrame({'latitude':[latitude_1],\n",
    "                     'longitude':[longitude_1]})\n",
    "\n",
    "# Converting pandas DF to geopandas GDF\n",
    "point_gdf = gpd.GeoDataFrame(point_df, geometry=gpd.points_from_xy(point_df.longitude, point_df.latitude))\n",
    "\n",
    "\n",
    "\n",
    "\n",
    "# Converting geodataframe to Meters from Lat/Long\n",
    "# Allows for square buffer to be applied (450m)\n",
    "\n",
    "point_gdf.crs = {'init' :'epsg:4326'} \n",
    "point_gdf_m = point_gdf.to_crs(epsg=3395)\n",
    "\n",
    "# Applying the buffer, cap_style = 3 --> Square Buffer\n",
    "buffer = point_gdf_m.buffer(450, cap_style=3)\n",
    "\n",
    "\n",
    "# Convert buffer to wgs84\n",
    "buffer_wgs84 = buffer.to_crs(epsg=4326)\n",
    "# Convert to json\n",
    "buffer_wgs84_json = buffer_wgs84.to_json()\n",
    "# Loading and printing the json\n",
    "buffer_wgs84_json_parsed = json.loads(buffer_wgs84_json)\n",
    "print(json.dumps(buffer_wgs84_json_parsed, indent=2, sort_keys=True))"
   ]
  },
  {
   "cell_type": "code",
   "execution_count": 52,
   "metadata": {},
   "outputs": [],
   "source": [
    "# buffer_wgs84.to_file(\"Planet_Buffer_square.shp\")"
   ]
  },
  {
   "cell_type": "code",
   "execution_count": null,
   "metadata": {},
   "outputs": [],
   "source": []
  }
 ],
 "metadata": {
  "kernelspec": {
   "display_name": "Python 3",
   "language": "python",
   "name": "python3"
  },
  "language_info": {
   "codemirror_mode": {
    "name": "ipython",
    "version": 3
   },
   "file_extension": ".py",
   "mimetype": "text/x-python",
   "name": "python",
   "nbconvert_exporter": "python",
   "pygments_lexer": "ipython3",
   "version": "3.7.4"
  }
 },
 "nbformat": 4,
 "nbformat_minor": 2
}
