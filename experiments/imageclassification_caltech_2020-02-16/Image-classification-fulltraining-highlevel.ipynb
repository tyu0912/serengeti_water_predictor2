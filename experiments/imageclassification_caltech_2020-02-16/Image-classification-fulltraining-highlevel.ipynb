{
 "cells": [
  {
   "cell_type": "markdown",
   "metadata": {},
   "source": [
    "# End-to-End Multiclass Image Classification Example\n",
    "1. [Introduction](#Introduction)\n",
    "2. [Prerequisites and Preprocessing](#Prequisites-and-Preprocessing)\n",
    "  1. [Permissions and environment variables](#Permissions-and-environment-variables)\n",
    "  2. [Prepare the data](#Prepare-the-data)\n",
    "3. [Training the model](#Training-the-model)\n",
    "  1. [Training parameters](#Training-parameters)\n",
    "  2. [Start the training](#Start-the-training)\n",
    "4. [Compile](#Compile)\n",
    "5. [Inference](#Inference)"
   ]
  },
  {
   "cell_type": "markdown",
   "metadata": {},
   "source": [
    "## Introduction\n",
    "\n",
    "Welcome to our end-to-end example of distributed image classification algorithm. In this demo, we will use the Amazon sagemaker image classification algorithm to train on the [caltech-256 dataset](http://www.vision.caltech.edu/Image_Datasets/Caltech256/). \n",
    "\n",
    "To get started, we need to set up the environment with a few prerequisite steps, for permissions, configurations, and so on."
   ]
  },
  {
   "cell_type": "markdown",
   "metadata": {},
   "source": [
    "## Prequisites and Preprocessing\n",
    "\n",
    "### Permissions and environment variables\n",
    "\n",
    "Here we set up the linkage and authentication to AWS services. There are three parts to this:\n",
    "\n",
    "* The roles used to give learning and hosting access to your data. This will automatically be obtained from the role used to start the notebook\n",
    "* The S3 bucket that you want to use for training and model data\n",
    "* The Amazon sagemaker image classification docker image which need not be changed"
   ]
  },
  {
   "cell_type": "code",
   "execution_count": 1,
   "metadata": {},
   "outputs": [
    {
     "name": "stdout",
     "output_type": "stream",
     "text": [
      "arn:aws:iam::736971507426:role/service-role/AmazonSageMaker-ExecutionRole-20200215T185837\n",
      "CPU times: user 716 ms, sys: 124 ms, total: 840 ms\n",
      "Wall time: 1.17 s\n"
     ]
    }
   ],
   "source": [
    "%%time\n",
    "import sagemaker\n",
    "from sagemaker import get_execution_role\n",
    "\n",
    "role = get_execution_role()\n",
    "print(role)\n",
    "\n",
    "sess = sagemaker.Session()\n",
    "bucket=sess.default_bucket()\n",
    "prefix = 'ic-fulltraining'"
   ]
  },
  {
   "cell_type": "code",
   "execution_count": 11,
   "metadata": {},
   "outputs": [
    {
     "name": "stdout",
     "output_type": "stream",
     "text": [
      "sagemaker-us-east-1-736971507426\n"
     ]
    }
   ],
   "source": [
    "print(bucket)"
   ]
  },
  {
   "cell_type": "code",
   "execution_count": 2,
   "metadata": {},
   "outputs": [
    {
     "name": "stdout",
     "output_type": "stream",
     "text": [
      "811284229777.dkr.ecr.us-east-1.amazonaws.com/image-classification:latest\n"
     ]
    }
   ],
   "source": [
    "from sagemaker.amazon.amazon_estimator import get_image_uri\n",
    "\n",
    "training_image = get_image_uri(sess.boto_region_name, 'image-classification', repo_version=\"latest\")\n",
    "print (training_image)"
   ]
  },
  {
   "cell_type": "markdown",
   "metadata": {},
   "source": [
    "### Data preparation\n",
    "Download the data and transfer to S3 for use in training. In this demo, we are using [Caltech-256](http://www.vision.caltech.edu/Image_Datasets/Caltech256/) dataset, which contains 30608 images of 256 objects. For the training and validation data, we follow the splitting scheme in this MXNet [example](https://github.com/apache/incubator-mxnet/blob/master/example/image-classification/data/caltech256.sh). In particular, it randomly selects 60 images per class for training, and uses the remaining data for validation. The algorithm takes `RecordIO` file as input. The user can also provide the image files as input, which will be converted into `RecordIO` format using MXNet's [im2rec](https://mxnet.incubator.apache.org/how_to/recordio.html?highlight=im2rec) tool. It takes around 50 seconds to converted the entire Caltech-256 dataset (~1.2GB) on a p2.xlarge instance. However, for this demo, we will use record io format. "
   ]
  },
  {
   "cell_type": "code",
   "execution_count": 3,
   "metadata": {},
   "outputs": [],
   "source": [
    "import os \n",
    "import urllib.request\n",
    "import boto3\n",
    "\n",
    "def download(url):\n",
    "    filename = url.split(\"/\")[-1]\n",
    "    if not os.path.exists(filename):\n",
    "        urllib.request.urlretrieve(url, filename)\n",
    "\n",
    "        \n",
    "def upload_to_s3(channel, file):\n",
    "    s3 = boto3.resource('s3')\n",
    "    data = open(file, \"rb\")\n",
    "    key = channel + '/' + file\n",
    "    s3.Bucket(bucket).put_object(Key=key, Body=data)\n",
    "\n",
    "\n",
    "# caltech-256\n",
    "download('http://data.mxnet.io/data/caltech-256/caltech-256-60-train.rec')\n",
    "download('http://data.mxnet.io/data/caltech-256/caltech-256-60-val.rec')"
   ]
  },
  {
   "cell_type": "code",
   "execution_count": 4,
   "metadata": {},
   "outputs": [],
   "source": [
    "# Four channels: train, validation, train_lst, and validation_lst\n",
    "s3train = 's3://{}/{}/train/'.format(bucket, prefix)\n",
    "s3validation = 's3://{}/{}/validation/'.format(bucket, prefix)\n",
    "\n",
    "# upload the lst files to train and validation channels\n",
    "!aws s3 cp caltech-256-60-train.rec $s3train --quiet\n",
    "!aws s3 cp caltech-256-60-val.rec $s3validation --quiet"
   ]
  },
  {
   "cell_type": "markdown",
   "metadata": {},
   "source": [
    "\n",
    "\n",
    "Once we have the data available in the correct format for training, the next step is to actually train the model using the data. After setting training parameters, we kick off training, and poll for status until training is completed.\n"
   ]
  },
  {
   "cell_type": "markdown",
   "metadata": {},
   "source": [
    "## Training the model\n",
    "\n",
    "Now that we are done with all the setup that is needed, we are ready to train our object detector. To begin, let us create a ``sageMaker.estimator.Estimator`` object. This estimator will launch the training job.\n",
    "### Training parameters\n",
    "There are two kinds of parameters that need to be set for training. The first one are the parameters for the training job. These include:\n",
    "\n",
    "* **Training instance count**: This is the number of instances on which to run the training. When the number of instances is greater than one, then the image classification algorithm will run in distributed settings. \n",
    "* **Training instance type**: This indicates the type of machine on which to run the training. Typically, we use GPU instances for these training \n",
    "* **Output path**: This the s3 folder in which the training output is stored\n"
   ]
  },
  {
   "cell_type": "code",
   "execution_count": 5,
   "metadata": {},
   "outputs": [],
   "source": [
    "s3_output_location = 's3://{}/{}/output'.format(bucket, prefix)\n",
    "ic = sagemaker.estimator.Estimator(training_image,\n",
    "                                         role, \n",
    "                                         train_instance_count=1, \n",
    "                                         train_instance_type='ml.p2.xlarge',\n",
    "                                         train_volume_size = 50,\n",
    "                                         train_max_run = 360000,\n",
    "                                         input_mode= 'File',\n",
    "                                         output_path=s3_output_location,\n",
    "                                         sagemaker_session=sess)"
   ]
  },
  {
   "cell_type": "markdown",
   "metadata": {},
   "source": [
    "Apart from the above set of parameters, there are hyperparameters that are specific to the algorithm. These are:\n",
    "\n",
    "* **num_layers**: The number of layers (depth) for the network. We use 18 in this samples but other values such as 50, 152 can be used.\n",
    "* **image_shape**: The input image dimensions,'num_channels, height, width', for the network. It should be no larger than the actual image size. The number of channels should be same as the actual image.\n",
    "* **num_classes**: This is the number of output classes for the new dataset. Imagenet was trained with 1000 output classes but the number of output classes can be changed for fine-tuning. For caltech, we use 257 because it has 256 object categories + 1 clutter class.\n",
    "* **num_training_samples**: This is the total number of training samples. It is set to 15240 for caltech dataset with the current split.\n",
    "* **mini_batch_size**: The number of training samples used for each mini batch. In distributed training, the number of training samples used per batch will be N * mini_batch_size where N is the number of hosts on which training is run.\n",
    "* **epochs**: Number of training epochs.\n",
    "* **learning_rate**: Learning rate for training.\n",
    "* **top_k**: Report the top-k accuracy during training.\n",
    "* **precision_dtype**: Training datatype precision (default: float32). If set to 'float16', the training will be done in mixed_precision mode and will be faster than float32 mode\n"
   ]
  },
  {
   "cell_type": "code",
   "execution_count": 6,
   "metadata": {},
   "outputs": [],
   "source": [
    "ic.set_hyperparameters(num_layers=18,\n",
    "                             image_shape = \"3,224,224\",\n",
    "                             num_classes=257,\n",
    "                             num_training_samples=15420,\n",
    "                             mini_batch_size=128,\n",
    "                             epochs=5,\n",
    "                             learning_rate=0.01,\n",
    "                             top_k=2,\n",
    "                             precision_dtype='float32')"
   ]
  },
  {
   "cell_type": "markdown",
   "metadata": {},
   "source": [
    "## Input data specification\n",
    "Set the data type and channels used for training"
   ]
  },
  {
   "cell_type": "code",
   "execution_count": 7,
   "metadata": {},
   "outputs": [],
   "source": [
    "train_data = sagemaker.session.s3_input(s3train, distribution='FullyReplicated', \n",
    "                        content_type='application/x-recordio', s3_data_type='S3Prefix')\n",
    "validation_data = sagemaker.session.s3_input(s3validation, distribution='FullyReplicated', \n",
    "                             content_type='application/x-recordio', s3_data_type='S3Prefix')\n",
    "\n",
    "data_channels = {'train': train_data, 'validation': validation_data}"
   ]
  },
  {
   "cell_type": "markdown",
   "metadata": {},
   "source": [
    "## Start the training\n",
    "Start training by calling the fit method in the estimator"
   ]
  },
  {
   "cell_type": "code",
   "execution_count": 8,
   "metadata": {
    "scrolled": true
   },
   "outputs": [
    {
     "name": "stdout",
     "output_type": "stream",
     "text": [
      "2020-02-22 19:27:56 Starting - Starting the training job...\n",
      "2020-02-22 19:27:57 Starting - Launching requested ML instances.........\n",
      "2020-02-22 19:29:28 Starting - Preparing the instances for training.........\n",
      "2020-02-22 19:31:04 Downloading - Downloading input data......\n",
      "2020-02-22 19:32:07 Training - Downloading the training image..\u001b[34mDocker entrypoint called with argument(s): train\u001b[0m\n",
      "\u001b[34m[02/22/2020 19:32:34 INFO 139909030983488] Reading default configuration from /opt/amazon/lib/python2.7/site-packages/image_classification/default-input.json: {u'beta_1': 0.9, u'gamma': 0.9, u'beta_2': 0.999, u'optimizer': u'sgd', u'use_pretrained_model': 0, u'eps': 1e-08, u'epochs': 30, u'lr_scheduler_factor': 0.1, u'num_layers': 152, u'image_shape': u'3,224,224', u'precision_dtype': u'float32', u'mini_batch_size': 32, u'weight_decay': 0.0001, u'learning_rate': 0.1, u'momentum': 0}\u001b[0m\n",
      "\u001b[34m[02/22/2020 19:32:34 INFO 139909030983488] Merging with provided configuration from /opt/ml/input/config/hyperparameters.json: {u'learning_rate': u'0.01', u'top_k': u'2', u'precision_dtype': u'float32', u'epochs': u'5', u'num_training_samples': u'15420', u'num_layers': u'18', u'mini_batch_size': u'128', u'image_shape': u'3,224,224', u'num_classes': u'257'}\u001b[0m\n",
      "\u001b[34m[02/22/2020 19:32:34 INFO 139909030983488] Final configuration: {u'top_k': u'2', u'optimizer': u'sgd', u'learning_rate': u'0.01', u'epochs': u'5', u'lr_scheduler_factor': 0.1, u'num_layers': u'18', u'precision_dtype': u'float32', u'mini_batch_size': u'128', u'num_classes': u'257', u'beta_1': 0.9, u'beta_2': 0.999, u'use_pretrained_model': 0, u'eps': 1e-08, u'weight_decay': 0.0001, u'momentum': 0, u'image_shape': u'3,224,224', u'gamma': 0.9, u'num_training_samples': u'15420'}\u001b[0m\n",
      "\u001b[34m[02/22/2020 19:32:34 INFO 139909030983488] Searching for .rec files in /opt/ml/input/data/train.\u001b[0m\n",
      "\u001b[34m[02/22/2020 19:32:34 INFO 139909030983488] Searching for .rec files in /opt/ml/input/data/validation.\u001b[0m\n",
      "\u001b[34m[02/22/2020 19:32:34 INFO 139909030983488] use_pretrained_model: 0\u001b[0m\n",
      "\u001b[34m[02/22/2020 19:32:34 INFO 139909030983488] multi_label: 0\u001b[0m\n",
      "\u001b[34m[02/22/2020 19:32:34 INFO 139909030983488] Performing random weight initialization\u001b[0m\n",
      "\u001b[34m[02/22/2020 19:32:34 INFO 139909030983488] ---- Parameters ----\u001b[0m\n",
      "\u001b[34m[02/22/2020 19:32:34 INFO 139909030983488] num_layers: 18\u001b[0m\n",
      "\u001b[34m[02/22/2020 19:32:34 INFO 139909030983488] data type: <type 'numpy.float32'>\u001b[0m\n",
      "\u001b[34m[02/22/2020 19:32:34 INFO 139909030983488] epochs: 5\u001b[0m\n",
      "\u001b[34m[02/22/2020 19:32:34 INFO 139909030983488] optimizer: sgd\u001b[0m\n",
      "\u001b[34m[02/22/2020 19:32:34 INFO 139909030983488] momentum: 0.9\u001b[0m\n",
      "\u001b[34m[02/22/2020 19:32:34 INFO 139909030983488] weight_decay: 0.0001\u001b[0m\n",
      "\u001b[34m[02/22/2020 19:32:34 INFO 139909030983488] learning_rate: 0.01\u001b[0m\n",
      "\u001b[34m[02/22/2020 19:32:34 INFO 139909030983488] num_training_samples: 15420\u001b[0m\n",
      "\u001b[34m[02/22/2020 19:32:34 INFO 139909030983488] mini_batch_size: 128\u001b[0m\n",
      "\u001b[34m[02/22/2020 19:32:34 INFO 139909030983488] image_shape: 3,224,224\u001b[0m\n",
      "\u001b[34m[02/22/2020 19:32:34 INFO 139909030983488] num_classes: 257\u001b[0m\n",
      "\u001b[34m[02/22/2020 19:32:34 INFO 139909030983488] augmentation_type: None\u001b[0m\n",
      "\u001b[34m[02/22/2020 19:32:34 INFO 139909030983488] kv_store: device\u001b[0m\n",
      "\u001b[34m[02/22/2020 19:32:34 INFO 139909030983488] top_k: 2\u001b[0m\n",
      "\u001b[34m[02/22/2020 19:32:34 INFO 139909030983488] checkpoint_frequency not set, will store the best model\u001b[0m\n",
      "\u001b[34m[02/22/2020 19:32:34 INFO 139909030983488] --------------------\u001b[0m\n",
      "\u001b[34m[02/22/2020 19:32:34 INFO 139909030983488] Setting number of threads: 3\u001b[0m\n",
      "\n",
      "2020-02-22 19:32:31 Training - Training image download completed. Training in progress.\u001b[34m[19:32:43] /opt/brazil-pkg-cache/packages/AIAlgorithmsMXNet/AIAlgorithmsMXNet-1.3.x_ecl_Cuda_10.1.x.1888.0/AL2012/generic-flavor/src/src/operator/nn/./cudnn/./cudnn_algoreg-inl.h:97: Running performance tests to find the best convolution algorithm, this can take a while... (setting env variable MXNET_CUDNN_AUTOTUNE_DEFAULT to 0 to disable)\u001b[0m\n",
      "\u001b[34m[02/22/2020 19:33:03 INFO 139909030983488] Epoch[0] Batch [20]#011Speed: 119.118 samples/sec#011accuracy=0.005208#011top_k_accuracy_2=0.011533\u001b[0m\n",
      "\u001b[34m[02/22/2020 19:33:18 INFO 139909030983488] Epoch[0] Batch [40]#011Speed: 140.436 samples/sec#011accuracy=0.009909#011top_k_accuracy_2=0.018483\u001b[0m\n",
      "\u001b[34m[02/22/2020 19:33:33 INFO 139909030983488] Epoch[0] Batch [60]#011Speed: 149.140 samples/sec#011accuracy=0.015753#011top_k_accuracy_2=0.025871\u001b[0m\n",
      "\u001b[34m[02/22/2020 19:33:48 INFO 139909030983488] Epoch[0] Batch [80]#011Speed: 153.799 samples/sec#011accuracy=0.019579#011top_k_accuracy_2=0.032697\u001b[0m\n",
      "\u001b[34m[02/22/2020 19:34:04 INFO 139909030983488] Epoch[0] Batch [100]#011Speed: 156.668 samples/sec#011accuracy=0.024598#011top_k_accuracy_2=0.039372\u001b[0m\n",
      "\u001b[34m[02/22/2020 19:34:18 INFO 139909030983488] Epoch[0] Train-accuracy=0.028125\u001b[0m\n",
      "\u001b[34m[02/22/2020 19:34:18 INFO 139909030983488] Epoch[0] Train-top_k_accuracy_2=0.045117\u001b[0m\n",
      "\u001b[34m[02/22/2020 19:34:18 INFO 139909030983488] Epoch[0] Time cost=96.079\u001b[0m\n",
      "\u001b[34m[02/22/2020 19:34:47 INFO 139909030983488] Epoch[0] Validation-accuracy=0.057642\u001b[0m\n",
      "\u001b[34m[02/22/2020 19:34:47 INFO 139909030983488] Storing the best model with validation accuracy: 0.057642\u001b[0m\n",
      "\u001b[34m[02/22/2020 19:34:47 INFO 139909030983488] Saved checkpoint to \"/opt/ml/model/image-classification-0001.params\"\u001b[0m\n",
      "\u001b[34m[02/22/2020 19:35:02 INFO 139909030983488] Epoch[1] Batch [20]#011Speed: 166.195 samples/sec#011accuracy=0.050967#011top_k_accuracy_2=0.086682\u001b[0m\n",
      "\u001b[34m[02/22/2020 19:35:18 INFO 139909030983488] Epoch[1] Batch [40]#011Speed: 167.436 samples/sec#011accuracy=0.053544#011top_k_accuracy_2=0.089939\u001b[0m\n",
      "\u001b[34m[02/22/2020 19:35:33 INFO 139909030983488] Epoch[1] Batch [60]#011Speed: 167.745 samples/sec#011accuracy=0.056737#011top_k_accuracy_2=0.091573\u001b[0m\n",
      "\u001b[34m[02/22/2020 19:35:48 INFO 139909030983488] Epoch[1] Batch [80]#011Speed: 167.937 samples/sec#011accuracy=0.063272#011top_k_accuracy_2=0.100212\u001b[0m\n",
      "\u001b[34m[02/22/2020 19:36:03 INFO 139909030983488] Epoch[1] Batch [100]#011Speed: 168.036 samples/sec#011accuracy=0.066677#011top_k_accuracy_2=0.103651\u001b[0m\n",
      "\u001b[34m[02/22/2020 19:36:18 INFO 139909030983488] Epoch[1] Train-accuracy=0.070898\u001b[0m\n",
      "\u001b[34m[02/22/2020 19:36:18 INFO 139909030983488] Epoch[1] Train-top_k_accuracy_2=0.108724\u001b[0m\n",
      "\u001b[34m[02/22/2020 19:36:18 INFO 139909030983488] Epoch[1] Time cost=90.606\u001b[0m\n",
      "\u001b[34m[02/22/2020 19:36:45 INFO 139909030983488] Epoch[1] Validation-accuracy=0.113774\u001b[0m\n",
      "\u001b[34m[02/22/2020 19:36:45 INFO 139909030983488] Storing the best model with validation accuracy: 0.113774\u001b[0m\n",
      "\u001b[34m[02/22/2020 19:36:45 INFO 139909030983488] Saved checkpoint to \"/opt/ml/model/image-classification-0002.params\"\u001b[0m\n",
      "\u001b[34m[02/22/2020 19:37:01 INFO 139909030983488] Epoch[2] Batch [20]#011Speed: 165.895 samples/sec#011accuracy=0.085938#011top_k_accuracy_2=0.132812\u001b[0m\n",
      "\u001b[34m[02/22/2020 19:37:16 INFO 139909030983488] Epoch[2] Batch [40]#011Speed: 167.208 samples/sec#011accuracy=0.089558#011top_k_accuracy_2=0.134146\u001b[0m\n",
      "\u001b[34m[02/22/2020 19:37:31 INFO 139909030983488] Epoch[2] Batch [60]#011Speed: 167.635 samples/sec#011accuracy=0.092469#011top_k_accuracy_2=0.140753\u001b[0m\n",
      "\u001b[34m[02/22/2020 19:37:46 INFO 139909030983488] Epoch[2] Batch [80]#011Speed: 167.808 samples/sec#011accuracy=0.099633#011top_k_accuracy_2=0.149788\u001b[0m\n",
      "\u001b[34m[02/22/2020 19:38:01 INFO 139909030983488] Epoch[2] Batch [100]#011Speed: 167.944 samples/sec#011accuracy=0.102104#011top_k_accuracy_2=0.152073\u001b[0m\n",
      "\u001b[34m[02/22/2020 19:38:16 INFO 139909030983488] Epoch[2] Train-accuracy=0.104753\u001b[0m\n",
      "\u001b[34m[02/22/2020 19:38:16 INFO 139909030983488] Epoch[2] Train-top_k_accuracy_2=0.155729\u001b[0m\n",
      "\u001b[34m[02/22/2020 19:38:16 INFO 139909030983488] Epoch[2] Time cost=90.656\u001b[0m\n",
      "\u001b[34m[02/22/2020 19:38:43 INFO 139909030983488] Epoch[2] Validation-accuracy=0.157905\u001b[0m\n",
      "\u001b[34m[02/22/2020 19:38:43 INFO 139909030983488] Storing the best model with validation accuracy: 0.157905\u001b[0m\n",
      "\u001b[34m[02/22/2020 19:38:44 INFO 139909030983488] Saved checkpoint to \"/opt/ml/model/image-classification-0003.params\"\u001b[0m\n",
      "\u001b[34m[02/22/2020 19:38:59 INFO 139909030983488] Epoch[3] Batch [20]#011Speed: 165.595 samples/sec#011accuracy=0.119048#011top_k_accuracy_2=0.177083\u001b[0m\n",
      "\u001b[34m[02/22/2020 19:39:14 INFO 139909030983488] Epoch[3] Batch [40]#011Speed: 166.961 samples/sec#011accuracy=0.120808#011top_k_accuracy_2=0.178163\u001b[0m\n",
      "\u001b[34m[02/22/2020 19:39:29 INFO 139909030983488] Epoch[3] Batch [60]#011Speed: 167.447 samples/sec#011accuracy=0.125128#011top_k_accuracy_2=0.184810\u001b[0m\n",
      "\u001b[34m[02/22/2020 19:39:45 INFO 139909030983488] Epoch[3] Batch [80]#011Speed: 167.646 samples/sec#011accuracy=0.130980#011top_k_accuracy_2=0.195120\u001b[0m\n",
      "\u001b[34m[02/22/2020 19:40:00 INFO 139909030983488] Epoch[3] Batch [100]#011Speed: 167.772 samples/sec#011accuracy=0.132967#011top_k_accuracy_2=0.196318\u001b[0m\n",
      "\u001b[34m[02/22/2020 19:40:14 INFO 139909030983488] Epoch[3] Train-accuracy=0.136914\u001b[0m\n",
      "\u001b[34m[02/22/2020 19:40:14 INFO 139909030983488] Epoch[3] Train-top_k_accuracy_2=0.201042\u001b[0m\n",
      "\u001b[34m[02/22/2020 19:40:14 INFO 139909030983488] Epoch[3] Time cost=90.733\u001b[0m\n",
      "\u001b[34m[02/22/2020 19:40:42 INFO 139909030983488] Epoch[3] Validation-accuracy=0.176668\u001b[0m\n",
      "\u001b[34m[02/22/2020 19:40:42 INFO 139909030983488] Storing the best model with validation accuracy: 0.176668\u001b[0m\n",
      "\u001b[34m[02/22/2020 19:40:42 INFO 139909030983488] Saved checkpoint to \"/opt/ml/model/image-classification-0004.params\"\u001b[0m\n",
      "\u001b[34m[02/22/2020 19:40:58 INFO 139909030983488] Epoch[4] Batch [20]#011Speed: 165.704 samples/sec#011accuracy=0.149554#011top_k_accuracy_2=0.214286\u001b[0m\n",
      "\u001b[34m[02/22/2020 19:41:13 INFO 139909030983488] Epoch[4] Batch [40]#011Speed: 166.959 samples/sec#011accuracy=0.151105#011top_k_accuracy_2=0.214939\u001b[0m\n",
      "\u001b[34m[02/22/2020 19:41:28 INFO 139909030983488] Epoch[4] Batch [60]#011Speed: 167.418 samples/sec#011accuracy=0.156506#011top_k_accuracy_2=0.223745\u001b[0m\n",
      "\u001b[34m[02/22/2020 19:41:43 INFO 139909030983488] Epoch[4] Batch [80]#011Speed: 167.629 samples/sec#011accuracy=0.164255#011top_k_accuracy_2=0.234182\u001b[0m\n",
      "\u001b[34m[02/22/2020 19:41:58 INFO 139909030983488] Epoch[4] Batch [100]#011Speed: 167.778 samples/sec#011accuracy=0.164372#011top_k_accuracy_2=0.234298\u001b[0m\n",
      "\u001b[34m[02/22/2020 19:42:13 INFO 139909030983488] Epoch[4] Train-accuracy=0.168490\u001b[0m\n",
      "\u001b[34m[02/22/2020 19:42:13 INFO 139909030983488] Epoch[4] Train-top_k_accuracy_2=0.240560\u001b[0m\n",
      "\u001b[34m[02/22/2020 19:42:13 INFO 139909030983488] Epoch[4] Time cost=90.732\u001b[0m\n",
      "\u001b[34m[02/22/2020 19:42:40 INFO 139909030983488] Epoch[4] Validation-accuracy=0.199908\u001b[0m\n",
      "\u001b[34m[02/22/2020 19:42:40 INFO 139909030983488] Storing the best model with validation accuracy: 0.199908\u001b[0m\n",
      "\u001b[34m[02/22/2020 19:42:41 INFO 139909030983488] Saved checkpoint to \"/opt/ml/model/image-classification-0005.params\"\u001b[0m\n",
      "\n",
      "2020-02-22 19:42:54 Uploading - Uploading generated training model\n",
      "2020-02-22 19:42:54 Completed - Training job completed\n",
      "Training seconds: 710\n",
      "Billable seconds: 710\n"
     ]
    }
   ],
   "source": [
    "ic.fit(inputs=data_channels, logs=True)"
   ]
  },
  {
   "cell_type": "markdown",
   "metadata": {},
   "source": [
    "# Compile\n",
    "\n",
    "***\n",
    "\n",
    "[Amazon SageMaker Neo](https://aws.amazon.com/sagemaker/neo/) optimizes models to run up to twice as fast, with no loss in accuracy. When calling `compile_model()` function, we specify the target instance family (m4) as well as the S3 bucket to which the compiled model would be stored."
   ]
  },
  {
   "cell_type": "code",
   "execution_count": 9,
   "metadata": {},
   "outputs": [
    {
     "name": "stdout",
     "output_type": "stream",
     "text": [
      "?............!"
     ]
    }
   ],
   "source": [
    "optimized_ic = ic\n",
    "try:\n",
    "    ic.create_model()._neo_image_account(boto3.Session().region_name)\n",
    "except:\n",
    "    print('Neo is not currently supported in', boto3.Session().region_name)\n",
    "else:\n",
    "    output_path = '/'.join(ic.output_path.split('/')[:-1])\n",
    "    optimized_ic = ic.compile_model(target_instance_family='ml_m4', \n",
    "                                input_shape={'data':[1, 3, 224, 224]},  # Batch size 1, 3 channels, 224x224 Images.\n",
    "                                output_path=output_path,\n",
    "                                framework='mxnet', framework_version='1.2.1')\n",
    "    optimized_ic.image = get_image_uri(sess.boto_region_name, 'image-classification-neo', repo_version=\"latest\")\n",
    "    optimized_ic.name = 'deployed-image-classification'\n",
    "    "
   ]
  },
  {
   "cell_type": "markdown",
   "metadata": {},
   "source": [
    "# Inference\n",
    "\n",
    "***\n",
    "\n",
    "A trained model does nothing on its own. We now want to use the model to perform inference. For this example, that means predicting the topic mixture representing a given document. You can deploy the created model by using the deploy method in the estimator"
   ]
  },
  {
   "cell_type": "code",
   "execution_count": 10,
   "metadata": {},
   "outputs": [
    {
     "name": "stdout",
     "output_type": "stream",
     "text": [
      "-------------------!"
     ]
    }
   ],
   "source": [
    "ic_classifier = optimized_ic.deploy(initial_instance_count = 1,\n",
    "                                          instance_type = 'ml.m4.xlarge')"
   ]
  },
  {
   "cell_type": "markdown",
   "metadata": {},
   "source": [
    "### Download test image"
   ]
  },
  {
   "cell_type": "code",
   "execution_count": null,
   "metadata": {},
   "outputs": [],
   "source": [
    "!wget -O /tmp/test.jpg http://www.vision.caltech.edu/Image_Datasets/Caltech256/images/008.bathtub/008_0007.jpg\n",
    "file_name = '/tmp/test.jpg'\n",
    "# test image\n",
    "from IPython.display import Image\n",
    "Image(file_name)  "
   ]
  },
  {
   "cell_type": "markdown",
   "metadata": {},
   "source": [
    "### Evaluation\n",
    "\n",
    "Evaluate the image through the network for inteference. The network outputs class probabilities and typically, one selects the class with the maximum probability as the final class output.\n",
    "\n",
    "**Note:** The output class detected by the network may not be accurate in this example. To limit the time taken and cost of training, we have trained the model only for 5 epochs. If the network is trained for more epochs (say 20), then the output class will be more accurate."
   ]
  },
  {
   "cell_type": "code",
   "execution_count": null,
   "metadata": {},
   "outputs": [],
   "source": [
    "import json\n",
    "import numpy as np\n",
    "\n",
    "with open(file_name, 'rb') as f:\n",
    "    payload = f.read()\n",
    "    payload = bytearray(payload)\n",
    "    \n",
    "ic_classifier.content_type = 'application/x-image'\n",
    "result = json.loads(ic_classifier.predict(payload))\n",
    "# the result will output the probabilities for all classes\n",
    "# find the class with maximum probability and print the class index\n",
    "index = np.argmax(result)\n",
    "object_categories = ['ak47', 'american-flag', 'backpack', 'baseball-bat', 'baseball-glove', 'basketball-hoop', 'bat', 'bathtub', 'bear', 'beer-mug', 'billiards', 'binoculars', 'birdbath', 'blimp', 'bonsai-101', 'boom-box', 'bowling-ball', 'bowling-pin', 'boxing-glove', 'brain-101', 'breadmaker', 'buddha-101', 'bulldozer', 'butterfly', 'cactus', 'cake', 'calculator', 'camel', 'cannon', 'canoe', 'car-tire', 'cartman', 'cd', 'centipede', 'cereal-box', 'chandelier-101', 'chess-board', 'chimp', 'chopsticks', 'cockroach', 'coffee-mug', 'coffin', 'coin', 'comet', 'computer-keyboard', 'computer-monitor', 'computer-mouse', 'conch', 'cormorant', 'covered-wagon', 'cowboy-hat', 'crab-101', 'desk-globe', 'diamond-ring', 'dice', 'dog', 'dolphin-101', 'doorknob', 'drinking-straw', 'duck', 'dumb-bell', 'eiffel-tower', 'electric-guitar-101', 'elephant-101', 'elk', 'ewer-101', 'eyeglasses', 'fern', 'fighter-jet', 'fire-extinguisher', 'fire-hydrant', 'fire-truck', 'fireworks', 'flashlight', 'floppy-disk', 'football-helmet', 'french-horn', 'fried-egg', 'frisbee', 'frog', 'frying-pan', 'galaxy', 'gas-pump', 'giraffe', 'goat', 'golden-gate-bridge', 'goldfish', 'golf-ball', 'goose', 'gorilla', 'grand-piano-101', 'grapes', 'grasshopper', 'guitar-pick', 'hamburger', 'hammock', 'harmonica', 'harp', 'harpsichord', 'hawksbill-101', 'head-phones', 'helicopter-101', 'hibiscus', 'homer-simpson', 'horse', 'horseshoe-crab', 'hot-air-balloon', 'hot-dog', 'hot-tub', 'hourglass', 'house-fly', 'human-skeleton', 'hummingbird', 'ibis-101', 'ice-cream-cone', 'iguana', 'ipod', 'iris', 'jesus-christ', 'joy-stick', 'kangaroo-101', 'kayak', 'ketch-101', 'killer-whale', 'knife', 'ladder', 'laptop-101', 'lathe', 'leopards-101', 'license-plate', 'lightbulb', 'light-house', 'lightning', 'llama-101', 'mailbox', 'mandolin', 'mars', 'mattress', 'megaphone', 'menorah-101', 'microscope', 'microwave', 'minaret', 'minotaur', 'motorbikes-101', 'mountain-bike', 'mushroom', 'mussels', 'necktie', 'octopus', 'ostrich', 'owl', 'palm-pilot', 'palm-tree', 'paperclip', 'paper-shredder', 'pci-card', 'penguin', 'people', 'pez-dispenser', 'photocopier', 'picnic-table', 'playing-card', 'porcupine', 'pram', 'praying-mantis', 'pyramid', 'raccoon', 'radio-telescope', 'rainbow', 'refrigerator', 'revolver-101', 'rifle', 'rotary-phone', 'roulette-wheel', 'saddle', 'saturn', 'school-bus', 'scorpion-101', 'screwdriver', 'segway', 'self-propelled-lawn-mower', 'sextant', 'sheet-music', 'skateboard', 'skunk', 'skyscraper', 'smokestack', 'snail', 'snake', 'sneaker', 'snowmobile', 'soccer-ball', 'socks', 'soda-can', 'spaghetti', 'speed-boat', 'spider', 'spoon', 'stained-glass', 'starfish-101', 'steering-wheel', 'stirrups', 'sunflower-101', 'superman', 'sushi', 'swan', 'swiss-army-knife', 'sword', 'syringe', 'tambourine', 'teapot', 'teddy-bear', 'teepee', 'telephone-box', 'tennis-ball', 'tennis-court', 'tennis-racket', 'theodolite', 'toaster', 'tomato', 'tombstone', 'top-hat', 'touring-bike', 'tower-pisa', 'traffic-light', 'treadmill', 'triceratops', 'tricycle', 'trilobite-101', 'tripod', 't-shirt', 'tuning-fork', 'tweezer', 'umbrella-101', 'unicorn', 'vcr', 'video-projector', 'washing-machine', 'watch-101', 'waterfall', 'watermelon', 'welding-mask', 'wheelbarrow', 'windmill', 'wine-bottle', 'xylophone', 'yarmulke', 'yo-yo', 'zebra', 'airplanes-101', 'car-side-101', 'faces-easy-101', 'greyhound', 'tennis-shoes', 'toad', 'clutter']\n",
    "print(\"Result: label - \" + object_categories[index] + \", probability - \" + str(result[index]))"
   ]
  },
  {
   "cell_type": "markdown",
   "metadata": {},
   "source": [
    "### Clean up\n",
    "\n",
    "\n",
    "When we're done with the endpoint, we can just delete it and the backing instances will be released. Uncomment and run the following cell to delete the endpoint and model"
   ]
  },
  {
   "cell_type": "code",
   "execution_count": null,
   "metadata": {},
   "outputs": [],
   "source": [
    "ic_classifier.delete_endpoint()"
   ]
  },
  {
   "cell_type": "code",
   "execution_count": null,
   "metadata": {},
   "outputs": [],
   "source": []
  }
 ],
 "metadata": {
  "kernelspec": {
   "display_name": "conda_mxnet_p36",
   "language": "python",
   "name": "conda_mxnet_p36"
  },
  "language_info": {
   "codemirror_mode": {
    "name": "ipython",
    "version": 3
   },
   "file_extension": ".py",
   "mimetype": "text/x-python",
   "name": "python",
   "nbconvert_exporter": "python",
   "pygments_lexer": "ipython3",
   "version": "3.6.5"
  },
  "notice": "Copyright 2018 Amazon.com, Inc. or its affiliates. All Rights Reserved.  Licensed under the Apache License, Version 2.0 (the \"License\"). You may not use this file except in compliance with the License. A copy of the License is located at http://aws.amazon.com/apache2.0/ or in the \"license\" file accompanying this file. This file is distributed on an \"AS IS\" BASIS, WITHOUT WARRANTIES OR CONDITIONS OF ANY KIND, either express or implied. See the License for the specific language governing permissions and limitations under the License."
 },
 "nbformat": 4,
 "nbformat_minor": 4
}
