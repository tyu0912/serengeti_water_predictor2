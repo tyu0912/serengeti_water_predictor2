{
 "cells": [
  {
   "cell_type": "code",
   "execution_count": 2,
   "metadata": {},
   "outputs": [
    {
     "name": "stderr",
     "output_type": "stream",
     "text": [
      "C:\\Users\\tyu\\Miniconda3\\envs\\capstone\\lib\\site-packages\\ipykernel_launcher.py:28: FutureWarning: pandas.io.json.json_normalize is deprecated, use pandas.json_normalize instead\n"
     ]
    },
    {
     "data": {
      "text/html": [
       "<div>\n",
       "<style scoped>\n",
       "    .dataframe tbody tr th:only-of-type {\n",
       "        vertical-align: middle;\n",
       "    }\n",
       "\n",
       "    .dataframe tbody tr th {\n",
       "        vertical-align: top;\n",
       "    }\n",
       "\n",
       "    .dataframe thead th {\n",
       "        text-align: right;\n",
       "    }\n",
       "</style>\n",
       "<table border=\"1\" class=\"dataframe\">\n",
       "  <thead>\n",
       "    <tr style=\"text-align: right;\">\n",
       "      <th></th>\n",
       "      <th>weather</th>\n",
       "      <th>base</th>\n",
       "      <th>visibility</th>\n",
       "      <th>dt</th>\n",
       "      <th>timezone</th>\n",
       "      <th>id</th>\n",
       "      <th>name</th>\n",
       "      <th>cod</th>\n",
       "      <th>coord.lon</th>\n",
       "      <th>coord.lat</th>\n",
       "      <th>...</th>\n",
       "      <th>wind.speed</th>\n",
       "      <th>wind.deg</th>\n",
       "      <th>wind.gust</th>\n",
       "      <th>clouds.all</th>\n",
       "      <th>sys.type</th>\n",
       "      <th>sys.id</th>\n",
       "      <th>sys.country</th>\n",
       "      <th>sys.sunrise</th>\n",
       "      <th>sys.sunset</th>\n",
       "      <th>DTG</th>\n",
       "    </tr>\n",
       "  </thead>\n",
       "  <tbody>\n",
       "    <tr>\n",
       "      <th>0</th>\n",
       "      <td>[{'id': 800, 'main': 'Clear', 'description': '...</td>\n",
       "      <td>stations</td>\n",
       "      <td>16093</td>\n",
       "      <td>1580856335</td>\n",
       "      <td>-28800</td>\n",
       "      <td>5361384</td>\n",
       "      <td>Julian</td>\n",
       "      <td>200</td>\n",
       "      <td>-116.52</td>\n",
       "      <td>33.05</td>\n",
       "      <td>...</td>\n",
       "      <td>12.75</td>\n",
       "      <td>350</td>\n",
       "      <td>24.16</td>\n",
       "      <td>1</td>\n",
       "      <td>1</td>\n",
       "      <td>4635</td>\n",
       "      <td>US</td>\n",
       "      <td>1580827176</td>\n",
       "      <td>1580865619</td>\n",
       "      <td>04 Feb 2020 - 02:45 PM</td>\n",
       "    </tr>\n",
       "  </tbody>\n",
       "</table>\n",
       "<p>1 rows × 26 columns</p>\n",
       "</div>"
      ],
      "text/plain": [
       "                                             weather      base  visibility  \\\n",
       "0  [{'id': 800, 'main': 'Clear', 'description': '...  stations       16093   \n",
       "\n",
       "           dt  timezone       id    name  cod  coord.lon  coord.lat  ...  \\\n",
       "0  1580856335    -28800  5361384  Julian  200    -116.52      33.05  ...   \n",
       "\n",
       "   wind.speed  wind.deg  wind.gust  clouds.all  sys.type  sys.id  sys.country  \\\n",
       "0       12.75       350      24.16           1         1    4635           US   \n",
       "\n",
       "   sys.sunrise  sys.sunset                     DTG  \n",
       "0   1580827176  1580865619  04 Feb 2020 - 02:45 PM  \n",
       "\n",
       "[1 rows x 26 columns]"
      ]
     },
     "execution_count": 2,
     "metadata": {},
     "output_type": "execute_result"
    }
   ],
   "source": [
    "import requests\n",
    "import urllib\n",
    "import pandas as pd\n",
    "from html.parser import HTMLParser\n",
    "import os\n",
    "import json\n",
    "import datetime\n",
    "from pandas.io.json import json_normalize\n",
    "\n",
    "coords = [[33.050184, -116.524317]]\n",
    "weather_df = pd.DataFrame(coords, columns = ['lat', 'lon']) \n",
    "\n",
    "api='27602826f29a264cad7a066797132bae'\n",
    "\n",
    "rows = []\n",
    "columns=['lat','lon','tempF','conditions','description','max_tempF','min_tempF']\n",
    "weather_df.loc[0,'lat']\n",
    "\n",
    "def time_converter(time):\n",
    "    converted_time = datetime.datetime.fromtimestamp(int(time)).strftime('%d %b %Y - %I:%M %p')\n",
    "    \n",
    "    return converted_time\n",
    "    \n",
    "    \n",
    "url = 'http://api.openweathermap.org/data/2.5/weather?lat=' + str(weather_df.loc[0,'lat']) + '&lon=' + str(weather_df.loc[0,'lon']) + '&units=imperial&appid=' + api\n",
    "weather_r=requests.get(url)\n",
    "weather_j=weather_r.json()\n",
    "weather_df = pd.DataFrame.from_dict(json_normalize(weather_j), orient='columns')\n",
    "weather_df['DTG'] = time_converter(weather_df['dt'])\n",
    "weather_df"
   ]
  },
  {
   "cell_type": "code",
   "execution_count": 3,
   "metadata": {},
   "outputs": [
    {
     "data": {
      "text/plain": [
       "Index(['weather', 'base', 'visibility', 'dt', 'timezone', 'id', 'name', 'cod',\n",
       "       'coord.lon', 'coord.lat', 'main.temp', 'main.feels_like',\n",
       "       'main.temp_min', 'main.temp_max', 'main.pressure', 'main.humidity',\n",
       "       'wind.speed', 'wind.deg', 'wind.gust', 'clouds.all', 'sys.type',\n",
       "       'sys.id', 'sys.country', 'sys.sunrise', 'sys.sunset', 'DTG'],\n",
       "      dtype='object')"
      ]
     },
     "execution_count": 3,
     "metadata": {},
     "output_type": "execute_result"
    }
   ],
   "source": [
    "weather_df.columns"
   ]
  },
  {
   "cell_type": "code",
   "execution_count": null,
   "metadata": {},
   "outputs": [],
   "source": []
  }
 ],
 "metadata": {
  "kernelspec": {
   "display_name": "capstone",
   "language": "python",
   "name": "capstone"
  },
  "language_info": {
   "codemirror_mode": {
    "name": "ipython",
    "version": 3
   },
   "file_extension": ".py",
   "mimetype": "text/x-python",
   "name": "python",
   "nbconvert_exporter": "python",
   "pygments_lexer": "ipython3",
   "version": "3.7.6"
  }
 },
 "nbformat": 4,
 "nbformat_minor": 4
}
